{
 "cells": [
  {
   "cell_type": "markdown",
   "id": "870cccfb-081c-4fd1-b704-88c019edad59",
   "metadata": {},
   "source": [
    "# LinkedIn Learning\n",
    "# Python Data Structures: Linked Lists"
   ]
  },
  {
   "cell_type": "markdown",
   "id": "5b75b6c3-61f7-474f-b8d4-fab7a9d02cb9",
   "metadata": {},
   "source": [
    "## 1. Getting Started"
   ]
  },
  {
   "cell_type": "markdown",
   "id": "6d0029c4-2699-4b5a-bb70-ca6a11041a51",
   "metadata": {},
   "source": [
    "### A. Practical Applications of Linked Lists"
   ]
  },
  {
   "cell_type": "markdown",
   "id": "d539f5fe-06bb-4454-9b2e-fdff7ebe93c9",
   "metadata": {},
   "source": [
    "##### --> Rendering animation frames\n",
    "#####  --> Intergral Approximation\n",
    "##### --> \"Undo\" functionality in a document editor"
   ]
  },
  {
   "cell_type": "markdown",
   "id": "3dcc8c8f-683d-41c7-b0a0-2ddd8cce75fb",
   "metadata": {},
   "source": [
    "### B. Building a Linked List in Python"
   ]
  },
  {
   "cell_type": "code",
   "execution_count": 1,
   "id": "bd3e41a4-951e-4bb7-ac76-e706a4ec93ba",
   "metadata": {},
   "outputs": [],
   "source": [
    "class Node:\n",
    "    def __init__(self, data):\n",
    "        self.data = data\n",
    "        self.next = None"
   ]
  },
  {
   "cell_type": "code",
   "execution_count": 4,
   "id": "6ca21a3e-eba6-4162-acd0-220d4c04e7b1",
   "metadata": {},
   "outputs": [],
   "source": [
    "class LL:\n",
    "    def __init__(self):\n",
    "        self.head = None\n",
    "\n",
    "    def append(self, data):\n",
    "        new_node = Node(data)\n",
    "        if not self.head:\n",
    "            self.head = new_node\n",
    "            return\n",
    "        \n",
    "        current = self.head\n",
    "        while current.next:\n",
    "            current = current.next\n",
    "        current.next = new_node\n",
    "\n",
    "    def print(self):\n",
    "        output = []\n",
    "        current = self.head\n",
    "        while current:\n",
    "            output.append(str(current.data))\n",
    "            current = current.next\n",
    "        print('->'.join(output))"
   ]
  },
  {
   "cell_type": "code",
   "execution_count": 2,
   "id": "923f4dc7-47d9-4723-88f2-7a7f4b8b525c",
   "metadata": {},
   "outputs": [],
   "source": [
    "n = Node(1)\n",
    "n.next = Node(2)\n",
    "n.next.next = Node(3)"
   ]
  },
  {
   "cell_type": "code",
   "execution_count": 6,
   "id": "903b82ea-abd2-4f81-bcf4-00ce6fdd85c4",
   "metadata": {},
   "outputs": [
    {
     "name": "stdout",
     "output_type": "stream",
     "text": [
      "1->2->3\n"
     ]
    }
   ],
   "source": [
    "ll = LL()\n",
    "ll.append(1)\n",
    "ll.append(2)\n",
    "ll.append(3)\n",
    "ll.print()\n"
   ]
  },
  {
   "cell_type": "markdown",
   "id": "3b745c6f-48a5-4093-9407-a36c01804cfe",
   "metadata": {},
   "source": [
    "## 2. Building Functionality "
   ]
  },
  {
   "cell_type": "markdown",
   "id": "0303ced9-8914-4b64-bfd1-ed314295685a",
   "metadata": {},
   "source": [
    "### A. Searching"
   ]
  },
  {
   "cell_type": "code",
   "execution_count": 8,
   "id": "798fe0d6-64d5-46b0-a8ea-656232045510",
   "metadata": {},
   "outputs": [],
   "source": [
    "import random"
   ]
  },
  {
   "cell_type": "code",
   "execution_count": 9,
   "id": "44877499-e2f6-4e1d-a140-499e48d0d958",
   "metadata": {},
   "outputs": [
    {
     "name": "stdout",
     "output_type": "stream",
     "text": [
      "0->5->8->4->1->3->9->2->7->6\n"
     ]
    }
   ],
   "source": [
    "elements = [0,1,2,3,4,5,6,7,8,9]\n",
    "random.shuffle(elements)\n",
    "ll = LL()\n",
    "for e in elements:\n",
    "    ll.append(e)\n",
    "\n",
    "ll.print()"
   ]
  },
  {
   "cell_type": "code",
   "execution_count": 13,
   "id": "dcf5b51b-6093-4075-87b7-1d4b8d32d3c3",
   "metadata": {},
   "outputs": [],
   "source": [
    "class LL:\n",
    "    def __init__(self):\n",
    "        self.head = None\n",
    "\n",
    "    def append(self, data):\n",
    "        new_node = Node(data)\n",
    "        if not self.head:\n",
    "            self.head = new_node\n",
    "            return\n",
    "        \n",
    "        current = self.head\n",
    "        while current.next:\n",
    "            current = current.next\n",
    "        current.next = new_node\n",
    "\n",
    "    def search(self, data):\n",
    "        current = self.head\n",
    "        while current:\n",
    "            if current.data == data:\n",
    "                return True\n",
    "            current = current.next\n",
    "        return False\n",
    "\n",
    "    def print(self):\n",
    "        output = []\n",
    "        current = self.head\n",
    "        while current:\n",
    "            output.append(str(current.data))\n",
    "            current = current.next\n",
    "        print('->'.join(output))"
   ]
  },
  {
   "cell_type": "code",
   "execution_count": 14,
   "id": "c4f7fcbb-3db4-49b4-812a-0940708a8590",
   "metadata": {},
   "outputs": [
    {
     "name": "stdout",
     "output_type": "stream",
     "text": [
      "1->4->7->8->3->6->0->2->9->5\n",
      "True\n"
     ]
    }
   ],
   "source": [
    "elements = [0,1,2,3,4,5,6,7,8,9]\n",
    "random.shuffle(elements)\n",
    "ll = LL()\n",
    "for e in elements:\n",
    "    ll.append(e)\n",
    "\n",
    "ll.print()\n",
    "print(ll.search(5))"
   ]
  },
  {
   "cell_type": "code",
   "execution_count": 15,
   "id": "571adcce-da44-4b9b-8df3-eac913159ecc",
   "metadata": {},
   "outputs": [
    {
     "name": "stdout",
     "output_type": "stream",
     "text": [
      "False\n"
     ]
    }
   ],
   "source": [
    "print(ll.search(15))"
   ]
  },
  {
   "cell_type": "code",
   "execution_count": 18,
   "id": "04a67394-ce92-44d7-945f-cc2cfa3d1c7f",
   "metadata": {},
   "outputs": [],
   "source": [
    "import random\n",
    "import sys\n",
    "\n",
    "sys.setrecursionlimit(2000)\n",
    "\n",
    "class Node:\n",
    "    def __init__(self, data):\n",
    "        self.data = data\n",
    "        self.next = None\n",
    "\n",
    "    def search(self, data):\n",
    "        if self.data == data:\n",
    "            return True\n",
    "        if self.next:\n",
    "            return self.next.search(data)\n",
    "            \n",
    "\n",
    "class LL:\n",
    "    def __init__(self):\n",
    "        self.head = None\n",
    "\n",
    "    def append(self, data):\n",
    "        new_node = Node(data)\n",
    "        if not self.head:\n",
    "            self.head = new_node\n",
    "            return\n",
    "        \n",
    "        current = self.head\n",
    "        while current.next:\n",
    "            current = current.next\n",
    "        current.next = new_node\n",
    "\n",
    "    def search(self, data):\n",
    "        return self.head.search(data)\n",
    "\n",
    "    def print(self):\n",
    "        output = []\n",
    "        current = self.head\n",
    "        while current:\n",
    "            output.append(str(current.data))\n",
    "            current = current.next\n",
    "        print('->'.join(output))"
   ]
  },
  {
   "cell_type": "code",
   "execution_count": 19,
   "id": "855c9a44-3b40-4d86-a199-547279c7f649",
   "metadata": {},
   "outputs": [
    {
     "name": "stdout",
     "output_type": "stream",
     "text": [
      "8->0->9->7->1->3->4->6->2->5\n",
      "True\n"
     ]
    }
   ],
   "source": [
    "elements = [0,1,2,3,4,5,6,7,8,9]\n",
    "random.shuffle(elements)\n",
    "ll = LL()\n",
    "for e in elements:\n",
    "    ll.append(e)\n",
    "\n",
    "ll.print()\n",
    "print(ll.search(5))"
   ]
  },
  {
   "cell_type": "code",
   "execution_count": 20,
   "id": "5ea443f8-6bd3-49ad-bcf6-cf4850d41270",
   "metadata": {},
   "outputs": [
    {
     "name": "stdout",
     "output_type": "stream",
     "text": [
      "None\n"
     ]
    }
   ],
   "source": [
    "print(ll.search(11))"
   ]
  },
  {
   "cell_type": "markdown",
   "id": "97991d89-af21-4467-bbb5-466023155b01",
   "metadata": {},
   "source": [
    "### B. Deleting Nodes"
   ]
  },
  {
   "cell_type": "code",
   "execution_count": 28,
   "id": "73967411-bca1-44dc-aea8-9fc66ada73ee",
   "metadata": {},
   "outputs": [],
   "source": [
    "class LL:\n",
    "    def __init__(self):\n",
    "        self.head = None\n",
    "\n",
    "    def append(self, data):\n",
    "        new_node = Node(data)\n",
    "        if not self.head:\n",
    "            self.head = new_node\n",
    "            return \n",
    "        \n",
    "        current = self.head\n",
    "        while current.next:\n",
    "            current = current.next\n",
    "        current.next = new_node\n",
    "\n",
    "    def search(self, data):\n",
    "        current = self.head\n",
    "        while current:\n",
    "            if current.data == data:\n",
    "                return True\n",
    "            current = current.next\n",
    "        return False\n",
    "\n",
    "    def delete(self, data):\n",
    "        if not self.head:\n",
    "            return \n",
    "        if self.head.data == data:\n",
    "            self.head = self.head.next\n",
    "            return \n",
    "\n",
    "        current = self.head\n",
    "        while current.next:\n",
    "            # stuff here\n",
    "            if current.next.data == data:\n",
    "                current.next = current.next.next\n",
    "                return\n",
    "            current = current.next\n",
    "\n",
    "    def print(self):\n",
    "        output = []\n",
    "        current = self.head\n",
    "        while current:\n",
    "            output.append(str(current.data))\n",
    "            current = current.next\n",
    "        print('->'.join(output))"
   ]
  },
  {
   "cell_type": "code",
   "execution_count": 29,
   "id": "1058ecd1-3f43-403d-861c-e3aa7fd371e0",
   "metadata": {},
   "outputs": [
    {
     "name": "stdout",
     "output_type": "stream",
     "text": [
      "7->5->9->2->4->6->8->0->1->3\n"
     ]
    }
   ],
   "source": [
    "elements = [0,1,2,3,4,5,6,7,8,9]\n",
    "random.shuffle(elements)\n",
    "ll = LL()\n",
    "for e in elements:\n",
    "    ll.append(e)\n",
    "\n",
    "ll.print()\n"
   ]
  },
  {
   "cell_type": "code",
   "execution_count": 30,
   "id": "eb9d51ec-f38a-4a36-9133-2c68881a2e96",
   "metadata": {},
   "outputs": [
    {
     "name": "stdout",
     "output_type": "stream",
     "text": [
      "7->2->4->6->8->1->3\n"
     ]
    }
   ],
   "source": [
    "ll.delete(0)\n",
    "ll.delete(5)\n",
    "ll.delete(9)\n",
    "ll.print()"
   ]
  },
  {
   "cell_type": "markdown",
   "id": "08fd7add-4af2-41b4-92bb-c3d78a33ce8c",
   "metadata": {},
   "source": [
    "### C. Insering Nodes"
   ]
  },
  {
   "cell_type": "code",
   "execution_count": 32,
   "id": "051898a7-153d-4587-bf0a-277187b6a1ca",
   "metadata": {},
   "outputs": [],
   "source": [
    "class LL:\n",
    "    def __init__(self):\n",
    "        self.head = None\n",
    "\n",
    "    def append(self, data):\n",
    "        new_node = Node(data)\n",
    "        if not self.head:\n",
    "            self.head = new_node\n",
    "            return \n",
    "        \n",
    "        current = self.head\n",
    "        while current.next:\n",
    "            current = current.next\n",
    "        current.next = new_node\n",
    "\n",
    "    def search(self, data):\n",
    "        current = self.head\n",
    "        while current:\n",
    "            if current.data == data:\n",
    "                return True\n",
    "            current = current.next\n",
    "        return False\n",
    "\n",
    "    def delete(self, data):\n",
    "        if not self.head:\n",
    "            return \n",
    "        if self.head.data == data:\n",
    "            self.head = self.head.next\n",
    "            return \n",
    "\n",
    "        current = self.head\n",
    "        while current.next:\n",
    "            # stuff here\n",
    "            if current.next.data == data:\n",
    "                current.next = current.next.next\n",
    "                return\n",
    "            current = current.next\n",
    "            \n",
    "    def insert(self, data):\n",
    "        new_node = Node(data)\n",
    "        if not self.head:\n",
    "            self.head = new_node\n",
    "            return\n",
    "        if self.head.data > data:\n",
    "            self.head = new_node\n",
    "            return\n",
    "\n",
    "        current = self.head\n",
    "        while current.next:\n",
    "            # Do Something\n",
    "            if current.next.data > data:\n",
    "                new_node.next = current.next\n",
    "                current.next = new_node\n",
    "                return \n",
    "            current = current.next\n",
    "        current.next = new_node\n",
    "\n",
    "    def print(self):\n",
    "        output = []\n",
    "        current = self.head\n",
    "        while current:\n",
    "            output.append(str(current.data))\n",
    "            current = current.next\n",
    "        print('->'.join(output))"
   ]
  },
  {
   "cell_type": "code",
   "execution_count": 33,
   "id": "e911a3b5-1749-4330-aa10-f9f6435629a3",
   "metadata": {},
   "outputs": [],
   "source": [
    "class LL:\n",
    "    def __init__(self):\n",
    "        self.head = None\n",
    "\n",
    "    def append(self, data):\n",
    "        new_node = Node(data)\n",
    "        if not self.head:\n",
    "            self.head = new_node\n",
    "            return \n",
    "        \n",
    "        current = self.head\n",
    "        while current.next:\n",
    "            current = current.next\n",
    "        current.next = new_node\n",
    "\n",
    "    def search(self, data):\n",
    "        current = self.head\n",
    "        while current:\n",
    "            if current.data == data:\n",
    "                return True\n",
    "            current = current.next\n",
    "        return False\n",
    "\n",
    "    def delete(self, data):\n",
    "        if not self.head:\n",
    "            return \n",
    "        if self.head.data == data:\n",
    "            self.head = self.head.next\n",
    "            return \n",
    "\n",
    "        current = self.head\n",
    "        while current.next:\n",
    "            # stuff here\n",
    "            if current.next.data == data:\n",
    "                current.next = current.next.next\n",
    "                return\n",
    "            current = current.next\n",
    "            \n",
    "    def insert(self, data):\n",
    "        new_node = Node(data)\n",
    "        if not self.head:\n",
    "            self.head = new_node\n",
    "            return\n",
    "        if self.head.data > data:\n",
    "            self.head = new_node\n",
    "            return\n",
    "\n",
    "        current = self.head\n",
    "        while current.next and current.next.data < data:\n",
    "            current = current.next\n",
    "        new_node.next = current.next\n",
    "        current.next = new_node\n",
    "\n",
    "    def print(self):\n",
    "        output = []\n",
    "        current = self.head\n",
    "        while current:\n",
    "            output.append(str(current.data))\n",
    "            current = current.next\n",
    "        print('->'.join(output))"
   ]
  },
  {
   "cell_type": "code",
   "execution_count": 35,
   "id": "6bb39dc6-6b62-4089-b615-688f7bfd6b48",
   "metadata": {},
   "outputs": [
    {
     "name": "stdout",
     "output_type": "stream",
     "text": [
      "1\n",
      "1->8\n",
      "1->7->8\n",
      "1->5->7->8\n",
      "1->5->7->8->9\n",
      "1->3->5->7->8->9\n",
      "1->2->3->5->7->8->9\n",
      "1->2->3->5->6->7->8->9\n",
      "0\n",
      "0->4\n"
     ]
    }
   ],
   "source": [
    "elements = [0,1,2,3,4,5,6,7,8,9]\n",
    "random.shuffle(elements)\n",
    "ll = LL()\n",
    "for e in elements:\n",
    "    ll.insert(e)\n",
    "    ll.print()\n"
   ]
  },
  {
   "cell_type": "code",
   "execution_count": null,
   "id": "c816c1ed-1d7c-42b9-b5b8-e266cdf5cfc3",
   "metadata": {},
   "outputs": [],
   "source": []
  }
 ],
 "metadata": {
  "kernelspec": {
   "display_name": "Python 3 (ipykernel)",
   "language": "python",
   "name": "python3"
  },
  "language_info": {
   "codemirror_mode": {
    "name": "ipython",
    "version": 3
   },
   "file_extension": ".py",
   "mimetype": "text/x-python",
   "name": "python",
   "nbconvert_exporter": "python",
   "pygments_lexer": "ipython3",
   "version": "3.12.4"
  }
 },
 "nbformat": 4,
 "nbformat_minor": 5
}
