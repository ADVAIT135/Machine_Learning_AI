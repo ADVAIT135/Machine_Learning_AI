{
 "cells": [
  {
   "cell_type": "markdown",
   "id": "38dcbe4f-9c9f-44ba-a292-259745206153",
   "metadata": {},
   "source": [
    "# LinkedIn Learning\n",
    "# Faster Pandas"
   ]
  },
  {
   "cell_type": "markdown",
   "id": "31383fac-fccb-4ff3-be64-cf39fc2bd0c7",
   "metadata": {},
   "source": [
    "## 5. Saving Memory"
   ]
  },
  {
   "cell_type": "markdown",
   "id": "e2070a52-cf32-4cde-8c51-4164940d2650",
   "metadata": {},
   "source": [
    "### A. Measuring Memory"
   ]
  },
  {
   "cell_type": "code",
   "execution_count": 1,
   "id": "9fbdcfc7-c73e-49b3-b7e5-8a72a89d76dc",
   "metadata": {},
   "outputs": [],
   "source": [
    "import pandas as pd"
   ]
  },
  {
   "cell_type": "code",
   "execution_count": 2,
   "id": "c48031f0-a365-452c-9ab8-3d81560e98ff",
   "metadata": {},
   "outputs": [],
   "source": [
    "df = pd.read_csv('taxi.csv.xz')"
   ]
  },
  {
   "cell_type": "code",
   "execution_count": 3,
   "id": "e4e3fca8-2224-4fd3-b796-a100d0be8783",
   "metadata": {},
   "outputs": [
    {
     "data": {
      "text/plain": [
       "VendorID                   int64\n",
       "tpep_pickup_datetime      object\n",
       "tpep_dropoff_datetime     object\n",
       "passenger_count            int64\n",
       "trip_distance            float64\n",
       "RatecodeID                 int64\n",
       "store_and_fwd_flag        object\n",
       "PULocationID               int64\n",
       "DOLocationID               int64\n",
       "payment_type               int64\n",
       "fare_amount              float64\n",
       "extra                    float64\n",
       "mta_tax                  float64\n",
       "tip_amount               float64\n",
       "tolls_amount             float64\n",
       "improvement_surcharge    float64\n",
       "total_amount             float64\n",
       "dtype: object"
      ]
     },
     "execution_count": 3,
     "metadata": {},
     "output_type": "execute_result"
    }
   ],
   "source": [
    "df.dtypes"
   ]
  },
  {
   "cell_type": "code",
   "execution_count": 4,
   "id": "b595c75b-7539-48f6-a4b4-6d8ad96abf4a",
   "metadata": {},
   "outputs": [
    {
     "data": {
      "text/plain": [
       "Index                        132\n",
       "VendorID                 3999992\n",
       "tpep_pickup_datetime     3999992\n",
       "tpep_dropoff_datetime    3999992\n",
       "passenger_count          3999992\n",
       "trip_distance            3999992\n",
       "RatecodeID               3999992\n",
       "store_and_fwd_flag       3999992\n",
       "PULocationID             3999992\n",
       "DOLocationID             3999992\n",
       "payment_type             3999992\n",
       "fare_amount              3999992\n",
       "extra                    3999992\n",
       "mta_tax                  3999992\n",
       "tip_amount               3999992\n",
       "tolls_amount             3999992\n",
       "improvement_surcharge    3999992\n",
       "total_amount             3999992\n",
       "dtype: int64"
      ]
     },
     "execution_count": 4,
     "metadata": {},
     "output_type": "execute_result"
    }
   ],
   "source": [
    "df.memory_usage()"
   ]
  },
  {
   "cell_type": "code",
   "execution_count": 5,
   "id": "dd662b67-3c71-4dfd-834b-5a950fb83b81",
   "metadata": {},
   "outputs": [
    {
     "data": {
      "text/plain": [
       "Index                         132\n",
       "VendorID                  3999992\n",
       "tpep_pickup_datetime     33999932\n",
       "tpep_dropoff_datetime    33999932\n",
       "passenger_count           3999992\n",
       "trip_distance             3999992\n",
       "RatecodeID                3999992\n",
       "store_and_fwd_flag       24999950\n",
       "PULocationID              3999992\n",
       "DOLocationID              3999992\n",
       "payment_type              3999992\n",
       "fare_amount               3999992\n",
       "extra                     3999992\n",
       "mta_tax                   3999992\n",
       "tip_amount                3999992\n",
       "tolls_amount              3999992\n",
       "improvement_surcharge     3999992\n",
       "total_amount              3999992\n",
       "dtype: int64"
      ]
     },
     "execution_count": 5,
     "metadata": {},
     "output_type": "execute_result"
    }
   ],
   "source": [
    "df.memory_usage(deep=True)"
   ]
  },
  {
   "cell_type": "code",
   "execution_count": 6,
   "id": "4191bc29-cc24-4d6b-a540-cab2b691ef8a",
   "metadata": {},
   "outputs": [],
   "source": [
    "mb = 2 ** 20\n"
   ]
  },
  {
   "cell_type": "code",
   "execution_count": 7,
   "id": "78755b9f-06b8-4cab-8d82-3d962b03ddbd",
   "metadata": {},
   "outputs": [
    {
     "data": {
      "text/plain": [
       "Index                     0.000126\n",
       "VendorID                  3.814690\n",
       "tpep_pickup_datetime     32.424862\n",
       "tpep_dropoff_datetime    32.424862\n",
       "passenger_count           3.814690\n",
       "trip_distance             3.814690\n",
       "RatecodeID                3.814690\n",
       "store_and_fwd_flag       23.841810\n",
       "PULocationID              3.814690\n",
       "DOLocationID              3.814690\n",
       "payment_type              3.814690\n",
       "fare_amount               3.814690\n",
       "extra                     3.814690\n",
       "mta_tax                   3.814690\n",
       "tip_amount                3.814690\n",
       "tolls_amount              3.814690\n",
       "improvement_surcharge     3.814690\n",
       "total_amount              3.814690\n",
       "dtype: float64"
      ]
     },
     "execution_count": 7,
     "metadata": {},
     "output_type": "execute_result"
    }
   ],
   "source": [
    "df.memory_usage(deep=True) / mb"
   ]
  },
  {
   "cell_type": "code",
   "execution_count": 8,
   "id": "b213b362-3848-482a-82df-2e046ffe660c",
   "metadata": {},
   "outputs": [
    {
     "data": {
      "text/plain": [
       "142.09731483459473"
      ]
     },
     "execution_count": 8,
     "metadata": {},
     "output_type": "execute_result"
    }
   ],
   "source": [
    "df.memory_usage(deep=True).sum() / mb"
   ]
  },
  {
   "cell_type": "code",
   "execution_count": 9,
   "id": "6b08091c-92d1-4ccc-adea-fba0eec07de9",
   "metadata": {},
   "outputs": [
    {
     "data": {
      "text/plain": [
       "VendorID                   int64\n",
       "tpep_pickup_datetime      object\n",
       "tpep_dropoff_datetime     object\n",
       "passenger_count            int64\n",
       "trip_distance            float64\n",
       "RatecodeID                 int64\n",
       "store_and_fwd_flag        object\n",
       "PULocationID               int64\n",
       "DOLocationID               int64\n",
       "payment_type               int64\n",
       "fare_amount              float64\n",
       "extra                    float64\n",
       "mta_tax                  float64\n",
       "tip_amount               float64\n",
       "tolls_amount             float64\n",
       "improvement_surcharge    float64\n",
       "total_amount             float64\n",
       "dtype: object"
      ]
     },
     "execution_count": 9,
     "metadata": {},
     "output_type": "execute_result"
    }
   ],
   "source": [
    "df.dtypes"
   ]
  },
  {
   "cell_type": "code",
   "execution_count": 10,
   "id": "31ccea5f-4757-4827-903e-36f18abd9ece",
   "metadata": {},
   "outputs": [
    {
     "data": {
      "text/plain": [
       "456.35"
      ]
     },
     "execution_count": 10,
     "metadata": {},
     "output_type": "execute_result"
    }
   ],
   "source": [
    "df['total_amount'].max()"
   ]
  },
  {
   "cell_type": "code",
   "execution_count": 11,
   "id": "5382a1cf-3dac-4f58-bd3c-71afb2a83aed",
   "metadata": {},
   "outputs": [
    {
     "data": {
      "text/plain": [
       "3.8148155212402344"
      ]
     },
     "execution_count": 11,
     "metadata": {},
     "output_type": "execute_result"
    }
   ],
   "source": [
    "df['total_amount'].memory_usage(deep=True)/mb"
   ]
  },
  {
   "cell_type": "code",
   "execution_count": 12,
   "id": "59b1f7dc-7e02-44ea-8692-9cb720981059",
   "metadata": {},
   "outputs": [],
   "source": [
    "ta32 = df['total_amount'].astype('float32')"
   ]
  },
  {
   "cell_type": "code",
   "execution_count": 13,
   "id": "4f54868a-b82a-47d5-b9e3-a5e04d9b0762",
   "metadata": {},
   "outputs": [
    {
     "data": {
      "text/plain": [
       "1.907470703125"
      ]
     },
     "execution_count": 13,
     "metadata": {},
     "output_type": "execute_result"
    }
   ],
   "source": [
    "ta32.memory_usage(deep=True)/mb"
   ]
  },
  {
   "cell_type": "markdown",
   "id": "d53ec215-d92a-4315-bd49-63ce207279f2",
   "metadata": {},
   "source": [
    "### B. Loading parts of Data"
   ]
  },
  {
   "cell_type": "code",
   "execution_count": 14,
   "id": "0d810fd3-fe7e-48e3-9b10-9e48f8530a89",
   "metadata": {},
   "outputs": [
    {
     "data": {
      "text/plain": [
       "142.09731483459473"
      ]
     },
     "execution_count": 14,
     "metadata": {},
     "output_type": "execute_result"
    }
   ],
   "source": [
    "df.memory_usage(deep=True).sum()/mb"
   ]
  },
  {
   "cell_type": "code",
   "execution_count": 15,
   "id": "cd4cadef-d1f3-4f95-b0c0-dff78f385e5f",
   "metadata": {},
   "outputs": [],
   "source": [
    "df = pd.read_csv('taxi.csv.xz', usecols =['VendorID', 'total_amount'])"
   ]
  },
  {
   "cell_type": "code",
   "execution_count": 16,
   "id": "fafc8f59-2109-4491-bcae-94c61fbdc243",
   "metadata": {},
   "outputs": [
    {
     "data": {
      "text/plain": [
       "7.629505157470703"
      ]
     },
     "execution_count": 16,
     "metadata": {},
     "output_type": "execute_result"
    }
   ],
   "source": [
    "df.memory_usage(deep=True).sum()/mb"
   ]
  },
  {
   "cell_type": "code",
   "execution_count": 17,
   "id": "605460af-934a-4536-aa22-e215127a99a7",
   "metadata": {},
   "outputs": [],
   "source": [
    "df = pd.read_csv('taxi.csv.xz', usecols =['VendorID', 'total_amount'] , chunksize = 100_000)"
   ]
  },
  {
   "cell_type": "code",
   "execution_count": 18,
   "id": "77af165d-b3b0-4baf-860f-f5407bae48d0",
   "metadata": {},
   "outputs": [
    {
     "data": {
      "text/plain": [
       "<pandas.io.parsers.readers.TextFileReader at 0x1ab2dc71b20>"
      ]
     },
     "execution_count": 18,
     "metadata": {},
     "output_type": "execute_result"
    }
   ],
   "source": [
    "df"
   ]
  },
  {
   "cell_type": "code",
   "execution_count": 19,
   "id": "5c361d24-c5ac-4a93-83a5-548c45e50f99",
   "metadata": {},
   "outputs": [
    {
     "name": "stdout",
     "output_type": "stream",
     "text": [
      "100000\n",
      "100000\n",
      "100000\n",
      "100000\n",
      "99999\n"
     ]
    }
   ],
   "source": [
    "for df in pd.read_csv('taxi.csv.xz', usecols =['VendorID', 'total_amount'] , chunksize = 100_000):\n",
    "    print(len(df))"
   ]
  },
  {
   "cell_type": "code",
   "execution_count": 20,
   "id": "338f4d1b-5183-49b7-a0f7-1a205a3ac295",
   "metadata": {},
   "outputs": [],
   "source": [
    "revs = []\n",
    "for df in pd.read_csv('taxi.csv.xz', usecols =['VendorID', 'total_amount'] , chunksize = 100_000):\n",
    "    rev = df.groupby('VendorID').sum()\n",
    "    revs.append(rev)"
   ]
  },
  {
   "cell_type": "code",
   "execution_count": 21,
   "id": "9333964c-c582-4308-9e2a-5b7674851988",
   "metadata": {},
   "outputs": [
    {
     "data": {
      "text/html": [
       "<div>\n",
       "<style scoped>\n",
       "    .dataframe tbody tr th:only-of-type {\n",
       "        vertical-align: middle;\n",
       "    }\n",
       "\n",
       "    .dataframe tbody tr th {\n",
       "        vertical-align: top;\n",
       "    }\n",
       "\n",
       "    .dataframe thead th {\n",
       "        text-align: right;\n",
       "    }\n",
       "</style>\n",
       "<table border=\"1\" class=\"dataframe\">\n",
       "  <thead>\n",
       "    <tr style=\"text-align: right;\">\n",
       "      <th></th>\n",
       "      <th>total_amount</th>\n",
       "    </tr>\n",
       "    <tr>\n",
       "      <th>VendorID</th>\n",
       "      <th></th>\n",
       "    </tr>\n",
       "  </thead>\n",
       "  <tbody>\n",
       "    <tr>\n",
       "      <th>1</th>\n",
       "      <td>3549029.11</td>\n",
       "    </tr>\n",
       "    <tr>\n",
       "      <th>2</th>\n",
       "      <td>4754096.58</td>\n",
       "    </tr>\n",
       "    <tr>\n",
       "      <th>4</th>\n",
       "      <td>64.86</td>\n",
       "    </tr>\n",
       "  </tbody>\n",
       "</table>\n",
       "</div>"
      ],
      "text/plain": [
       "          total_amount\n",
       "VendorID              \n",
       "1           3549029.11\n",
       "2           4754096.58\n",
       "4                64.86"
      ]
     },
     "execution_count": 21,
     "metadata": {},
     "output_type": "execute_result"
    }
   ],
   "source": [
    "pd.concat(revs).groupby(level=0).sum()"
   ]
  },
  {
   "cell_type": "markdown",
   "id": "096066a1-851e-4d6b-9bdc-aaf6157ef3de",
   "metadata": {},
   "source": [
    "### C. Categorical Data"
   ]
  },
  {
   "cell_type": "code",
   "execution_count": 22,
   "id": "5c537687-4b8a-4822-9595-68ca7bfe21e2",
   "metadata": {},
   "outputs": [],
   "source": [
    "df = pd.read_csv('taxi.csv.xz')"
   ]
  },
  {
   "cell_type": "code",
   "execution_count": 23,
   "id": "8f64d290-0360-489d-aafe-d83e1c4e5ff9",
   "metadata": {},
   "outputs": [
    {
     "data": {
      "text/plain": [
       "VendorID                   int64\n",
       "tpep_pickup_datetime      object\n",
       "tpep_dropoff_datetime     object\n",
       "passenger_count            int64\n",
       "trip_distance            float64\n",
       "RatecodeID                 int64\n",
       "store_and_fwd_flag        object\n",
       "PULocationID               int64\n",
       "DOLocationID               int64\n",
       "payment_type               int64\n",
       "fare_amount              float64\n",
       "extra                    float64\n",
       "mta_tax                  float64\n",
       "tip_amount               float64\n",
       "tolls_amount             float64\n",
       "improvement_surcharge    float64\n",
       "total_amount             float64\n",
       "dtype: object"
      ]
     },
     "execution_count": 23,
     "metadata": {},
     "output_type": "execute_result"
    }
   ],
   "source": [
    "df.dtypes"
   ]
  },
  {
   "cell_type": "code",
   "execution_count": 24,
   "id": "0c8207b1-fdf6-42c3-a7b9-04da4e54c6a4",
   "metadata": {},
   "outputs": [
    {
     "data": {
      "text/plain": [
       "343946    2\n",
       "78446     1\n",
       "385652    2\n",
       "228302    2\n",
       "370855    2\n",
       "394774    1\n",
       "187828    2\n",
       "452328    1\n",
       "430756    2\n",
       "408138    2\n",
       "Name: VendorID, dtype: int64"
      ]
     },
     "execution_count": 24,
     "metadata": {},
     "output_type": "execute_result"
    }
   ],
   "source": [
    "df['VendorID'].sample(10)"
   ]
  },
  {
   "cell_type": "code",
   "execution_count": 25,
   "id": "a704bbff-2bba-4678-b2dc-66dc3b910df5",
   "metadata": {},
   "outputs": [],
   "source": [
    "vendor_name = {\n",
    "    1 : 'Creative', \n",
    "    2 : 'VeriFone',\n",
    "    4 : 'BigApple'\n",
    "}"
   ]
  },
  {
   "cell_type": "code",
   "execution_count": 26,
   "id": "f22497be-c613-4e86-bf7f-910b942c053e",
   "metadata": {},
   "outputs": [],
   "source": [
    "vendors = df['VendorID'].map(vendor_name)"
   ]
  },
  {
   "cell_type": "code",
   "execution_count": 27,
   "id": "6fa595f0-9cb2-4005-80ac-e61a4f432cea",
   "metadata": {},
   "outputs": [
    {
     "data": {
      "text/plain": [
       "262371    Creative\n",
       "8491      Creative\n",
       "197112    Creative\n",
       "293278    Creative\n",
       "150244    VeriFone\n",
       "Name: VendorID, dtype: object"
      ]
     },
     "execution_count": 27,
     "metadata": {},
     "output_type": "execute_result"
    }
   ],
   "source": [
    "vendors.sample(5)"
   ]
  },
  {
   "cell_type": "code",
   "execution_count": 28,
   "id": "8c2afdd6-a1b0-44b3-a06a-873b5a2117f8",
   "metadata": {},
   "outputs": [],
   "source": [
    "cat_vendors = vendors.astype('category')"
   ]
  },
  {
   "cell_type": "code",
   "execution_count": 29,
   "id": "b6f2317f-8d8a-4155-b5db-69c56c2b843b",
   "metadata": {},
   "outputs": [
    {
     "data": {
      "text/plain": [
       "301156    VeriFone\n",
       "326158    Creative\n",
       "239483    Creative\n",
       "451733    Creative\n",
       "490691    Creative\n",
       "Name: VendorID, dtype: category\n",
       "Categories (3, object): ['BigApple', 'Creative', 'VeriFone']"
      ]
     },
     "execution_count": 29,
     "metadata": {},
     "output_type": "execute_result"
    }
   ],
   "source": [
    "cat_vendors.sample(5)"
   ]
  },
  {
   "cell_type": "code",
   "execution_count": 30,
   "id": "43111e77-9416-4149-a7ea-dde72fee891e",
   "metadata": {},
   "outputs": [
    {
     "data": {
      "text/plain": [
       "0.017558199408247172"
      ]
     },
     "execution_count": 30,
     "metadata": {},
     "output_type": "execute_result"
    }
   ],
   "source": [
    "cat_vendors.memory_usage(deep = True) / vendors.memory_usage(deep = True)"
   ]
  },
  {
   "cell_type": "markdown",
   "id": "b5da8d91-077d-47df-a6a2-e833380833cb",
   "metadata": {},
   "source": [
    "### D. Challenge 5 --> Reducing Memory"
   ]
  },
  {
   "cell_type": "code",
   "execution_count": 31,
   "id": "c2e2a996-8429-4398-9d3e-380edf73d589",
   "metadata": {},
   "outputs": [
    {
     "name": "stdout",
     "output_type": "stream",
     "text": [
      "min 0.0 max 111.1\n"
     ]
    }
   ],
   "source": [
    "\"\"\"Calculate the minimal and maximal distance driven from the data at\n",
    "    taxi.csv.xz\n",
    "Consume as little memory as possible and don't load more than 50,000 rows at a\n",
    "time.\n",
    "\"\"\"\n",
    "\n",
    "import pandas as pd\n",
    "\n",
    "min_dist, max_dist = float('inf'), float('-inf')\n",
    "dfs = pd.read_csv('taxi.csv.xz', usecols=['trip_distance'], chunksize=50_000)\n",
    "for df in dfs:\n",
    "    desc = df['trip_distance'].describe()\n",
    "    min_dist = min(min_dist, desc['min'])\n",
    "    max_dist = max(max_dist, desc['max'])\n",
    "\n",
    "print('min', min_dist, 'max', max_dist)"
   ]
  },
  {
   "cell_type": "markdown",
   "id": "5e8da8a8-322c-4b7c-8553-c2c7430ae543",
   "metadata": {},
   "source": [
    "## 5. Fast Serialization "
   ]
  },
  {
   "cell_type": "markdown",
   "id": "787877e9-94f2-43f4-8d37-0d569d7821d7",
   "metadata": {},
   "source": [
    "### A. Optimizing with SQL"
   ]
  },
  {
   "cell_type": "code",
   "execution_count": 32,
   "id": "173594a9-5ce8-45e9-9555-b3c1c1ca75e1",
   "metadata": {},
   "outputs": [],
   "source": [
    "import sqlite3"
   ]
  },
  {
   "cell_type": "code",
   "execution_count": 33,
   "id": "4f7544d3-2732-4ea7-b607-5922563f5806",
   "metadata": {},
   "outputs": [],
   "source": [
    "conn = sqlite3.connect('bikes.db')"
   ]
  },
  {
   "cell_type": "code",
   "execution_count": 34,
   "id": "d5980d12-57d5-470c-b8a4-64c7f52c16ce",
   "metadata": {},
   "outputs": [],
   "source": [
    "query = '''\n",
    "    SELECT name, sql\n",
    "    FROM sqlite_master\n",
    "    WHERE type = 'table'\n",
    "'''"
   ]
  },
  {
   "cell_type": "code",
   "execution_count": 35,
   "id": "826a438d-edb9-4c0a-ae51-a28081c907cc",
   "metadata": {},
   "outputs": [
    {
     "name": "stdout",
     "output_type": "stream",
     "text": [
      "bike_rides\n",
      "CREATE TABLE bike_rides(\n",
      "  year INT,\n",
      "  month INT,\n",
      "  day INT,\n",
      "  trip_id INT,\n",
      "  bike_id INT,\n",
      "  duration INT\n",
      ")\n"
     ]
    }
   ],
   "source": [
    "for name, sql in conn.execute(query):\n",
    "    print(name)\n",
    "    print(sql)"
   ]
  },
  {
   "cell_type": "code",
   "execution_count": 36,
   "id": "7da868b5-e14c-4b81-bf60-cf2df7546ec4",
   "metadata": {},
   "outputs": [
    {
     "data": {
      "text/plain": [
       "[(2017, 2016)]"
      ]
     },
     "execution_count": 36,
     "metadata": {},
     "output_type": "execute_result"
    }
   ],
   "source": [
    "conn.execute('SELECT MAX(year), MIN(year) FROM bike_rides').fetchall()"
   ]
  },
  {
   "cell_type": "code",
   "execution_count": 37,
   "id": "43f6f378-63f3-4690-83ca-5fb19f9c9d8d",
   "metadata": {},
   "outputs": [],
   "source": [
    "query = '''\n",
    "    SELECT year, month, duration\n",
    "    FROM bike_rides\n",
    "    WHERE year == 2016 OR year == 2017\n",
    "'''"
   ]
  },
  {
   "cell_type": "code",
   "execution_count": 38,
   "id": "ebec0e92-09a7-48d8-bf0a-aff38b3e2c2c",
   "metadata": {},
   "outputs": [],
   "source": [
    "df = pd.read_sql(query, conn)"
   ]
  },
  {
   "cell_type": "code",
   "execution_count": 39,
   "id": "15b4b67e-540e-4db8-af46-3d2e60bcb265",
   "metadata": {},
   "outputs": [
    {
     "data": {
      "text/plain": [
       "year  month\n",
       "2016  1        14.0\n",
       "      2        15.0\n",
       "      3        14.0\n",
       "      5        15.0\n",
       "      6        14.0\n",
       "      7        15.0\n",
       "      8        13.0\n",
       "      9        15.0\n",
       "      10       16.0\n",
       "      11       14.0\n",
       "2017  1        14.0\n",
       "      2        16.0\n",
       "      3        14.0\n",
       "      4        18.0\n",
       "      5        18.0\n",
       "      6        16.0\n",
       "      7        16.0\n",
       "      8        13.0\n",
       "      9        17.0\n",
       "      10       16.0\n",
       "      11       18.0\n",
       "      12       16.0\n",
       "Name: duration, dtype: float64"
      ]
     },
     "execution_count": 39,
     "metadata": {},
     "output_type": "execute_result"
    }
   ],
   "source": [
    "df.groupby(['year', 'month'])['duration'].median()"
   ]
  },
  {
   "cell_type": "markdown",
   "id": "bd03c737-631b-40c6-a981-7f98cd75c77b",
   "metadata": {},
   "source": [
    "### B. Optimizing with HDF5"
   ]
  },
  {
   "cell_type": "code",
   "execution_count": 40,
   "id": "c88bcc87-d447-429e-a9d3-2ab2228d6c5c",
   "metadata": {},
   "outputs": [
    {
     "name": "stdout",
     "output_type": "stream",
     "text": [
      "Requirement already satisfied: tables in c:\\users\\advait\\anaconda3\\lib\\site-packages (3.9.2)\n",
      "Requirement already satisfied: numpy>=1.19.0 in c:\\users\\advait\\anaconda3\\lib\\site-packages (from tables) (1.26.4)\n",
      "Requirement already satisfied: numexpr>=2.6.2 in c:\\users\\advait\\anaconda3\\lib\\site-packages (from tables) (2.8.7)\n",
      "Requirement already satisfied: packaging in c:\\users\\advait\\anaconda3\\lib\\site-packages (from tables) (23.2)\n",
      "Requirement already satisfied: py-cpuinfo in c:\\users\\advait\\anaconda3\\lib\\site-packages (from tables) (9.0.0)\n"
     ]
    }
   ],
   "source": [
    "!pip install tables"
   ]
  },
  {
   "cell_type": "code",
   "execution_count": 41,
   "id": "7de4669b-d4d1-47ad-8eba-653245a97964",
   "metadata": {},
   "outputs": [],
   "source": [
    "store = pd.HDFStore('stocks.h5')"
   ]
  },
  {
   "cell_type": "code",
   "execution_count": 42,
   "id": "c9f71ceb-dde7-41fd-b5ef-09c7bcd00ed3",
   "metadata": {},
   "outputs": [
    {
     "data": {
      "text/plain": [
       "['/stocks']"
      ]
     },
     "execution_count": 42,
     "metadata": {},
     "output_type": "execute_result"
    }
   ],
   "source": [
    "store.keys()"
   ]
  },
  {
   "cell_type": "code",
   "execution_count": 43,
   "id": "ef4bfe18-cd11-4004-b162-e9d5859a95a4",
   "metadata": {},
   "outputs": [],
   "source": [
    "df = store['stocks']"
   ]
  },
  {
   "cell_type": "code",
   "execution_count": 44,
   "id": "cff3ee25-382c-46be-96a8-b8c3b47ee922",
   "metadata": {},
   "outputs": [
    {
     "data": {
      "text/plain": [
       "Index(['symbol', 'open', 'high', 'low', 'close', 'adj close', 'volume'], dtype='object')"
      ]
     },
     "execution_count": 44,
     "metadata": {},
     "output_type": "execute_result"
    }
   ],
   "source": [
    "df.columns"
   ]
  },
  {
   "cell_type": "code",
   "execution_count": 45,
   "id": "8396be04-03a3-4100-accc-e825864fc2fe",
   "metadata": {},
   "outputs": [
    {
     "data": {
      "text/html": [
       "<div>\n",
       "<style scoped>\n",
       "    .dataframe tbody tr th:only-of-type {\n",
       "        vertical-align: middle;\n",
       "    }\n",
       "\n",
       "    .dataframe tbody tr th {\n",
       "        vertical-align: top;\n",
       "    }\n",
       "\n",
       "    .dataframe thead th {\n",
       "        text-align: right;\n",
       "    }\n",
       "</style>\n",
       "<table border=\"1\" class=\"dataframe\">\n",
       "  <thead>\n",
       "    <tr style=\"text-align: right;\">\n",
       "      <th></th>\n",
       "      <th>symbol</th>\n",
       "      <th>open</th>\n",
       "      <th>high</th>\n",
       "      <th>low</th>\n",
       "      <th>close</th>\n",
       "      <th>adj close</th>\n",
       "      <th>volume</th>\n",
       "    </tr>\n",
       "    <tr>\n",
       "      <th>date</th>\n",
       "      <th></th>\n",
       "      <th></th>\n",
       "      <th></th>\n",
       "      <th></th>\n",
       "      <th></th>\n",
       "      <th></th>\n",
       "      <th></th>\n",
       "    </tr>\n",
       "  </thead>\n",
       "  <tbody>\n",
       "    <tr>\n",
       "      <th>1962-01-02</th>\n",
       "      <td>IBM</td>\n",
       "      <td>7.713333</td>\n",
       "      <td>7.713333</td>\n",
       "      <td>7.626667</td>\n",
       "      <td>7.626667</td>\n",
       "      <td>0.609973</td>\n",
       "      <td>387200.0</td>\n",
       "    </tr>\n",
       "    <tr>\n",
       "      <th>1962-01-03</th>\n",
       "      <td>IBM</td>\n",
       "      <td>7.626667</td>\n",
       "      <td>7.693333</td>\n",
       "      <td>7.626667</td>\n",
       "      <td>7.693333</td>\n",
       "      <td>0.615304</td>\n",
       "      <td>288000.0</td>\n",
       "    </tr>\n",
       "    <tr>\n",
       "      <th>1962-01-04</th>\n",
       "      <td>IBM</td>\n",
       "      <td>7.693333</td>\n",
       "      <td>7.693333</td>\n",
       "      <td>7.613333</td>\n",
       "      <td>7.616667</td>\n",
       "      <td>0.609173</td>\n",
       "      <td>256000.0</td>\n",
       "    </tr>\n",
       "  </tbody>\n",
       "</table>\n",
       "</div>"
      ],
      "text/plain": [
       "           symbol      open      high       low     close  adj close    volume\n",
       "date                                                                          \n",
       "1962-01-02    IBM  7.713333  7.713333  7.626667  7.626667   0.609973  387200.0\n",
       "1962-01-03    IBM  7.626667  7.693333  7.626667  7.693333   0.615304  288000.0\n",
       "1962-01-04    IBM  7.693333  7.693333  7.613333  7.616667   0.609173  256000.0"
      ]
     },
     "execution_count": 45,
     "metadata": {},
     "output_type": "execute_result"
    }
   ],
   "source": [
    "store.select('stocks', stop = 3)"
   ]
  },
  {
   "cell_type": "code",
   "execution_count": 46,
   "id": "e5328c69-eb7c-4dcb-9849-bf644bd3c6bd",
   "metadata": {},
   "outputs": [],
   "source": [
    "s = store.get_storer('stocks')"
   ]
  },
  {
   "cell_type": "code",
   "execution_count": 47,
   "id": "87f19bf8-a005-46aa-b0a8-740354e8660b",
   "metadata": {},
   "outputs": [
    {
     "data": {
      "text/plain": [
       "88839"
      ]
     },
     "execution_count": 47,
     "metadata": {},
     "output_type": "execute_result"
    }
   ],
   "source": [
    "s.nrows"
   ]
  },
  {
   "cell_type": "code",
   "execution_count": 48,
   "id": "031ec04b-1556-42bd-9bb5-625df859b4b5",
   "metadata": {},
   "outputs": [],
   "source": [
    "df = store.select('stocks', '(index >= \"2010\") & (index < \"2012\")')"
   ]
  },
  {
   "cell_type": "code",
   "execution_count": 49,
   "id": "433333ea-2430-4a3c-9dbf-841aa8492670",
   "metadata": {},
   "outputs": [
    {
     "data": {
      "text/plain": [
       "(Timestamp('2010-01-04 00:00:00'), Timestamp('2011-12-30 00:00:00'))"
      ]
     },
     "execution_count": 49,
     "metadata": {},
     "output_type": "execute_result"
    }
   ],
   "source": [
    "df.index.min(), df.index.max()"
   ]
  },
  {
   "cell_type": "code",
   "execution_count": 50,
   "id": "5014d572-6651-4829-8a25-f54015687c59",
   "metadata": {},
   "outputs": [],
   "source": [
    "df = store.select('stocks', '(index >= \"2010\") & (index < \"2012\")', columns = ['symbol', 'close', 'volume'])"
   ]
  },
  {
   "cell_type": "code",
   "execution_count": 51,
   "id": "a5dd3edd-30db-4d34-8d14-5449e5868dc5",
   "metadata": {},
   "outputs": [
    {
     "data": {
      "text/plain": [
       "Index(['symbol', 'close', 'volume'], dtype='object')"
      ]
     },
     "execution_count": 51,
     "metadata": {},
     "output_type": "execute_result"
    }
   ],
   "source": [
    "df.columns"
   ]
  },
  {
   "cell_type": "markdown",
   "id": "0e01396b-b9ba-4fa9-a079-62bdfd2dc1bb",
   "metadata": {},
   "source": [
    "### C. Challenge 6 --> Bike Ride Duration"
   ]
  },
  {
   "cell_type": "code",
   "execution_count": 52,
   "id": "cab7fa3b-987d-4fd4-8899-bb594a9560d6",
   "metadata": {},
   "outputs": [
    {
     "name": "stdout",
     "output_type": "stream",
     "text": [
      "bike_id\n",
      "393    124.6\n",
      "68     111.2\n",
      "832    100.6\n",
      "326     96.6\n",
      "429     96.0\n",
      "Name: duration, dtype: float64\n"
     ]
    }
   ],
   "source": [
    "\"\"\"Using \"bikes.db\", find the 5 bikes (using \"bike_id\") that has the biggest\n",
    "90% quantile of ride duration in the first quarter of 2017.\n",
    "\"\"\"\n",
    "import sqlite3\n",
    "\n",
    "import pandas as pd\n",
    "\n",
    "conn = sqlite3.connect('bikes.db')\n",
    "sql = '''\n",
    "SELECT bike_id, duration\n",
    "FROM bike_rides\n",
    "WHERE year == 2017 AND month < 4\n",
    "'''\n",
    "df = pd.read_sql(sql, conn)\n",
    "out = df.groupby('bike_id')['duration'].quantile(.9)\n",
    "print(out.sort_values(ascending=False)[:5])"
   ]
  },
  {
   "cell_type": "markdown",
   "id": "56e122c0-ef1a-4c71-a67f-8dbeae765b53",
   "metadata": {},
   "source": [
    "## 7. Numba and Cython"
   ]
  },
  {
   "cell_type": "markdown",
   "id": "4619d69a-5b25-46c6-af9d-f6db17e94340",
   "metadata": {},
   "source": [
    "### A. What is numba?"
   ]
  },
  {
   "cell_type": "code",
   "execution_count": 53,
   "id": "377675a0-acf1-4789-98e9-587615f762b2",
   "metadata": {},
   "outputs": [
    {
     "name": "stdout",
     "output_type": "stream",
     "text": [
      "Requirement already satisfied: numba in c:\\users\\advait\\anaconda3\\lib\\site-packages (0.59.1)\n",
      "Requirement already satisfied: llvmlite<0.43,>=0.42.0dev0 in c:\\users\\advait\\anaconda3\\lib\\site-packages (from numba) (0.42.0)\n",
      "Requirement already satisfied: numpy<1.27,>=1.22 in c:\\users\\advait\\anaconda3\\lib\\site-packages (from numba) (1.26.4)\n"
     ]
    }
   ],
   "source": [
    "!pip install numba"
   ]
  },
  {
   "cell_type": "code",
   "execution_count": 54,
   "id": "2924aeac-ee7e-4cc6-aaa0-da0206cecfec",
   "metadata": {},
   "outputs": [],
   "source": [
    "def add(a,b):\n",
    "    return a + b"
   ]
  },
  {
   "cell_type": "code",
   "execution_count": 55,
   "id": "21d7a56e-1c0b-4179-b49d-2269436f21f3",
   "metadata": {},
   "outputs": [],
   "source": [
    "import dis"
   ]
  },
  {
   "cell_type": "code",
   "execution_count": 56,
   "id": "71c977dd-06c6-4385-a6b9-d281c6302a19",
   "metadata": {},
   "outputs": [
    {
     "name": "stdout",
     "output_type": "stream",
     "text": [
      "  1           0 RESUME                   0\n",
      "\n",
      "  2           2 LOAD_FAST                0 (a)\n",
      "              4 LOAD_FAST                1 (b)\n",
      "              6 BINARY_OP                0 (+)\n",
      "             10 RETURN_VALUE\n"
     ]
    }
   ],
   "source": [
    "dis.dis(add)"
   ]
  },
  {
   "cell_type": "code",
   "execution_count": 57,
   "id": "73c83718-cdc6-4a88-b973-1e2c44985d03",
   "metadata": {},
   "outputs": [],
   "source": [
    "import numba"
   ]
  },
  {
   "cell_type": "code",
   "execution_count": 58,
   "id": "f5ac44e7-e88a-42de-b922-8cb66b673006",
   "metadata": {},
   "outputs": [],
   "source": [
    "@numba.jit\n",
    "def jit_add(a,b):\n",
    "    return a + b"
   ]
  },
  {
   "cell_type": "code",
   "execution_count": 59,
   "id": "c215e3ae-02b4-4869-ad4c-504c56d909d7",
   "metadata": {},
   "outputs": [
    {
     "data": {
      "text/plain": [
       "numba.core.registry.CPUDispatcher"
      ]
     },
     "execution_count": 59,
     "metadata": {},
     "output_type": "execute_result"
    }
   ],
   "source": [
    "type(jit_add)"
   ]
  },
  {
   "cell_type": "code",
   "execution_count": 60,
   "id": "82e9f2bc-0eb5-4574-945a-984d68e591cd",
   "metadata": {},
   "outputs": [
    {
     "data": {
      "text/plain": [
       "OrderedDict()"
      ]
     },
     "execution_count": 60,
     "metadata": {},
     "output_type": "execute_result"
    }
   ],
   "source": [
    "jit_add.overloads"
   ]
  },
  {
   "cell_type": "code",
   "execution_count": 61,
   "id": "344f28f9-1525-4514-acda-489b044905c1",
   "metadata": {},
   "outputs": [
    {
     "data": {
      "text/plain": [
       "3"
      ]
     },
     "execution_count": 61,
     "metadata": {},
     "output_type": "execute_result"
    }
   ],
   "source": [
    "jit_add(1,2)"
   ]
  },
  {
   "cell_type": "code",
   "execution_count": 62,
   "id": "c795b82b-d062-4174-8aee-2d9e96dc234e",
   "metadata": {},
   "outputs": [
    {
     "data": {
      "text/plain": [
       "odict_keys([(int64, int64)])"
      ]
     },
     "execution_count": 62,
     "metadata": {},
     "output_type": "execute_result"
    }
   ],
   "source": [
    "jit_add.overloads.keys()"
   ]
  },
  {
   "cell_type": "code",
   "execution_count": 63,
   "id": "f314f4ad-ae82-4ec8-be91-93d51811e156",
   "metadata": {},
   "outputs": [],
   "source": [
    "fn = jit_add.get_overload((numba.int64, numba.int64))"
   ]
  },
  {
   "cell_type": "code",
   "execution_count": 64,
   "id": "efc6563a-e06e-4985-9c47-41a8eb467692",
   "metadata": {},
   "outputs": [
    {
     "data": {
      "text/plain": [
       "builtin_function_or_method"
      ]
     },
     "execution_count": 64,
     "metadata": {},
     "output_type": "execute_result"
    }
   ],
   "source": [
    "type(fn)"
   ]
  },
  {
   "cell_type": "code",
   "execution_count": 65,
   "id": "2db582d7-4e1d-402c-ac98-c95cb21ae54f",
   "metadata": {},
   "outputs": [
    {
     "data": {
      "text/plain": [
       "3"
      ]
     },
     "execution_count": 65,
     "metadata": {},
     "output_type": "execute_result"
    }
   ],
   "source": [
    "fn(1,2)"
   ]
  },
  {
   "cell_type": "code",
   "execution_count": 66,
   "id": "62111692-0d91-4994-9395-bab332d94d11",
   "metadata": {},
   "outputs": [
    {
     "data": {
      "text/plain": [
       "3.0"
      ]
     },
     "execution_count": 66,
     "metadata": {},
     "output_type": "execute_result"
    }
   ],
   "source": [
    "jit_add(1.0, 2.0)"
   ]
  },
  {
   "cell_type": "code",
   "execution_count": 67,
   "id": "732f4382-405d-4ba6-ae76-bbe0961a8bb3",
   "metadata": {},
   "outputs": [
    {
     "data": {
      "text/plain": [
       "odict_keys([(int64, int64), (float64, float64)])"
      ]
     },
     "execution_count": 67,
     "metadata": {},
     "output_type": "execute_result"
    }
   ],
   "source": [
    "jit_add.overloads.keys()"
   ]
  },
  {
   "cell_type": "markdown",
   "id": "fb4e1448-9b42-4193-8134-44f2e147c416",
   "metadata": {},
   "source": [
    "### B. Using Numba"
   ]
  },
  {
   "cell_type": "code",
   "execution_count": 68,
   "id": "5317ba13-97a5-42e5-b37f-72b6e3b3e8db",
   "metadata": {},
   "outputs": [],
   "source": [
    "import numpy as np"
   ]
  },
  {
   "cell_type": "code",
   "execution_count": 69,
   "id": "44b6997f-7f9a-4b47-8082-7e4e489ce0be",
   "metadata": {},
   "outputs": [],
   "source": [
    "s = pd.Series(np.random.randint(-3, 200, 1_000_000))"
   ]
  },
  {
   "cell_type": "code",
   "execution_count": 70,
   "id": "5165b429-f576-4df0-a650-c14e06aac9ef",
   "metadata": {},
   "outputs": [],
   "source": [
    "def relu(n):\n",
    "    if n < 0:\n",
    "        return 0\n",
    "    return n"
   ]
  },
  {
   "cell_type": "code",
   "execution_count": 71,
   "id": "12d16cb7-b77e-4721-8550-be777f9a0d29",
   "metadata": {},
   "outputs": [
    {
     "name": "stdout",
     "output_type": "stream",
     "text": [
      "372 ms ± 45.8 ms per loop (mean ± std. dev. of 7 runs, 1 loop each)\n"
     ]
    }
   ],
   "source": [
    "%timeit s.apply(relu)"
   ]
  },
  {
   "cell_type": "code",
   "execution_count": 72,
   "id": "3b4c3929-16f7-4ca5-a3b2-b19a491117d6",
   "metadata": {},
   "outputs": [],
   "source": [
    "@numba.vectorize\n",
    "def vect_relu(n):\n",
    "    if n < 0:\n",
    "        return 0\n",
    "    return n"
   ]
  },
  {
   "cell_type": "code",
   "execution_count": 73,
   "id": "8a8a1dde-2b7d-4b42-9d34-c4059d02833f",
   "metadata": {},
   "outputs": [
    {
     "data": {
      "text/plain": [
       "3"
      ]
     },
     "execution_count": 73,
     "metadata": {},
     "output_type": "execute_result"
    }
   ],
   "source": [
    "vect_relu(3)"
   ]
  },
  {
   "cell_type": "code",
   "execution_count": 74,
   "id": "a7f2e5d6-c570-4dd8-b195-698d20e79adc",
   "metadata": {},
   "outputs": [
    {
     "data": {
      "text/plain": [
       "0    0\n",
       "1    2\n",
       "2    3\n",
       "dtype: int64"
      ]
     },
     "execution_count": 74,
     "metadata": {},
     "output_type": "execute_result"
    }
   ],
   "source": [
    "vect_relu(pd.Series([-1,2,3]))"
   ]
  },
  {
   "cell_type": "code",
   "execution_count": 75,
   "id": "9000c6d6-b337-45b2-b25a-50058a4f5ef9",
   "metadata": {},
   "outputs": [
    {
     "data": {
      "text/plain": [
       "True"
      ]
     },
     "execution_count": 75,
     "metadata": {},
     "output_type": "execute_result"
    }
   ],
   "source": [
    "np.allclose(s.apply(relu), vect_relu(s))"
   ]
  },
  {
   "cell_type": "code",
   "execution_count": 76,
   "id": "4fb8dc1d-e448-4f40-a3b7-2f24bc3c69d9",
   "metadata": {},
   "outputs": [
    {
     "name": "stdout",
     "output_type": "stream",
     "text": [
      "4.03 ms ± 499 μs per loop (mean ± std. dev. of 7 runs, 100 loops each)\n"
     ]
    }
   ],
   "source": [
    "%timeit vect_relu(s)"
   ]
  },
  {
   "cell_type": "code",
   "execution_count": 77,
   "id": "deca0e37-5dbd-426c-9676-d0a98ca57de5",
   "metadata": {},
   "outputs": [
    {
     "data": {
      "text/plain": [
       "107.33496332518338"
      ]
     },
     "execution_count": 77,
     "metadata": {},
     "output_type": "execute_result"
    }
   ],
   "source": [
    "439 / 4.09"
   ]
  },
  {
   "cell_type": "markdown",
   "id": "0901344b-8345-40b8-b368-b851f6a14ab4",
   "metadata": {},
   "source": [
    "### C. Writing Cython Code"
   ]
  },
  {
   "attachments": {
    "c0a62379-4290-4e79-8452-d67a449288a6.png": {
     "image/png": "[encoded data removed]"
    }
   },
   "cell_type": "markdown",
   "id": "767d6c13-bfff-4387-97de-de2b6cdede11",
   "metadata": {},
   "source": [
    "![image.png](attachment:c0a62379-4290-4e79-8452-d67a449288a6.png)"
   ]
  },
  {
   "cell_type": "code",
   "execution_count": 78,
   "id": "ec8ec476-e0cb-4d03-ac72-d81b641d76f5",
   "metadata": {},
   "outputs": [
    {
     "name": "stdout",
     "output_type": "stream",
     "text": [
      "Requirement already satisfied: Cython in c:\\users\\advait\\anaconda3\\lib\\site-packages (3.0.11)\n"
     ]
    }
   ],
   "source": [
    "!pip install Cython"
   ]
  },
  {
   "cell_type": "markdown",
   "id": "a8cd06d6-e332-4e97-96c0-1c81d9ca7806",
   "metadata": {},
   "source": [
    "### D. Compiling Cython"
   ]
  },
  {
   "attachments": {
    "e05f87ac-a4f8-4228-a711-9cc0a7eac2e5.png": {
     "image/png": "[encoded data removed]"
    }
   },
   "cell_type": "markdown",
   "id": "88200a15-93ec-458e-86c7-a555e98d3a3b",
   "metadata": {},
   "source": [
    "![image.png](attachment:e05f87ac-a4f8-4228-a711-9cc0a7eac2e5.png)"
   ]
  },
  {
   "cell_type": "code",
   "execution_count": 79,
   "id": "82cf3de5-a71e-4e21-a115-63729984ad36",
   "metadata": {},
   "outputs": [
    {
     "name": "stdout",
     "output_type": "stream",
     "text": [
      "running build_ext\n",
      "building 'relu' extension\n",
      "creating build\n",
      "creating build\\temp.win-amd64-cpython-312\n",
      "creating build\\temp.win-amd64-cpython-312\\Release\n",
      "\"C:\\Program Files\\Microsoft Visual Studio\\2022\\Community\\VC\\Tools\\MSVC\\14.42.34433\\bin\\HostX86\\x64\\cl.exe\" /c /nologo /O2 /W3 /GL /DNDEBUG /MD -IC:\\Users\\Advait\\anaconda3\\include -IC:\\Users\\Advait\\anaconda3\\Include \"-IC:\\Program Files\\Microsoft Visual Studio\\2022\\Community\\VC\\Tools\\MSVC\\14.42.34433\\include\" \"-IC:\\Program Files\\Microsoft Visual Studio\\2022\\Community\\VC\\Tools\\MSVC\\14.42.34433\\ATLMFC\\include\" \"-IC:\\Program Files\\Microsoft Visual Studio\\2022\\Community\\VC\\Auxiliary\\VS\\include\" \"-IC:\\Program Files (x86)\\Windows Kits\\10\\include\\10.0.22621.0\\ucrt\" \"-IC:\\Program Files (x86)\\Windows Kits\\10\\\\include\\10.0.22621.0\\\\um\" \"-IC:\\Program Files (x86)\\Windows Kits\\10\\\\include\\10.0.22621.0\\\\shared\" \"-IC:\\Program Files (x86)\\Windows Kits\\10\\\\include\\10.0.22621.0\\\\winrt\" \"-IC:\\Program Files (x86)\\Windows Kits\\10\\\\include\\10.0.22621.0\\\\cppwinrt\" /Tcrelu.c /Fobuild\\temp.win-amd64-cpython-312\\Release\\relu.obj\n",
      "relu.c\n",
      "creating C:\\Users\\Advait\\Desktop\\LinkedIn Learning HSBC\\Faster Pandas\\build\\lib.win-amd64-cpython-312\n",
      "\"C:\\Program Files\\Microsoft Visual Studio\\2022\\Community\\VC\\Tools\\MSVC\\14.42.34433\\bin\\HostX86\\x64\\link.exe\" /nologo /INCREMENTAL:NO /LTCG /DLL /MANIFEST:EMBED,ID=2 /MANIFESTUAC:NO /LIBPATH:C:\\Users\\Advait\\anaconda3\\libs /LIBPATH:C:\\Users\\Advait\\anaconda3 /LIBPATH:C:\\Users\\Advait\\anaconda3\\PCbuild\\amd64 \"/LIBPATH:C:\\Program Files\\Microsoft Visual Studio\\2022\\Community\\VC\\Tools\\MSVC\\14.42.34433\\ATLMFC\\lib\\x64\" \"/LIBPATH:C:\\Program Files\\Microsoft Visual Studio\\2022\\Community\\VC\\Tools\\MSVC\\14.42.34433\\lib\\x64\" \"/LIBPATH:C:\\Program Files (x86)\\Windows Kits\\10\\lib\\10.0.22621.0\\ucrt\\x64\" \"/LIBPATH:C:\\Program Files (x86)\\Windows Kits\\10\\\\lib\\10.0.22621.0\\\\um\\x64\" /EXPORT:PyInit_relu build\\temp.win-amd64-cpython-312\\Release\\relu.obj /OUT:build\\lib.win-amd64-cpython-312\\relu.cp312-win_amd64.pyd /IMPLIB:build\\temp.win-amd64-cpython-312\\Release\\relu.cp312-win_amd64.lib\n",
      "   Creating library build\\temp.win-amd64-cpython-312\\Release\\relu.cp312-win_amd64.lib and object build\\temp.win-amd64-cpython-312\\Release\\relu.cp312-win_amd64.exp\n",
      "Generating code\n",
      "Finished generating code\n",
      "copying build\\lib.win-amd64-cpython-312\\relu.cp312-win_amd64.pyd -> \n"
     ]
    }
   ],
   "source": [
    "!python setup.py build_ext --inplace"
   ]
  },
  {
   "cell_type": "code",
   "execution_count": 82,
   "id": "09add6c2-12c5-418f-afcb-f8528ea4435f",
   "metadata": {},
   "outputs": [
    {
     "name": "stdout",
     "output_type": "stream",
     "text": [
      " Volume in drive C is Windows\n",
      " Volume Serial Number is 9003-B1A4\n",
      "\n",
      " Directory of C:\\Users\\Advait\\Desktop\\LinkedIn Learning HSBC\\Faster Pandas\n",
      "\n",
      "04-02-2025  21:00    <DIR>          .\n",
      "04-02-2025  21:00    <DIR>          ..\n",
      "01-02-2025  10:49    <DIR>          .benchmarks\n",
      "03-02-2025  21:52    <DIR>          .ipynb_checkpoints\n",
      "01-02-2025  10:49    <DIR>          .pytest_cache\n",
      "01-02-2025  14:16        13,093,876 austin-bikes.csv.xz\n",
      "01-02-2025  14:16             7,502 austin-kiosk.csv\n",
      "01-02-2025  11:24        16,973,552 bids.csv\n",
      "03-02-2025  21:20         9,052,160 bikes.db\n",
      "04-02-2025  21:00    <DIR>          build\n",
      "01-02-2025  11:33               139 cart.csv\n",
      "01-02-2025  14:18           191,016 Faster Pandas_1.ipynb\n",
      "04-02-2025  21:00            77,337 Faster Pandas_2.ipynb\n",
      "01-02-2025  12:42           377,452 ips.txt.xz\n",
      "01-02-2025  12:02             9,560 log.txt.xz\n",
      "01-02-2025  11:36                 0 logs.db\n",
      "01-02-2025  12:29            74,580 logs_1.csv.xz\n",
      "01-02-2025  11:38           897,024 logs_1.db\n",
      "01-02-2025  12:51           527,076 logs_2.csv.xz\n",
      "01-02-2025  11:51           897,024 logs_2.db\n",
      "01-02-2025  12:40           897,024 logs_3.db\n",
      "01-02-2025  14:05                 0 logs_4.db\n",
      "01-02-2025  14:05           897,024 logs_4db.db\n",
      "01-02-2025  11:18             1,391 nlp.py\n",
      "03-02-2025  21:54           230,086 relu.c\n",
      "04-02-2025  21:00            32,768 relu.cp312-win_amd64.pyd\n",
      "03-02-2025  21:50                90 relu.pyx\n",
      "03-02-2025  21:52               112 setup.py\n",
      "03-02-2025  22:30         3,981,847 stocks.h5\n",
      "01-02-2025  14:11         5,864,900 taxi.csv.xz\n",
      "01-02-2025  11:07               974 test_outliers.py\n",
      "01-02-2025  11:07    <DIR>          __pycache__\n",
      "              25 File(s)     54,084,514 bytes\n",
      "               7 Dir(s)  775,922,868,224 bytes free\n"
     ]
    }
   ],
   "source": [
    "!dir"
   ]
  },
  {
   "cell_type": "code",
   "execution_count": 85,
   "id": "a0c4c0e5-d508-4133-9288-3ea2d58aca4b",
   "metadata": {},
   "outputs": [],
   "source": [
    "import relu1"
   ]
  },
  {
   "cell_type": "code",
   "execution_count": 86,
   "id": "4c1bae2b-b391-457b-8694-1ff245e8ad04",
   "metadata": {},
   "outputs": [
    {
     "name": "stdout",
     "output_type": "stream",
     "text": [
      "82.4 ns ± 6.98 ns per loop (mean ± std. dev. of 7 runs, 10,000,000 loops each)\n"
     ]
    }
   ],
   "source": [
    "%timeit relu1.relu(12)"
   ]
  },
  {
   "cell_type": "code",
   "execution_count": 87,
   "id": "c9e29221-10db-4754-ae75-75381514db8e",
   "metadata": {},
   "outputs": [],
   "source": [
    "import relu"
   ]
  },
  {
   "cell_type": "code",
   "execution_count": 88,
   "id": "0e5e5c12-a40b-49e1-9553-1825b455dfa7",
   "metadata": {},
   "outputs": [
    {
     "data": {
      "text/plain": [
       "<module 'relu' from 'C:\\\\Users\\\\Advait\\\\Desktop\\\\LinkedIn Learning HSBC\\\\Faster Pandas\\\\relu.cp312-win_amd64.pyd'>"
      ]
     },
     "execution_count": 88,
     "metadata": {},
     "output_type": "execute_result"
    }
   ],
   "source": [
    "relu"
   ]
  },
  {
   "cell_type": "code",
   "execution_count": 89,
   "id": "37cf4d2b-46df-498c-a692-e6005c4ebd60",
   "metadata": {},
   "outputs": [
    {
     "name": "stdout",
     "output_type": "stream",
     "text": [
      "75.3 ns ± 5.06 ns per loop (mean ± std. dev. of 7 runs, 10,000,000 loops each)\n"
     ]
    }
   ],
   "source": [
    "%timeit relu.relu(12)"
   ]
  },
  {
   "cell_type": "markdown",
   "id": "772cdc1e-58ed-4711-854e-0fcab3f690a6",
   "metadata": {},
   "source": [
    "### E. %%cython magic"
   ]
  },
  {
   "cell_type": "code",
   "execution_count": 90,
   "id": "08b04e2d-6db7-47cf-8d20-8adacf0ad51e",
   "metadata": {},
   "outputs": [],
   "source": [
    "def relu(n):\n",
    "    if n < 0:\n",
    "        return 0\n",
    "    return n"
   ]
  },
  {
   "cell_type": "code",
   "execution_count": 91,
   "id": "067eddb2-00ce-48e2-974c-9f198f9111b1",
   "metadata": {},
   "outputs": [
    {
     "name": "stdout",
     "output_type": "stream",
     "text": [
      "92.8 ns ± 4.5 ns per loop (mean ± std. dev. of 7 runs, 10,000,000 loops each)\n"
     ]
    }
   ],
   "source": [
    "%timeit relu(-3.4)"
   ]
  },
  {
   "cell_type": "code",
   "execution_count": 92,
   "id": "17ae0906-a4d6-4335-b745-4da00b077908",
   "metadata": {},
   "outputs": [],
   "source": [
    "%load_ext cython"
   ]
  },
  {
   "cell_type": "code",
   "execution_count": 93,
   "id": "4d6ac88a-c2c4-44a4-a485-ceeef06d0eed",
   "metadata": {},
   "outputs": [
    {
     "name": "stdout",
     "output_type": "stream",
     "text": [
      "Content of stdout:\n",
      "_cython_magic_d40d84a233797f20e35168bdc005e5e3524d71c6.c\n",
      "   Creating library C:\\Users\\Advait\\.ipython\\cython\\Users\\Advait\\.ipython\\cython\\_cython_magic_d40d84a233797f20e35168bdc005e5e3524d71c6.cp312-win_amd64.lib and object C:\\Users\\Advait\\.ipython\\cython\\Users\\Advait\\.ipython\\cython\\_cython_magic_d40d84a233797f20e35168bdc005e5e3524d71c6.cp312-win_amd64.exp\n",
      "Generating code\n",
      "Finished generating code"
     ]
    }
   ],
   "source": [
    "%%cython \n",
    "def cy_relu(double n):\n",
    "    if n < 0:\n",
    "        return 0\n",
    "    return n"
   ]
  },
  {
   "cell_type": "code",
   "execution_count": 94,
   "id": "2d43581b-e190-42cb-96b7-965cf28b4650",
   "metadata": {},
   "outputs": [
    {
     "data": {
      "text/plain": [
       "3.4"
      ]
     },
     "execution_count": 94,
     "metadata": {},
     "output_type": "execute_result"
    }
   ],
   "source": [
    "cy_relu(3.4)"
   ]
  },
  {
   "cell_type": "code",
   "execution_count": 95,
   "id": "f0e7240f-d69b-4937-9d51-e59c7de190c9",
   "metadata": {},
   "outputs": [
    {
     "data": {
      "text/plain": [
       "0"
      ]
     },
     "execution_count": 95,
     "metadata": {},
     "output_type": "execute_result"
    }
   ],
   "source": [
    "cy_relu(-3.4)"
   ]
  },
  {
   "cell_type": "code",
   "execution_count": 96,
   "id": "46a56e14-d7c0-40ae-9f72-54e4ce89b895",
   "metadata": {},
   "outputs": [
    {
     "name": "stdout",
     "output_type": "stream",
     "text": [
      "47 ns ± 3.96 ns per loop (mean ± std. dev. of 7 runs, 10,000,000 loops each)\n"
     ]
    }
   ],
   "source": [
    "%timeit cy_relu(-3.4)"
   ]
  },
  {
   "cell_type": "code",
   "execution_count": 97,
   "id": "d2f1e523-eed5-4238-b9b7-a452a1ae35fd",
   "metadata": {},
   "outputs": [
    {
     "data": {
      "text/plain": [
       "1.974468085106383"
      ]
     },
     "execution_count": 97,
     "metadata": {},
     "output_type": "execute_result"
    }
   ],
   "source": [
    "92.8 / 47"
   ]
  },
  {
   "cell_type": "markdown",
   "id": "e2bbbbfc-1cbd-4a1c-9b61-344f115587f0",
   "metadata": {},
   "source": [
    "### F. Challenge 7 --> Cython Speed Up"
   ]
  },
  {
   "cell_type": "code",
   "execution_count": 98,
   "id": "2326470b-a926-440d-932e-c237114bd1f8",
   "metadata": {},
   "outputs": [],
   "source": [
    "s = pd.Series(range(1_000_000))"
   ]
  },
  {
   "cell_type": "code",
   "execution_count": 99,
   "id": "3ef4628e-d948-4655-8d7c-68fcfe45e079",
   "metadata": {},
   "outputs": [],
   "source": [
    "%run second.py"
   ]
  },
  {
   "cell_type": "code",
   "execution_count": 100,
   "id": "f42fb42b-1323-4d7e-ad55-935f2a94d289",
   "metadata": {},
   "outputs": [
    {
     "name": "stdout",
     "output_type": "stream",
     "text": [
      "148 ms ± 10.7 ms per loop (mean ± std. dev. of 7 runs, 10 loops each)\n"
     ]
    }
   ],
   "source": [
    "%timeit second(s)"
   ]
  },
  {
   "cell_type": "code",
   "execution_count": 101,
   "id": "864103f9-ad3a-4532-aeb2-aeaa9a1a994b",
   "metadata": {},
   "outputs": [
    {
     "name": "stdout",
     "output_type": "stream",
     "text": [
      "The cython extension is already loaded. To reload it, use:\n",
      "  %reload_ext cython\n"
     ]
    }
   ],
   "source": [
    "%load_ext cython"
   ]
  },
  {
   "cell_type": "code",
   "execution_count": 103,
   "id": "04d0ccde-5496-43b3-a1ba-94914d464790",
   "metadata": {},
   "outputs": [
    {
     "name": "stdout",
     "output_type": "stream",
     "text": [
      "Content of stdout:\n",
      "_cython_magic_166b12832a26bb399b26d00daf35e3121a4c473b.c\n",
      "   Creating library C:\\Users\\Advait\\.ipython\\cython\\Users\\Advait\\.ipython\\cython\\_cython_magic_166b12832a26bb399b26d00daf35e3121a4c473b.cp312-win_amd64.lib and object C:\\Users\\Advait\\.ipython\\cython\\Users\\Advait\\.ipython\\cython\\_cython_magic_166b12832a26bb399b26d00daf35e3121a4c473b.cp312-win_amd64.exp\n",
      "Generating code\n",
      "Finished generating code"
     ]
    }
   ],
   "source": [
    "%%cython\n",
    "def cy_second(values):\n",
    "    top, second = values[0], values[1]\n",
    "    for value in values[2:]:\n",
    "        if value > top:\n",
    "            top, second = value, top\n",
    "        elif value > second:\n",
    "            second = value\n",
    "    return second"
   ]
  },
  {
   "cell_type": "code",
   "execution_count": 104,
   "id": "0637fd41-7bab-4496-96c2-b50b42d81f99",
   "metadata": {},
   "outputs": [
    {
     "data": {
      "text/plain": [
       "True"
      ]
     },
     "execution_count": 104,
     "metadata": {},
     "output_type": "execute_result"
    }
   ],
   "source": [
    "cy_second(s) == second(s)"
   ]
  },
  {
   "cell_type": "code",
   "execution_count": 105,
   "id": "564d4f88-f9a7-4962-8593-34b2353b11bf",
   "metadata": {},
   "outputs": [
    {
     "name": "stdout",
     "output_type": "stream",
     "text": [
      "126 ms ± 14.1 ms per loop (mean ± std. dev. of 7 runs, 10 loops each)\n"
     ]
    }
   ],
   "source": [
    "%timeit cy_second(s)"
   ]
  },
  {
   "cell_type": "code",
   "execution_count": 106,
   "id": "ef6e7c6d-9f20-4597-8549-927f28b3033c",
   "metadata": {},
   "outputs": [
    {
     "data": {
      "text/plain": [
       "1.1746031746031746"
      ]
     },
     "execution_count": 106,
     "metadata": {},
     "output_type": "execute_result"
    }
   ],
   "source": [
    "148 / 126"
   ]
  },
  {
   "cell_type": "markdown",
   "id": "8f162e5b-51e7-4773-8628-fa3c4625ce6c",
   "metadata": {},
   "source": [
    "## 8. Alternative DataFrames"
   ]
  },
  {
   "cell_type": "markdown",
   "id": "9279d1e3-cc47-43d9-a1ae-b2ed3fd91b42",
   "metadata": {},
   "source": [
    "### A. Using Dask"
   ]
  },
  {
   "cell_type": "code",
   "execution_count": 107,
   "id": "76971dba-2420-4342-8b2a-7cbb97095f05",
   "metadata": {},
   "outputs": [
    {
     "name": "stdout",
     "output_type": "stream",
     "text": [
      "Requirement already satisfied: dask[complete] in c:\\users\\advait\\anaconda3\\lib\\site-packages (2024.5.0)\n",
      "Requirement already satisfied: click>=8.1 in c:\\users\\advait\\anaconda3\\lib\\site-packages (from dask[complete]) (8.1.7)\n",
      "Requirement already satisfied: cloudpickle>=1.5.0 in c:\\users\\advait\\anaconda3\\lib\\site-packages (from dask[complete]) (2.2.1)\n",
      "Requirement already satisfied: fsspec>=2021.09.0 in c:\\users\\advait\\anaconda3\\lib\\site-packages (from dask[complete]) (2024.3.1)\n",
      "Requirement already satisfied: packaging>=20.0 in c:\\users\\advait\\anaconda3\\lib\\site-packages (from dask[complete]) (23.2)\n",
      "Requirement already satisfied: partd>=1.2.0 in c:\\users\\advait\\anaconda3\\lib\\site-packages (from dask[complete]) (1.4.1)\n",
      "Requirement already satisfied: pyyaml>=5.3.1 in c:\\users\\advait\\anaconda3\\lib\\site-packages (from dask[complete]) (6.0.1)\n",
      "Requirement already satisfied: toolz>=0.10.0 in c:\\users\\advait\\anaconda3\\lib\\site-packages (from dask[complete]) (0.12.0)\n",
      "Requirement already satisfied: pyarrow>=7.0 in c:\\users\\advait\\anaconda3\\lib\\site-packages (from dask[complete]) (14.0.2)\n",
      "Collecting pyarrow-hotfix (from dask[complete])\n",
      "  Downloading pyarrow_hotfix-0.6-py3-none-any.whl.metadata (3.6 kB)\n",
      "Requirement already satisfied: lz4>=4.3.2 in c:\\users\\advait\\anaconda3\\lib\\site-packages (from dask[complete]) (4.3.2)\n",
      "Requirement already satisfied: colorama in c:\\users\\advait\\anaconda3\\lib\\site-packages (from click>=8.1->dask[complete]) (0.4.6)\n",
      "Requirement already satisfied: locket in c:\\users\\advait\\anaconda3\\lib\\site-packages (from partd>=1.2.0->dask[complete]) (1.0.0)\n",
      "Requirement already satisfied: numpy>=1.16.6 in c:\\users\\advait\\anaconda3\\lib\\site-packages (from pyarrow>=7.0->dask[complete]) (1.26.4)\n",
      "Requirement already satisfied: pandas>=1.3 in c:\\users\\advait\\anaconda3\\lib\\site-packages (from dask[complete]) (2.2.2)\n",
      "Requirement already satisfied: dask-expr<1.2,>=1.1 in c:\\users\\advait\\anaconda3\\lib\\site-packages (from dask[complete]) (1.1.0)\n",
      "Requirement already satisfied: bokeh>=2.4.2 in c:\\users\\advait\\anaconda3\\lib\\site-packages (from dask[complete]) (3.4.1)\n",
      "Requirement already satisfied: jinja2>=2.10.3 in c:\\users\\advait\\anaconda3\\lib\\site-packages (from dask[complete]) (3.1.4)\n",
      "Requirement already satisfied: distributed==2024.5.0 in c:\\users\\advait\\anaconda3\\lib\\site-packages (from dask[complete]) (2024.5.0)\n",
      "Requirement already satisfied: msgpack>=1.0.0 in c:\\users\\advait\\anaconda3\\lib\\site-packages (from distributed==2024.5.0->dask[complete]) (1.0.3)\n",
      "Requirement already satisfied: psutil>=5.7.2 in c:\\users\\advait\\anaconda3\\lib\\site-packages (from distributed==2024.5.0->dask[complete]) (5.9.0)\n",
      "Requirement already satisfied: sortedcontainers>=2.0.5 in c:\\users\\advait\\anaconda3\\lib\\site-packages (from distributed==2024.5.0->dask[complete]) (2.4.0)\n",
      "Requirement already satisfied: tblib>=1.6.0 in c:\\users\\advait\\anaconda3\\lib\\site-packages (from distributed==2024.5.0->dask[complete]) (1.7.0)\n",
      "Requirement already satisfied: tornado>=6.0.4 in c:\\users\\advait\\anaconda3\\lib\\site-packages (from distributed==2024.5.0->dask[complete]) (6.4.1)\n",
      "Requirement already satisfied: urllib3>=1.24.3 in c:\\users\\advait\\anaconda3\\lib\\site-packages (from distributed==2024.5.0->dask[complete]) (2.2.2)\n",
      "Requirement already satisfied: zict>=3.0.0 in c:\\users\\advait\\anaconda3\\lib\\site-packages (from distributed==2024.5.0->dask[complete]) (3.0.0)\n",
      "Requirement already satisfied: contourpy>=1.2 in c:\\users\\advait\\anaconda3\\lib\\site-packages (from bokeh>=2.4.2->dask[complete]) (1.2.0)\n",
      "Requirement already satisfied: pillow>=7.1.0 in c:\\users\\advait\\anaconda3\\lib\\site-packages (from bokeh>=2.4.2->dask[complete]) (10.3.0)\n",
      "Requirement already satisfied: xyzservices>=2021.09.1 in c:\\users\\advait\\anaconda3\\lib\\site-packages (from bokeh>=2.4.2->dask[complete]) (2022.9.0)\n",
      "Requirement already satisfied: MarkupSafe>=2.0 in c:\\users\\advait\\anaconda3\\lib\\site-packages (from jinja2>=2.10.3->dask[complete]) (2.1.3)\n",
      "Requirement already satisfied: python-dateutil>=2.8.2 in c:\\users\\advait\\anaconda3\\lib\\site-packages (from pandas>=1.3->dask[complete]) (2.9.0.post0)\n",
      "Requirement already satisfied: pytz>=2020.1 in c:\\users\\advait\\anaconda3\\lib\\site-packages (from pandas>=1.3->dask[complete]) (2024.1)\n",
      "Requirement already satisfied: tzdata>=2022.7 in c:\\users\\advait\\anaconda3\\lib\\site-packages (from pandas>=1.3->dask[complete]) (2023.3)\n",
      "Requirement already satisfied: six>=1.5 in c:\\users\\advait\\anaconda3\\lib\\site-packages (from python-dateutil>=2.8.2->pandas>=1.3->dask[complete]) (1.16.0)\n",
      "Downloading pyarrow_hotfix-0.6-py3-none-any.whl (7.9 kB)\n",
      "Installing collected packages: pyarrow-hotfix\n",
      "Successfully installed pyarrow-hotfix-0.6\n"
     ]
    }
   ],
   "source": [
    "!pip install \"dask[complete]\""
   ]
  },
  {
   "cell_type": "code",
   "execution_count": 1,
   "id": "64011e38-6763-49ae-a0ad-6acea7373358",
   "metadata": {},
   "outputs": [],
   "source": [
    "import dask.dataframe as dd"
   ]
  },
  {
   "cell_type": "code",
   "execution_count": 2,
   "id": "549db123-b517-4121-ae2e-bf2961cc9d08",
   "metadata": {},
   "outputs": [],
   "source": [
    "df = dd.read_csv('*.csv.xz', compression = 'lzma', blocksize = None)"
   ]
  },
  {
   "cell_type": "code",
   "execution_count": 3,
   "id": "6b218df6-4d89-4a8f-b38d-9bc40584aadf",
   "metadata": {},
   "outputs": [
    {
     "data": {
      "text/html": [
       "<div><strong>Dask DataFrame Structure:</strong></div>\n",
       "<table border=\"1\" class=\"dataframe\">\n",
       "  <thead>\n",
       "    <tr style=\"text-align: right;\">\n",
       "      <th></th>\n",
       "      <th>origin</th>\n",
       "      <th>time</th>\n",
       "      <th>method</th>\n",
       "      <th>path</th>\n",
       "      <th>status_code</th>\n",
       "      <th>size</th>\n",
       "    </tr>\n",
       "    <tr>\n",
       "      <th>npartitions=5</th>\n",
       "      <th></th>\n",
       "      <th></th>\n",
       "      <th></th>\n",
       "      <th></th>\n",
       "      <th></th>\n",
       "      <th></th>\n",
       "    </tr>\n",
       "  </thead>\n",
       "  <tbody>\n",
       "    <tr>\n",
       "      <th></th>\n",
       "      <td>string</td>\n",
       "      <td>string</td>\n",
       "      <td>string</td>\n",
       "      <td>string</td>\n",
       "      <td>int64</td>\n",
       "      <td>int64</td>\n",
       "    </tr>\n",
       "    <tr>\n",
       "      <th></th>\n",
       "      <td>...</td>\n",
       "      <td>...</td>\n",
       "      <td>...</td>\n",
       "      <td>...</td>\n",
       "      <td>...</td>\n",
       "      <td>...</td>\n",
       "    </tr>\n",
       "    <tr>\n",
       "      <th>...</th>\n",
       "      <td>...</td>\n",
       "      <td>...</td>\n",
       "      <td>...</td>\n",
       "      <td>...</td>\n",
       "      <td>...</td>\n",
       "      <td>...</td>\n",
       "    </tr>\n",
       "    <tr>\n",
       "      <th></th>\n",
       "      <td>...</td>\n",
       "      <td>...</td>\n",
       "      <td>...</td>\n",
       "      <td>...</td>\n",
       "      <td>...</td>\n",
       "      <td>...</td>\n",
       "    </tr>\n",
       "    <tr>\n",
       "      <th></th>\n",
       "      <td>...</td>\n",
       "      <td>...</td>\n",
       "      <td>...</td>\n",
       "      <td>...</td>\n",
       "      <td>...</td>\n",
       "      <td>...</td>\n",
       "    </tr>\n",
       "  </tbody>\n",
       "</table>\n",
       "<div>Dask Name: read_csv, 1 expression</div>"
      ],
      "text/plain": [
       "Dask DataFrame Structure:\n",
       "               origin    time  method    path status_code   size\n",
       "npartitions=5                                                   \n",
       "               string  string  string  string       int64  int64\n",
       "                  ...     ...     ...     ...         ...    ...\n",
       "...               ...     ...     ...     ...         ...    ...\n",
       "                  ...     ...     ...     ...         ...    ...\n",
       "                  ...     ...     ...     ...         ...    ...\n",
       "Dask Name: read_csv, 1 expression\n",
       "Expr=ReadCSV(a0f9b58)"
      ]
     },
     "execution_count": 3,
     "metadata": {},
     "output_type": "execute_result"
    }
   ],
   "source": [
    "df"
   ]
  },
  {
   "cell_type": "code",
   "execution_count": 4,
   "id": "83b78997-3bd9-4c8b-98ce-7fa313cdaae4",
   "metadata": {},
   "outputs": [
    {
     "data": {
      "text/plain": [
       "1000000"
      ]
     },
     "execution_count": 4,
     "metadata": {},
     "output_type": "execute_result"
    }
   ],
   "source": [
    "len(df)"
   ]
  },
  {
   "cell_type": "code",
   "execution_count": 5,
   "id": "15e5a9d0-727f-442b-ab64-8ff3f7e82396",
   "metadata": {},
   "outputs": [
    {
     "data": {
      "text/plain": [
       "Dask Series Structure:\n",
       "npartitions=1\n",
       "    int64\n",
       "      ...\n",
       "Dask Name: count, 3 expressions\n",
       "Expr=Count(frame=ReadCSV(a0f9b58)[['status_code', 'size']], observed=False, _slice='size')"
      ]
     },
     "execution_count": 5,
     "metadata": {},
     "output_type": "execute_result"
    }
   ],
   "source": [
    "df.groupby('status_code')['size'].count()"
   ]
  },
  {
   "cell_type": "code",
   "execution_count": 6,
   "id": "992a3303-0e6e-4925-85be-10e9d5e169bf",
   "metadata": {},
   "outputs": [
    {
     "data": {
      "text/plain": [
       "status_code\n",
       "200    893702\n",
       "302     27783\n",
       "304     72942\n",
       "403        18\n",
       "404      5550\n",
       "501         4\n",
       "500         1\n",
       "Name: size, dtype: int64"
      ]
     },
     "execution_count": 6,
     "metadata": {},
     "output_type": "execute_result"
    }
   ],
   "source": [
    "df.groupby('status_code')['size'].count().compute()"
   ]
  },
  {
   "cell_type": "code",
   "execution_count": null,
   "id": "20a84467-e7eb-468c-83ca-751604f44067",
   "metadata": {},
   "outputs": [],
   "source": []
  }
 ],
 "metadata": {
  "kernelspec": {
   "display_name": "Python 3 (ipykernel)",
   "language": "python",
   "name": "python3"
  },
  "language_info": {
   "codemirror_mode": {
    "name": "ipython",
    "version": 3
   },
   "file_extension": ".py",
   "mimetype": "text/x-python",
   "name": "python",
   "nbconvert_exporter": "python",
   "pygments_lexer": "ipython3",
   "version": "3.12.4"
  }
 },
 "nbformat": 4,
 "nbformat_minor": 5
}
