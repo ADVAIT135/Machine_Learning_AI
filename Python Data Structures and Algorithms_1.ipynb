{
 "cells": [
  {
   "cell_type": "markdown",
   "id": "8c0b25d8-41b1-402a-968d-454f6e9c9b16",
   "metadata": {},
   "source": [
    "# LinkedIn Learning\n",
    "# Python Data Structures and Algorithms_1"
   ]
  },
  {
   "cell_type": "markdown",
   "id": "63561131-27d8-410d-8717-74a660145364",
   "metadata": {},
   "source": [
    "## 1. The Stack Data Structure"
   ]
  },
  {
   "cell_type": "markdown",
   "id": "54f486e2-caa9-4de8-923d-1991fc40a52d",
   "metadata": {},
   "source": [
    "#### LIFO Data Structure -> Last In First Out"
   ]
  },
  {
   "cell_type": "markdown",
   "id": "8a023a3a-9805-4ad4-9cac-503230529f36",
   "metadata": {},
   "source": [
    "#### Push(item) -> push item to the top of the stack\n",
    "#### Pop(item) -> remove and return the top item\n",
    "#### Peek(item) -> return the top item without removing it\n",
    "#### is_empty(item) -> return True if the stack is empty\n",
    "#### append(item) -> Add Item to the Top of the Stack"
   ]
  },
  {
   "cell_type": "markdown",
   "id": "47284828-4211-483a-b4f6-92506c89605a",
   "metadata": {},
   "source": [
    "#### Insertion and Deletion is done on the same side of the stack(Right Side)"
   ]
  },
  {
   "cell_type": "markdown",
   "id": "1141ff15-78d8-4387-8378-808e930e471e",
   "metadata": {},
   "source": [
    "### A. Build a Stack Class in Python"
   ]
  },
  {
   "cell_type": "code",
   "execution_count": 1,
   "id": "23311a33-2ebf-4c6d-a52e-3a1b318f3aee",
   "metadata": {},
   "outputs": [],
   "source": [
    "class Stack:\n",
    "    def __init__(self):\n",
    "        self.items = []\n",
    "\n",
    "    def is_empty(self):\n",
    "        #return len(self.items) == 0\n",
    "        return not self.items\n",
    "\n",
    "    def push(self, item):\n",
    "        self.items.append(item)\n",
    "\n",
    "    def pop(self):\n",
    "        return self.items.pop()\n",
    "\n",
    "    def peek(self):\n",
    "        return self.items[-1]\n",
    "\n",
    "    def size(self):\n",
    "        return len(self.items)\n",
    "\n",
    "    def __str__(self):\n",
    "        return str(self.items)"
   ]
  },
  {
   "cell_type": "code",
   "execution_count": 3,
   "id": "439e3af3-8057-4fb2-bd69-43191ac5f0cc",
   "metadata": {},
   "outputs": [
    {
     "name": "stdout",
     "output_type": "stream",
     "text": [
      "[]\n",
      "True\n",
      "[3]\n",
      "[3, 7, 5]\n",
      "5\n",
      "[3, 7]\n",
      "7\n",
      "2\n"
     ]
    }
   ],
   "source": [
    "if __name__ == \"__main__\":\n",
    "    s = Stack()\n",
    "    print(s)\n",
    "    print(s.is_empty())\n",
    "    s.push(3)\n",
    "    print(s)\n",
    "    s.push(7)\n",
    "    s.push(5)\n",
    "    print(s)\n",
    "    print(s.pop())\n",
    "    print(s)\n",
    "    print(s.peek())\n",
    "    print(s.size())\n",
    "    "
   ]
  },
  {
   "cell_type": "code",
   "execution_count": 26,
   "id": "efea8afa-69d3-4edc-a6b3-353123efa4f7",
   "metadata": {},
   "outputs": [],
   "source": [
    "# Reverse a String using Stack\n",
    "\n",
    "a = \"I am fine\"\n",
    "c = \"\"\n",
    "b = Stack()\n",
    "for char in a:\n",
    "    b.push(char)\n",
    "while not b.is_empty():\n",
    "    c += b.pop()"
   ]
  },
  {
   "cell_type": "code",
   "execution_count": 27,
   "id": "128ba07a-3b8c-4224-b342-634476f0ff92",
   "metadata": {},
   "outputs": [
    {
     "data": {
      "text/plain": [
       "'enif ma I'"
      ]
     },
     "execution_count": 27,
     "metadata": {},
     "output_type": "execute_result"
    }
   ],
   "source": [
    "c"
   ]
  },
  {
   "cell_type": "markdown",
   "id": "48a46a8f-3cbe-413e-9ab1-cc4f542d3210",
   "metadata": {},
   "source": [
    "### 2. The 2D List Data Structures"
   ]
  },
  {
   "cell_type": "markdown",
   "id": "883d6d0a-593d-4c37-ac5b-c06192de3f06",
   "metadata": {},
   "source": [
    "### A. Read a Maze from a Text file"
   ]
  },
  {
   "cell_type": "code",
   "execution_count": 28,
   "id": "65e04c86-a587-48ad-b40d-c247279415e1",
   "metadata": {},
   "outputs": [],
   "source": [
    "def read_maze(file_name):\n",
    "    try:\n",
    "        with open(file_name) as fh:\n",
    "            maze = [[char for char in line.strip(\"\\n\")] for line in fh]\n",
    "            nums_cols_top_row = len(maze[0])\n",
    "            for row in maze:\n",
    "                if len(row) != nums_cols_top_row:\n",
    "                    print(\"The maze is not a rectangular.\")\n",
    "                    raise SystemExit\n",
    "                return maze\n",
    "    except OSError:\n",
    "        print(\"There is a problem with the file you have selected.\")\n",
    "        raise SystemExit"
   ]
  },
  {
   "cell_type": "code",
   "execution_count": 29,
   "id": "e6dd67cb-a623-4f5c-9888-6a448a240c38",
   "metadata": {},
   "outputs": [
    {
     "name": "stdout",
     "output_type": "stream",
     "text": [
      "['*', '*', '*', '*', '*', '*', '*', '*', '*', '*']\n",
      "['*', ' ', ' ', ' ', ' ', ' ', ' ', ' ', ' ', '*']\n",
      "['*', ' ', '*', ' ', '*', '*', '*', '*', '*', '*']\n",
      "['*', ' ', '*', ' ', ' ', ' ', ' ', ' ', ' ', '*']\n",
      "['*', ' ', '*', '*', ' ', '*', ' ', '*', '*', '*']\n",
      "['*', ' ', '*', ' ', ' ', '*', ' ', '*', ' ', '*']\n",
      "['*', ' ', '*', ' ', ' ', ' ', ' ', ' ', ' ', '*']\n",
      "['*', ' ', '*', '*', '*', ' ', '*', '*', '*', '*']\n",
      "['*', ' ', '*', ' ', ' ', ' ', ' ', ' ', ' ', '*']\n",
      "['*', '*', '*', '*', '*', '*', '*', '*', '*', '*']\n"
     ]
    }
   ],
   "source": [
    "if __name__ == \"__main__\":\n",
    "    maze = read_maze(r\"C:\\Users\\Advait\\Desktop\\LinkedIn Learning HSBC\\Python Data Structures and Algorithms\\Ex_Files_Python_Data_Structures\\Ex_Files_Python_Data_Structures\\Exercise Files\\03_03_begin\\mazes\\modest_maze.txt\")\n",
    "    for row in maze:\n",
    "        print(row)"
   ]
  },
  {
   "cell_type": "code",
   "execution_count": 30,
   "id": "10395c79-8d3f-4dcc-a800-1430190bb86c",
   "metadata": {},
   "outputs": [
    {
     "name": "stdout",
     "output_type": "stream",
     "text": [
      "[' ', ' ', '*', ' ']\n",
      "[' ', ' ', ' ', ' ']\n",
      "[' ', '*', ' ', '*']\n",
      "[' ', ' ', ' ', ' ']\n"
     ]
    }
   ],
   "source": [
    "if __name__ == \"__main__\":\n",
    "    maze_2 = read_maze(r\"C:\\Users\\Advait\\Desktop\\LinkedIn Learning HSBC\\Python Data Structures and Algorithms\\Ex_Files_Python_Data_Structures\\Ex_Files_Python_Data_Structures\\Exercise Files\\03_03_begin\\mazes\\challenge_maze.txt\")\n",
    "    for row in maze_2:\n",
    "        print(row)"
   ]
  },
  {
   "cell_type": "code",
   "execution_count": null,
   "id": "6ec81e1d-0e00-42e1-945f-5b8063274cab",
   "metadata": {},
   "outputs": [],
   "source": []
  }
 ],
 "metadata": {
  "kernelspec": {
   "display_name": "Python 3 (ipykernel)",
   "language": "python",
   "name": "python3"
  },
  "language_info": {
   "codemirror_mode": {
    "name": "ipython",
    "version": 3
   },
   "file_extension": ".py",
   "mimetype": "text/x-python",
   "name": "python",
   "nbconvert_exporter": "python",
   "pygments_lexer": "ipython3",
   "version": "3.12.4"
  }
 },
 "nbformat": 4,
 "nbformat_minor": 5
}
