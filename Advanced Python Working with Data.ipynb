{
 "cells": [
  {
   "cell_type": "markdown",
   "id": "1ca91640-cdc2-41a9-ac61-fd301bd43838",
   "metadata": {},
   "source": [
    "# LinkedIn Learning\n",
    "# Advanced Python Working with Data\n",
    "# Dataset used -> https://earthquake.usgs.gov/earthquakes/feed/v1.0/summary/all_month.geojson"
   ]
  },
  {
   "cell_type": "markdown",
   "id": "bb9b6080-b585-4cc8-8a9e-f12f92c3f568",
   "metadata": {},
   "source": [
    "## 1. Built-In Data Function"
   ]
  },
  {
   "cell_type": "markdown",
   "id": "782345e7-c6ba-46b5-8b9a-4f2004e6c849",
   "metadata": {},
   "source": [
    "### A. Finding Min and Max Values"
   ]
  },
  {
   "cell_type": "code",
   "execution_count": 1,
   "id": "51bf5321-b1c8-4e81-8573-94abeb0d52a5",
   "metadata": {},
   "outputs": [],
   "source": [
    "import json\n",
    "import geopandas as gpd"
   ]
  },
  {
   "cell_type": "code",
   "execution_count": 2,
   "id": "71d13fe2-de9f-4048-8cf0-225d0a6f0d96",
   "metadata": {},
   "outputs": [],
   "source": [
    "values = [3.0, 2.5, 5.1, 4.1, 1.8, 1.6, 2.2, 5.7, 6.1]\n",
    "strings = [\"one\", \"three\", \"five\", \"seven\", \"eleven\", \"eighteen\"]"
   ]
  },
  {
   "cell_type": "code",
   "execution_count": 3,
   "id": "0df7e07a-e04a-4dcb-868e-2b30d5bdd3a7",
   "metadata": {},
   "outputs": [
    {
     "name": "stdout",
     "output_type": "stream",
     "text": [
      "The Minimum value is: 1.6\n",
      "The Minimum value is: eighteen\n"
     ]
    }
   ],
   "source": [
    "print(f\"The Minimum value is: {min(values)}\")\n",
    "print(f\"The Minimum value is: {min(strings)}\")"
   ]
  },
  {
   "cell_type": "code",
   "execution_count": 4,
   "id": "597a6e23-06a6-4324-bec8-b6368f79b978",
   "metadata": {},
   "outputs": [
    {
     "name": "stdout",
     "output_type": "stream",
     "text": [
      "The Maximum value is: 6.1\n",
      "The Maximum value is: three\n"
     ]
    }
   ],
   "source": [
    "print(f\"The Maximum value is: {max(values)}\")\n",
    "print(f\"The Maximum value is: {max(strings)}\")"
   ]
  },
  {
   "cell_type": "code",
   "execution_count": 5,
   "id": "e16705ab-bd1a-406d-9d92-de5b8a78296d",
   "metadata": {},
   "outputs": [
    {
     "name": "stdout",
     "output_type": "stream",
     "text": [
      "The Minimum value is: one\n",
      "The Maximum value is: eighteen\n"
     ]
    }
   ],
   "source": [
    "print(f\"The Minimum value is: {min(strings, key = len)}\")\n",
    "print(f\"The Maximum value is: {max(strings, key = len)}\")"
   ]
  },
  {
   "cell_type": "code",
   "execution_count": 6,
   "id": "d4aea9b6-320d-4429-8332-c4efb22f6763",
   "metadata": {},
   "outputs": [],
   "source": [
    "data = gpd.read_file('all_month.geojson')"
   ]
  },
  {
   "cell_type": "code",
   "execution_count": 7,
   "id": "db08fd16-00c3-449c-9870-d347224c6b1b",
   "metadata": {},
   "outputs": [
    {
     "data": {
      "text/html": [
       "<div>\n",
       "<style scoped>\n",
       "    .dataframe tbody tr th:only-of-type {\n",
       "        vertical-align: middle;\n",
       "    }\n",
       "\n",
       "    .dataframe tbody tr th {\n",
       "        vertical-align: top;\n",
       "    }\n",
       "\n",
       "    .dataframe thead th {\n",
       "        text-align: right;\n",
       "    }\n",
       "</style>\n",
       "<table border=\"1\" class=\"dataframe\">\n",
       "  <thead>\n",
       "    <tr style=\"text-align: right;\">\n",
       "      <th></th>\n",
       "      <th>id</th>\n",
       "      <th>mag</th>\n",
       "      <th>place</th>\n",
       "      <th>time</th>\n",
       "      <th>updated</th>\n",
       "      <th>tz</th>\n",
       "      <th>url</th>\n",
       "      <th>detail</th>\n",
       "      <th>felt</th>\n",
       "      <th>cdi</th>\n",
       "      <th>...</th>\n",
       "      <th>sources</th>\n",
       "      <th>types</th>\n",
       "      <th>nst</th>\n",
       "      <th>dmin</th>\n",
       "      <th>rms</th>\n",
       "      <th>gap</th>\n",
       "      <th>magType</th>\n",
       "      <th>type</th>\n",
       "      <th>title</th>\n",
       "      <th>geometry</th>\n",
       "    </tr>\n",
       "  </thead>\n",
       "  <tbody>\n",
       "    <tr>\n",
       "      <th>0</th>\n",
       "      <td>ak024cjkri0j</td>\n",
       "      <td>1.90</td>\n",
       "      <td>5 km NW of Point MacKenzie, Alaska</td>\n",
       "      <td>1727586727554</td>\n",
       "      <td>1727586844068</td>\n",
       "      <td>None</td>\n",
       "      <td>https://earthquake.usgs.gov/earthquakes/eventp...</td>\n",
       "      <td>https://earthquake.usgs.gov/earthquakes/feed/v...</td>\n",
       "      <td>NaN</td>\n",
       "      <td>NaN</td>\n",
       "      <td>...</td>\n",
       "      <td>,ak,</td>\n",
       "      <td>,origin,phase-data,</td>\n",
       "      <td>NaN</td>\n",
       "      <td>NaN</td>\n",
       "      <td>0.34</td>\n",
       "      <td>NaN</td>\n",
       "      <td>ml</td>\n",
       "      <td>earthquake</td>\n",
       "      <td>M 1.9 - 5 km NW of Point MacKenzie, Alaska</td>\n",
       "      <td>POINT Z (-150.0342 61.3982 34)</td>\n",
       "    </tr>\n",
       "    <tr>\n",
       "      <th>1</th>\n",
       "      <td>nc75068081</td>\n",
       "      <td>1.07</td>\n",
       "      <td>8 km WNW of Cobb, CA</td>\n",
       "      <td>1727584986970</td>\n",
       "      <td>1727586567288</td>\n",
       "      <td>None</td>\n",
       "      <td>https://earthquake.usgs.gov/earthquakes/eventp...</td>\n",
       "      <td>https://earthquake.usgs.gov/earthquakes/feed/v...</td>\n",
       "      <td>NaN</td>\n",
       "      <td>NaN</td>\n",
       "      <td>...</td>\n",
       "      <td>,nc,</td>\n",
       "      <td>,nearby-cities,origin,phase-data,scitech-link,</td>\n",
       "      <td>21.0</td>\n",
       "      <td>0.01146</td>\n",
       "      <td>0.02</td>\n",
       "      <td>50.0</td>\n",
       "      <td>md</td>\n",
       "      <td>earthquake</td>\n",
       "      <td>M 1.1 - 8 km WNW of Cobb, CA</td>\n",
       "      <td>POINT Z (-122.80883 38.83484 1.85)</td>\n",
       "    </tr>\n",
       "    <tr>\n",
       "      <th>2</th>\n",
       "      <td>ci40748007</td>\n",
       "      <td>0.82</td>\n",
       "      <td>13 km NE of Little Lake, CA</td>\n",
       "      <td>1727584936590</td>\n",
       "      <td>1727585293586</td>\n",
       "      <td>None</td>\n",
       "      <td>https://earthquake.usgs.gov/earthquakes/eventp...</td>\n",
       "      <td>https://earthquake.usgs.gov/earthquakes/feed/v...</td>\n",
       "      <td>NaN</td>\n",
       "      <td>NaN</td>\n",
       "      <td>...</td>\n",
       "      <td>,ci,</td>\n",
       "      <td>,nearby-cities,origin,phase-data,scitech-link,</td>\n",
       "      <td>18.0</td>\n",
       "      <td>0.02840</td>\n",
       "      <td>0.14</td>\n",
       "      <td>62.0</td>\n",
       "      <td>ml</td>\n",
       "      <td>earthquake</td>\n",
       "      <td>M 0.8 - 13 km NE of Little Lake, CA</td>\n",
       "      <td>POINT Z (-117.793 36.00783 1.6)</td>\n",
       "    </tr>\n",
       "    <tr>\n",
       "      <th>3</th>\n",
       "      <td>ak024cjk9lc2</td>\n",
       "      <td>0.70</td>\n",
       "      <td>51 km NE of Whittier, Alaska</td>\n",
       "      <td>1727584132543</td>\n",
       "      <td>1727584281751</td>\n",
       "      <td>None</td>\n",
       "      <td>https://earthquake.usgs.gov/earthquakes/eventp...</td>\n",
       "      <td>https://earthquake.usgs.gov/earthquakes/feed/v...</td>\n",
       "      <td>NaN</td>\n",
       "      <td>NaN</td>\n",
       "      <td>...</td>\n",
       "      <td>,ak,</td>\n",
       "      <td>,origin,phase-data,</td>\n",
       "      <td>NaN</td>\n",
       "      <td>NaN</td>\n",
       "      <td>0.59</td>\n",
       "      <td>NaN</td>\n",
       "      <td>ml</td>\n",
       "      <td>earthquake</td>\n",
       "      <td>M 0.7 - 51 km NE of Whittier, Alaska</td>\n",
       "      <td>POINT Z (-148.0763 61.1287 10.2)</td>\n",
       "    </tr>\n",
       "    <tr>\n",
       "      <th>4</th>\n",
       "      <td>us7000nh29</td>\n",
       "      <td>4.50</td>\n",
       "      <td>17 km W of Landi Kotal, Pakistan</td>\n",
       "      <td>1727583922806</td>\n",
       "      <td>1727585081040</td>\n",
       "      <td>None</td>\n",
       "      <td>https://earthquake.usgs.gov/earthquakes/eventp...</td>\n",
       "      <td>https://earthquake.usgs.gov/earthquakes/feed/v...</td>\n",
       "      <td>NaN</td>\n",
       "      <td>NaN</td>\n",
       "      <td>...</td>\n",
       "      <td>,us,</td>\n",
       "      <td>,origin,phase-data,</td>\n",
       "      <td>34.0</td>\n",
       "      <td>4.82100</td>\n",
       "      <td>0.94</td>\n",
       "      <td>170.0</td>\n",
       "      <td>mb</td>\n",
       "      <td>earthquake</td>\n",
       "      <td>M 4.5 - 17 km W of Landi Kotal, Pakistan</td>\n",
       "      <td>POINT Z (70.953 34.0907 49.326)</td>\n",
       "    </tr>\n",
       "  </tbody>\n",
       "</table>\n",
       "<p>5 rows × 28 columns</p>\n",
       "</div>"
      ],
      "text/plain": [
       "             id   mag                               place           time  \\\n",
       "0  ak024cjkri0j  1.90  5 km NW of Point MacKenzie, Alaska  1727586727554   \n",
       "1    nc75068081  1.07                8 km WNW of Cobb, CA  1727584986970   \n",
       "2    ci40748007  0.82         13 km NE of Little Lake, CA  1727584936590   \n",
       "3  ak024cjk9lc2  0.70        51 km NE of Whittier, Alaska  1727584132543   \n",
       "4    us7000nh29  4.50    17 km W of Landi Kotal, Pakistan  1727583922806   \n",
       "\n",
       "         updated    tz                                                url  \\\n",
       "0  1727586844068  None  https://earthquake.usgs.gov/earthquakes/eventp...   \n",
       "1  1727586567288  None  https://earthquake.usgs.gov/earthquakes/eventp...   \n",
       "2  1727585293586  None  https://earthquake.usgs.gov/earthquakes/eventp...   \n",
       "3  1727584281751  None  https://earthquake.usgs.gov/earthquakes/eventp...   \n",
       "4  1727585081040  None  https://earthquake.usgs.gov/earthquakes/eventp...   \n",
       "\n",
       "                                              detail  felt  cdi  ...  sources  \\\n",
       "0  https://earthquake.usgs.gov/earthquakes/feed/v...   NaN  NaN  ...     ,ak,   \n",
       "1  https://earthquake.usgs.gov/earthquakes/feed/v...   NaN  NaN  ...     ,nc,   \n",
       "2  https://earthquake.usgs.gov/earthquakes/feed/v...   NaN  NaN  ...     ,ci,   \n",
       "3  https://earthquake.usgs.gov/earthquakes/feed/v...   NaN  NaN  ...     ,ak,   \n",
       "4  https://earthquake.usgs.gov/earthquakes/feed/v...   NaN  NaN  ...     ,us,   \n",
       "\n",
       "                                            types   nst     dmin   rms    gap  \\\n",
       "0                             ,origin,phase-data,   NaN      NaN  0.34    NaN   \n",
       "1  ,nearby-cities,origin,phase-data,scitech-link,  21.0  0.01146  0.02   50.0   \n",
       "2  ,nearby-cities,origin,phase-data,scitech-link,  18.0  0.02840  0.14   62.0   \n",
       "3                             ,origin,phase-data,   NaN      NaN  0.59    NaN   \n",
       "4                             ,origin,phase-data,  34.0  4.82100  0.94  170.0   \n",
       "\n",
       "  magType        type                                       title  \\\n",
       "0      ml  earthquake  M 1.9 - 5 km NW of Point MacKenzie, Alaska   \n",
       "1      md  earthquake                M 1.1 - 8 km WNW of Cobb, CA   \n",
       "2      ml  earthquake         M 0.8 - 13 km NE of Little Lake, CA   \n",
       "3      ml  earthquake        M 0.7 - 51 km NE of Whittier, Alaska   \n",
       "4      mb  earthquake    M 4.5 - 17 km W of Landi Kotal, Pakistan   \n",
       "\n",
       "                             geometry  \n",
       "0      POINT Z (-150.0342 61.3982 34)  \n",
       "1  POINT Z (-122.80883 38.83484 1.85)  \n",
       "2     POINT Z (-117.793 36.00783 1.6)  \n",
       "3    POINT Z (-148.0763 61.1287 10.2)  \n",
       "4     POINT Z (70.953 34.0907 49.326)  \n",
       "\n",
       "[5 rows x 28 columns]"
      ]
     },
     "execution_count": 7,
     "metadata": {},
     "output_type": "execute_result"
    }
   ],
   "source": [
    "data.head()"
   ]
  },
  {
   "cell_type": "code",
   "execution_count": 8,
   "id": "3bfa7068-f990-484a-bdaa-c67f009723af",
   "metadata": {},
   "outputs": [
    {
     "data": {
      "text/html": [
       "<div>\n",
       "<style scoped>\n",
       "    .dataframe tbody tr th:only-of-type {\n",
       "        vertical-align: middle;\n",
       "    }\n",
       "\n",
       "    .dataframe tbody tr th {\n",
       "        vertical-align: top;\n",
       "    }\n",
       "\n",
       "    .dataframe thead th {\n",
       "        text-align: right;\n",
       "    }\n",
       "</style>\n",
       "<table border=\"1\" class=\"dataframe\">\n",
       "  <thead>\n",
       "    <tr style=\"text-align: right;\">\n",
       "      <th></th>\n",
       "      <th>mag</th>\n",
       "      <th>time</th>\n",
       "      <th>updated</th>\n",
       "      <th>felt</th>\n",
       "      <th>cdi</th>\n",
       "      <th>mmi</th>\n",
       "      <th>tsunami</th>\n",
       "      <th>sig</th>\n",
       "      <th>nst</th>\n",
       "      <th>dmin</th>\n",
       "      <th>rms</th>\n",
       "      <th>gap</th>\n",
       "    </tr>\n",
       "  </thead>\n",
       "  <tbody>\n",
       "    <tr>\n",
       "      <th>count</th>\n",
       "      <td>9620.000000</td>\n",
       "      <td>9.620000e+03</td>\n",
       "      <td>9.620000e+03</td>\n",
       "      <td>655.00000</td>\n",
       "      <td>655.000000</td>\n",
       "      <td>124.000000</td>\n",
       "      <td>9620.000000</td>\n",
       "      <td>9620.000000</td>\n",
       "      <td>8343.000000</td>\n",
       "      <td>8336.000000</td>\n",
       "      <td>9619.000000</td>\n",
       "      <td>8343.000000</td>\n",
       "    </tr>\n",
       "    <tr>\n",
       "      <th>mean</th>\n",
       "      <td>1.488556</td>\n",
       "      <td>1.726236e+12</td>\n",
       "      <td>1.726386e+12</td>\n",
       "      <td>62.01374</td>\n",
       "      <td>2.505649</td>\n",
       "      <td>3.260452</td>\n",
       "      <td>0.001247</td>\n",
       "      <td>55.178794</td>\n",
       "      <td>25.029246</td>\n",
       "      <td>0.337348</td>\n",
       "      <td>0.249487</td>\n",
       "      <td>113.000688</td>\n",
       "    </tr>\n",
       "    <tr>\n",
       "      <th>std</th>\n",
       "      <td>1.155565</td>\n",
       "      <td>7.226685e+08</td>\n",
       "      <td>7.153751e+08</td>\n",
       "      <td>754.37635</td>\n",
       "      <td>1.328371</td>\n",
       "      <td>1.361450</td>\n",
       "      <td>0.035298</td>\n",
       "      <td>87.148959</td>\n",
       "      <td>21.859402</td>\n",
       "      <td>1.263031</td>\n",
       "      <td>0.267248</td>\n",
       "      <td>64.836749</td>\n",
       "    </tr>\n",
       "    <tr>\n",
       "      <th>min</th>\n",
       "      <td>-1.410000</td>\n",
       "      <td>1.724997e+12</td>\n",
       "      <td>1.724997e+12</td>\n",
       "      <td>0.00000</td>\n",
       "      <td>0.000000</td>\n",
       "      <td>0.000000</td>\n",
       "      <td>0.000000</td>\n",
       "      <td>0.000000</td>\n",
       "      <td>2.000000</td>\n",
       "      <td>0.000000</td>\n",
       "      <td>0.000000</td>\n",
       "      <td>11.000000</td>\n",
       "    </tr>\n",
       "    <tr>\n",
       "      <th>25%</th>\n",
       "      <td>0.780000</td>\n",
       "      <td>1.725623e+12</td>\n",
       "      <td>1.725818e+12</td>\n",
       "      <td>1.00000</td>\n",
       "      <td>2.000000</td>\n",
       "      <td>2.708500</td>\n",
       "      <td>0.000000</td>\n",
       "      <td>9.000000</td>\n",
       "      <td>11.000000</td>\n",
       "      <td>0.015037</td>\n",
       "      <td>0.100000</td>\n",
       "      <td>66.000000</td>\n",
       "    </tr>\n",
       "    <tr>\n",
       "      <th>50%</th>\n",
       "      <td>1.320000</td>\n",
       "      <td>1.726245e+12</td>\n",
       "      <td>1.726426e+12</td>\n",
       "      <td>2.00000</td>\n",
       "      <td>2.200000</td>\n",
       "      <td>3.256000</td>\n",
       "      <td>0.000000</td>\n",
       "      <td>27.000000</td>\n",
       "      <td>19.000000</td>\n",
       "      <td>0.044780</td>\n",
       "      <td>0.160000</td>\n",
       "      <td>95.000000</td>\n",
       "    </tr>\n",
       "    <tr>\n",
       "      <th>75%</th>\n",
       "      <td>1.890000</td>\n",
       "      <td>1.726853e+12</td>\n",
       "      <td>1.727047e+12</td>\n",
       "      <td>5.00000</td>\n",
       "      <td>3.300000</td>\n",
       "      <td>4.064000</td>\n",
       "      <td>0.000000</td>\n",
       "      <td>55.000000</td>\n",
       "      <td>32.000000</td>\n",
       "      <td>0.110425</td>\n",
       "      <td>0.280000</td>\n",
       "      <td>142.000000</td>\n",
       "    </tr>\n",
       "    <tr>\n",
       "      <th>max</th>\n",
       "      <td>6.500000</td>\n",
       "      <td>1.727587e+12</td>\n",
       "      <td>1.727587e+12</td>\n",
       "      <td>18605.00000</td>\n",
       "      <td>8.400000</td>\n",
       "      <td>6.453000</td>\n",
       "      <td>1.000000</td>\n",
       "      <td>1040.000000</td>\n",
       "      <td>367.000000</td>\n",
       "      <td>28.175000</td>\n",
       "      <td>5.650000</td>\n",
       "      <td>359.000000</td>\n",
       "    </tr>\n",
       "  </tbody>\n",
       "</table>\n",
       "</div>"
      ],
      "text/plain": [
       "               mag          time       updated         felt         cdi  \\\n",
       "count  9620.000000  9.620000e+03  9.620000e+03    655.00000  655.000000   \n",
       "mean      1.488556  1.726236e+12  1.726386e+12     62.01374    2.505649   \n",
       "std       1.155565  7.226685e+08  7.153751e+08    754.37635    1.328371   \n",
       "min      -1.410000  1.724997e+12  1.724997e+12      0.00000    0.000000   \n",
       "25%       0.780000  1.725623e+12  1.725818e+12      1.00000    2.000000   \n",
       "50%       1.320000  1.726245e+12  1.726426e+12      2.00000    2.200000   \n",
       "75%       1.890000  1.726853e+12  1.727047e+12      5.00000    3.300000   \n",
       "max       6.500000  1.727587e+12  1.727587e+12  18605.00000    8.400000   \n",
       "\n",
       "              mmi      tsunami          sig          nst         dmin  \\\n",
       "count  124.000000  9620.000000  9620.000000  8343.000000  8336.000000   \n",
       "mean     3.260452     0.001247    55.178794    25.029246     0.337348   \n",
       "std      1.361450     0.035298    87.148959    21.859402     1.263031   \n",
       "min      0.000000     0.000000     0.000000     2.000000     0.000000   \n",
       "25%      2.708500     0.000000     9.000000    11.000000     0.015037   \n",
       "50%      3.256000     0.000000    27.000000    19.000000     0.044780   \n",
       "75%      4.064000     0.000000    55.000000    32.000000     0.110425   \n",
       "max      6.453000     1.000000  1040.000000   367.000000    28.175000   \n",
       "\n",
       "               rms          gap  \n",
       "count  9619.000000  8343.000000  \n",
       "mean      0.249487   113.000688  \n",
       "std       0.267248    64.836749  \n",
       "min       0.000000    11.000000  \n",
       "25%       0.100000    66.000000  \n",
       "50%       0.160000    95.000000  \n",
       "75%       0.280000   142.000000  \n",
       "max       5.650000   359.000000  "
      ]
     },
     "execution_count": 8,
     "metadata": {},
     "output_type": "execute_result"
    }
   ],
   "source": [
    "data.describe()"
   ]
  },
  {
   "cell_type": "code",
   "execution_count": 9,
   "id": "7d8a79f8-bdf8-411f-bbce-f6b325a38e5c",
   "metadata": {},
   "outputs": [
    {
     "name": "stdout",
     "output_type": "stream",
     "text": [
      "<class 'geopandas.geodataframe.GeoDataFrame'>\n",
      "RangeIndex: 9620 entries, 0 to 9619\n",
      "Data columns (total 28 columns):\n",
      " #   Column    Non-Null Count  Dtype   \n",
      "---  ------    --------------  -----   \n",
      " 0   id        9620 non-null   object  \n",
      " 1   mag       9620 non-null   float64 \n",
      " 2   place     9620 non-null   object  \n",
      " 3   time      9620 non-null   int64   \n",
      " 4   updated   9620 non-null   int64   \n",
      " 5   tz        0 non-null      object  \n",
      " 6   url       9620 non-null   object  \n",
      " 7   detail    9620 non-null   object  \n",
      " 8   felt      655 non-null    float64 \n",
      " 9   cdi       655 non-null    float64 \n",
      " 10  mmi       124 non-null    float64 \n",
      " 11  alert     50 non-null     object  \n",
      " 12  status    9620 non-null   object  \n",
      " 13  tsunami   9620 non-null   int32   \n",
      " 14  sig       9620 non-null   int32   \n",
      " 15  net       9620 non-null   object  \n",
      " 16  code      9620 non-null   object  \n",
      " 17  ids       9620 non-null   object  \n",
      " 18  sources   9620 non-null   object  \n",
      " 19  types     9620 non-null   object  \n",
      " 20  nst       8343 non-null   float64 \n",
      " 21  dmin      8336 non-null   float64 \n",
      " 22  rms       9619 non-null   float64 \n",
      " 23  gap       8343 non-null   float64 \n",
      " 24  magType   9620 non-null   object  \n",
      " 25  type      9620 non-null   object  \n",
      " 26  title     9620 non-null   object  \n",
      " 27  geometry  9620 non-null   geometry\n",
      "dtypes: float64(8), geometry(1), int32(2), int64(2), object(15)\n",
      "memory usage: 2.0+ MB\n"
     ]
    }
   ],
   "source": [
    "data.info()"
   ]
  },
  {
   "cell_type": "code",
   "execution_count": 10,
   "id": "479e7b90-5f75-48bd-a732-4f3733f64b17",
   "metadata": {},
   "outputs": [
    {
     "name": "stdout",
     "output_type": "stream",
     "text": [
      "The Minimum Magnitude Earthquake is -1.41\n",
      "The Maximum Magnitude Earthquake is 6.5\n"
     ]
    }
   ],
   "source": [
    "# Find Min and Max values for the Magnitude of Earthquakes\n",
    "print(f\"The Minimum Magnitude Earthquake is {min(data['mag'])}\")\n",
    "print(f\"The Maximum Magnitude Earthquake is {max(data['mag'])}\")"
   ]
  },
  {
   "cell_type": "code",
   "execution_count": 11,
   "id": "b24c77b4-0e83-4717-affe-08afe41c6045",
   "metadata": {},
   "outputs": [],
   "source": [
    "with open(\"data.json\", \"r\") as datafile:\n",
    "    data_1 = json.load(datafile)"
   ]
  },
  {
   "cell_type": "code",
   "execution_count": 12,
   "id": "fb4aa040-5a06-4870-b9b3-3c2fac97d7e3",
   "metadata": {},
   "outputs": [
    {
     "name": "stdout",
     "output_type": "stream",
     "text": [
      "USGS All Earthquakes, Past Month\n",
      "11745\n"
     ]
    }
   ],
   "source": [
    "print(data_1[\"metadata\"][\"title\"])\n",
    "print(len(data_1[\"features\"]))"
   ]
  },
  {
   "cell_type": "code",
   "execution_count": 13,
   "id": "c61ecd35-e80b-4d54-8b6f-c1cbb596f6e9",
   "metadata": {},
   "outputs": [],
   "source": [
    "def getmag(dataitem):\n",
    "    magnitude = dataitem[\"properties\"][\"mag\"]\n",
    "    if magnitude is None:\n",
    "        magnitude = 0\n",
    "    return float(magnitude)"
   ]
  },
  {
   "cell_type": "code",
   "execution_count": 14,
   "id": "0da555e0-1a76-4b49-9ae4-d7df236c590b",
   "metadata": {},
   "outputs": [
    {
     "name": "stdout",
     "output_type": "stream",
     "text": [
      "{'type': 'Feature', 'properties': {'mag': -1.31, 'place': '94km SE of King Salmon, Alaska', 'time': 1583824105680, 'updated': 1583950679450, 'tz': -540, 'url': 'https://earthquake.usgs.gov/earthquakes/eventpage/av70876584', 'detail': 'https://earthquake.usgs.gov/earthquakes/feed/v1.0/detail/av70876584.geojson', 'felt': None, 'cdi': None, 'mmi': None, 'alert': None, 'status': 'reviewed', 'tsunami': 0, 'sig': 0, 'net': 'av', 'code': '70876584', 'ids': ',av70876584,', 'sources': ',av,', 'types': ',geoserve,origin,phase-data,', 'nst': 4, 'dmin': 0.04596, 'rms': 0.08, 'gap': 241, 'magType': 'ml', 'type': 'earthquake', 'title': 'M -1.3 - 94km SE of King Salmon, Alaska'}, 'geometry': {'type': 'Point', 'coordinates': [-155.3741667, 58.1711667, 1.55]}, 'id': 'av70876584'}\n",
      "{'type': 'Feature', 'properties': {'mag': 6.3, 'place': '298km NE of Raoul Island, New Zealand', 'time': 1584180077383, 'updated': 1584266633243, 'tz': -720, 'url': 'https://earthquake.usgs.gov/earthquakes/eventpage/us60008fl8', 'detail': 'https://earthquake.usgs.gov/earthquakes/feed/v1.0/detail/us60008fl8.geojson', 'felt': 3, 'cdi': 2.4, 'mmi': 0, 'alert': 'green', 'status': 'reviewed', 'tsunami': 1, 'sig': 611, 'net': 'us', 'code': '60008fl8', 'ids': ',us60008fl8,pt20074000,at00q76h61,', 'sources': ',us,pt,at,', 'types': ',associate,dyfi,geoserve,impact-link,losspager,moment-tensor,origin,phase-data,shakemap,', 'nst': None, 'dmin': 2.687, 'rms': 1.03, 'gap': 22, 'magType': 'mww', 'type': 'earthquake', 'title': 'M 6.3 - 298km NE of Raoul Island, New Zealand'}, 'geometry': {'type': 'Point', 'coordinates': [-175.6847, -27.4196, 10]}, 'id': 'us60008fl8'}\n"
     ]
    }
   ],
   "source": [
    "print(min(data_1[\"features\"], key = getmag))\n",
    "print(max(data_1[\"features\"], key = getmag))"
   ]
  },
  {
   "cell_type": "markdown",
   "id": "c6ea0c12-4d7c-4a9c-9cb4-a054b0a70504",
   "metadata": {},
   "source": [
    "### B. Data Utility Functions"
   ]
  },
  {
   "cell_type": "code",
   "execution_count": 15,
   "id": "910ffb8a-c572-4518-ac82-95eb846f02e1",
   "metadata": {},
   "outputs": [],
   "source": [
    "values = [0,1,2,3,4,5]"
   ]
  },
  {
   "cell_type": "code",
   "execution_count": 16,
   "id": "cbcc109c-43c2-4f9c-974e-11f8dae753f9",
   "metadata": {},
   "outputs": [
    {
     "name": "stdout",
     "output_type": "stream",
     "text": [
      "True\n"
     ]
    }
   ],
   "source": [
    "print(any(values)) # any() can be used to see if any value in the sequence is True (1 in our case)"
   ]
  },
  {
   "cell_type": "code",
   "execution_count": 17,
   "id": "6014ee31-2f20-4b4f-8990-45ef82593835",
   "metadata": {},
   "outputs": [
    {
     "name": "stdout",
     "output_type": "stream",
     "text": [
      "False\n"
     ]
    }
   ],
   "source": [
    "print(all(values)) # all() can be used to see if all values in the sequence are True (1 in our case)"
   ]
  },
  {
   "cell_type": "code",
   "execution_count": 18,
   "id": "1511a342-61e3-439b-bd6a-bce8791ab78c",
   "metadata": {},
   "outputs": [
    {
     "name": "stdout",
     "output_type": "stream",
     "text": [
      "15\n"
     ]
    }
   ],
   "source": [
    "print(sum(values))"
   ]
  },
  {
   "cell_type": "code",
   "execution_count": 19,
   "id": "7e8cc5d7-b379-435f-ae66-258038a40991",
   "metadata": {},
   "outputs": [
    {
     "name": "stdout",
     "output_type": "stream",
     "text": [
      "True\n",
      "True\n",
      "15\n"
     ]
    }
   ],
   "source": [
    "values_1 = [1,2,3,4,5]\n",
    "print(any(values_1)) # any() can be used to see if any value in the sequence is True (1 in our case)\n",
    "print(all(values_1)) # all() can be used to see if all values in the sequence are True (1 in our case)\n",
    "print(sum(values_1))"
   ]
  },
  {
   "cell_type": "code",
   "execution_count": 20,
   "id": "047c0b23-9da7-45f9-86bd-cd3d835f462e",
   "metadata": {},
   "outputs": [
    {
     "name": "stdout",
     "output_type": "stream",
     "text": [
      "True\n"
     ]
    }
   ],
   "source": [
    "# Are there any quake reports that were felt by more than 25,000 people?\n",
    "print(any((quake[\"properties\"][\"felt\"] is not None) and (quake[\"properties\"][\"felt\"] > 25,000) for quake in data_1[\"features\"]))"
   ]
  },
  {
   "cell_type": "code",
   "execution_count": 21,
   "id": "f75cb4a9-af13-4259-9743-185d0a503f69",
   "metadata": {},
   "outputs": [
    {
     "name": "stdout",
     "output_type": "stream",
     "text": [
      "12\n"
     ]
    }
   ],
   "source": [
    "# How many quakes were felt by more than 500 people?\n",
    "print(sum((quake[\"properties\"][\"felt\"] is not None) and (quake[\"properties\"][\"felt\"] >= 500) for quake in data_1[\"features\"]))"
   ]
  },
  {
   "cell_type": "code",
   "execution_count": 22,
   "id": "241dcd62-0902-4a08-a8cb-5d171db8d77d",
   "metadata": {},
   "outputs": [
    {
     "name": "stdout",
     "output_type": "stream",
     "text": [
      "5\n"
     ]
    }
   ],
   "source": [
    "# How many earthquakes had a magnitude of 6.0 or more?\n",
    "print(sum((quake[\"properties\"][\"mag\"] is not None) and (quake[\"properties\"][\"mag\"] >= 6.0) for quake in data_1[\"features\"]))"
   ]
  },
  {
   "cell_type": "markdown",
   "id": "f952f561-d840-4715-b250-83233b663482",
   "metadata": {},
   "source": [
    "### C. Sorting Data"
   ]
  },
  {
   "cell_type": "code",
   "execution_count": 23,
   "id": "915968e0-f103-4cb5-ba95-959a40caaf84",
   "metadata": {},
   "outputs": [],
   "source": [
    "numbers = [42, 54, 19, 17, 23, 31, 16, 4]\n",
    "names = [\"Jeff\", \"Bill\", \"Addie\", \"Stephanie\", \"Zach\", \"Lukas\", \"Joe\", \"Stacy\"]"
   ]
  },
  {
   "cell_type": "code",
   "execution_count": 24,
   "id": "839cd03f-ae19-47ab-a8ac-ef6393da9874",
   "metadata": {},
   "outputs": [
    {
     "name": "stdout",
     "output_type": "stream",
     "text": [
      "[4, 16, 17, 19, 23, 31, 42, 54]\n"
     ]
    }
   ],
   "source": [
    "# The sorted() function can be used to return a new list with sorted data\n",
    "print(sorted(numbers))"
   ]
  },
  {
   "cell_type": "code",
   "execution_count": 25,
   "id": "ad80e11d-fd51-4d43-bccd-fc1be638d3d9",
   "metadata": {},
   "outputs": [
    {
     "name": "stdout",
     "output_type": "stream",
     "text": [
      "['Zach', 'Stephanie', 'Stacy', 'Lukas', 'Joe', 'Jeff', 'Bill', 'Addie']\n"
     ]
    }
   ],
   "source": [
    "# The list object's .sort() method sorts the list in-place\n",
    "names.sort(reverse = True)\n",
    "print(names)"
   ]
  },
  {
   "cell_type": "code",
   "execution_count": 26,
   "id": "33dc531b-5838-474a-a5f3-13335e414d4c",
   "metadata": {},
   "outputs": [
    {
     "name": "stdout",
     "output_type": "stream",
     "text": [
      "Top 10 places of largest magnitude Earthquake :- \n",
      "298km NE of Raoul Island, New Zealand\n",
      "Magnitude:  6.3\n",
      "246km S of Kangin, Indonesia\n",
      "Magnitude:  6.2\n",
      "97km NNW of Sola, Vanuatu\n",
      "Magnitude:  6.1\n",
      "172km E of Hihifo, Tonga\n",
      "Magnitude:  6\n",
      "24km SE of Saray, Turkey\n",
      "Magnitude:  6\n",
      "Southwest Indian Ridge\n",
      "Magnitude:  5.9\n",
      "48km NNW of Saumlaki, Indonesia\n",
      "Magnitude:  5.9\n",
      "26km ESE of Saray, Turkey\n",
      "Magnitude:  5.8\n",
      "153km ENE of Petropavlovsk-Kamchatskiy, Russia\n",
      "Magnitude:  5.8\n",
      "69km W of Petrolia, CA\n",
      "Magnitude:  5.77\n"
     ]
    }
   ],
   "source": [
    "data_1[\"features\"].sort(key = getmag, reverse = True)\n",
    "\n",
    "print(\"Top 10 places of largest magnitude Earthquake :- \")\n",
    "for i in range(0,10):\n",
    "    print(data_1[\"features\"][i][\"properties\"][\"place\"])\n",
    "    print(\"Magnitude: \", data_1[\"features\"][i][\"properties\"][\"mag\"])"
   ]
  },
  {
   "cell_type": "markdown",
   "id": "8035c12a-ea61-4745-92c7-c43d29229aec",
   "metadata": {},
   "source": [
    "### D. Data Filtering"
   ]
  },
  {
   "cell_type": "code",
   "execution_count": 27,
   "id": "47ee313a-443c-43a6-ba42-d024eb7c41c9",
   "metadata": {},
   "outputs": [],
   "source": [
    "def even_filter(x):\n",
    "    # Filters out even number and keeps the Odd Number\n",
    "    if x % 2 == 0:\n",
    "        return False\n",
    "    return True"
   ]
  },
  {
   "cell_type": "code",
   "execution_count": 28,
   "id": "a8eb6378-ac5e-41ca-97e1-68ca3043fde4",
   "metadata": {},
   "outputs": [],
   "source": [
    "def upper_filter(x):\n",
    "    # Filters out the Upper Case letters and keeps the Lower case letters\n",
    "    if x.isupper():\n",
    "        return False\n",
    "    return True"
   ]
  },
  {
   "cell_type": "code",
   "execution_count": 29,
   "id": "6d274d41-4e3b-4bd8-bcaa-ebd4a415be63",
   "metadata": {},
   "outputs": [],
   "source": [
    "nums = (1,8,4,5,13,26,381,410, 58, 47)\n",
    "chars = \"abcDeFGHiJklmnoP\""
   ]
  },
  {
   "cell_type": "code",
   "execution_count": 30,
   "id": "d2fa8546-c03f-48c3-89dd-53aab86b8aeb",
   "metadata": {},
   "outputs": [
    {
     "data": {
      "text/plain": [
       "[1, 5, 13, 381, 47]"
      ]
     },
     "execution_count": 30,
     "metadata": {},
     "output_type": "execute_result"
    }
   ],
   "source": [
    "# Use Filter to remove items from a list\n",
    "odds = list(filter(even_filter, nums))\n",
    "odds"
   ]
  },
  {
   "cell_type": "code",
   "execution_count": 31,
   "id": "197147fd-7409-4dcb-bc11-b9307b38d4f4",
   "metadata": {},
   "outputs": [
    {
     "data": {
      "text/plain": [
       "['a', 'b', 'c', 'e', 'i', 'k', 'l', 'm', 'n', 'o']"
      ]
     },
     "execution_count": 31,
     "metadata": {},
     "output_type": "execute_result"
    }
   ],
   "source": [
    "# Use Filter on Non-Numeric sequence\n",
    "lower_char = list(filter(upper_filter, chars))\n",
    "lower_char"
   ]
  },
  {
   "cell_type": "code",
   "execution_count": 32,
   "id": "af188b90-f764-4651-a189-76be27ac23ab",
   "metadata": {},
   "outputs": [],
   "source": [
    "# Filter out data in which the siesmic activity was not an Earthquake\n",
    "\n",
    "def not_quake(q):\n",
    "    if q[\"properties\"][\"type\"] == \"earthquake\":\n",
    "        return False\n",
    "    return True"
   ]
  },
  {
   "cell_type": "code",
   "execution_count": 33,
   "id": "c7ad8b61-34a4-4f97-a116-562e34d81d21",
   "metadata": {},
   "outputs": [
    {
     "name": "stdout",
     "output_type": "stream",
     "text": [
      "Total Non-Earthquake events : 187\n",
      "explosion\n",
      "explosion\n",
      "explosion\n",
      "explosion\n",
      "explosion\n",
      "explosion\n",
      "explosion\n",
      "quarry blast\n",
      "explosion\n",
      "other event\n"
     ]
    }
   ],
   "source": [
    "events = list(filter(not_quake, data_1[\"features\"]))\n",
    "print(f\"Total Non-Earthquake events : {len(events)}\")\n",
    "\n",
    "for i in range(0,10):\n",
    "    print(events[i][\"properties\"][\"type\"])"
   ]
  },
  {
   "cell_type": "markdown",
   "id": "dcb0c8b6-ea03-4500-9f79-480c0ae28ea3",
   "metadata": {},
   "source": [
    "### E. Data Transformation "
   ]
  },
  {
   "cell_type": "code",
   "execution_count": 34,
   "id": "0e53ed74-a180-4d5b-b86d-b9c6efdff2d6",
   "metadata": {},
   "outputs": [],
   "source": [
    "import pprint\n",
    "import datetime"
   ]
  },
  {
   "cell_type": "code",
   "execution_count": 35,
   "id": "5b09d497-66c6-4237-a942-db5d3fcd719c",
   "metadata": {},
   "outputs": [],
   "source": [
    "def square(x):\n",
    "    return x ** 2"
   ]
  },
  {
   "cell_type": "code",
   "execution_count": 36,
   "id": "8e0c0cd8-d1e8-46de-aa8a-62324f28f15d",
   "metadata": {},
   "outputs": [],
   "source": [
    "def to_grade(x):\n",
    "    if (x >= 90):\n",
    "        return \"A\"\n",
    "    elif (x >= 80 and x < 90):\n",
    "        return \"B\"\n",
    "    elif (x >= 70 and x < 80):\n",
    "        return \"C\"\n",
    "    elif (x >= 65 and x < 70):\n",
    "        return \"D\"\n",
    "    return \"F\""
   ]
  },
  {
   "cell_type": "code",
   "execution_count": 37,
   "id": "b7635e67-b78d-4c8a-b0b5-b9892d2db13d",
   "metadata": {},
   "outputs": [],
   "source": [
    "nums = (1,8,4,5,13,26,381,410,58,47)\n",
    "grades = (81, 89, 94, 78, 61, 66, 99, 74)"
   ]
  },
  {
   "cell_type": "code",
   "execution_count": 38,
   "id": "4cd77fe6-c655-4976-8a5a-e5919d91f8f4",
   "metadata": {},
   "outputs": [
    {
     "name": "stdout",
     "output_type": "stream",
     "text": [
      "[1, 64, 16, 25, 169, 676, 145161, 168100, 3364, 2209]\n"
     ]
    }
   ],
   "source": [
    "# Use map() to create a new sequence of values\n",
    "squares = list(map(square, nums))\n",
    "print(squares)"
   ]
  },
  {
   "cell_type": "code",
   "execution_count": 39,
   "id": "4ea3b9f2-dbee-477b-8128-aa1875458922",
   "metadata": {},
   "outputs": [
    {
     "name": "stdout",
     "output_type": "stream",
     "text": [
      "['F', 'D', 'C', 'C', 'B', 'B', 'A', 'A']\n"
     ]
    }
   ],
   "source": [
    "# Use sorted and map to convert numbers to grades\n",
    "grades = sorted(grades)\n",
    "letter_grades = list(map(to_grade, grades))\n",
    "print(letter_grades)"
   ]
  },
  {
   "cell_type": "code",
   "execution_count": 40,
   "id": "1e7048ee-7671-40d1-bc77-0c3369f01079",
   "metadata": {},
   "outputs": [],
   "source": [
    "# Filter the data down to the Largest events\n",
    "def bigmag(q):\n",
    "    return q['properties']['mag'] is not None and q['properties']['mag'] >= 6.0"
   ]
  },
  {
   "cell_type": "code",
   "execution_count": 41,
   "id": "35793165-b229-4492-a8ab-bf7b8449d81c",
   "metadata": {},
   "outputs": [],
   "source": [
    "results = list(filter(bigmag, data_1['features']))"
   ]
  },
  {
   "cell_type": "code",
   "execution_count": 42,
   "id": "7ddc905f-8e7e-427c-a6a9-7e3cdf93532a",
   "metadata": {},
   "outputs": [
    {
     "data": {
      "text/plain": [
       "[{'type': 'Feature',\n",
       "  'properties': {'mag': 6.3,\n",
       "   'place': '298km NE of Raoul Island, New Zealand',\n",
       "   'time': 1584180077383,\n",
       "   'updated': 1584266633243,\n",
       "   'tz': -720,\n",
       "   'url': 'https://earthquake.usgs.gov/earthquakes/eventpage/us60008fl8',\n",
       "   'detail': 'https://earthquake.usgs.gov/earthquakes/feed/v1.0/detail/us60008fl8.geojson',\n",
       "   'felt': 3,\n",
       "   'cdi': 2.4,\n",
       "   'mmi': 0,\n",
       "   'alert': 'green',\n",
       "   'status': 'reviewed',\n",
       "   'tsunami': 1,\n",
       "   'sig': 611,\n",
       "   'net': 'us',\n",
       "   'code': '60008fl8',\n",
       "   'ids': ',us60008fl8,pt20074000,at00q76h61,',\n",
       "   'sources': ',us,pt,at,',\n",
       "   'types': ',associate,dyfi,geoserve,impact-link,losspager,moment-tensor,origin,phase-data,shakemap,',\n",
       "   'nst': None,\n",
       "   'dmin': 2.687,\n",
       "   'rms': 1.03,\n",
       "   'gap': 22,\n",
       "   'magType': 'mww',\n",
       "   'type': 'earthquake',\n",
       "   'title': 'M 6.3 - 298km NE of Raoul Island, New Zealand'},\n",
       "  'geometry': {'type': 'Point', 'coordinates': [-175.6847, -27.4196, 10]},\n",
       "  'id': 'us60008fl8'},\n",
       " {'type': 'Feature',\n",
       "  'properties': {'mag': 6.2,\n",
       "   'place': '246km S of Kangin, Indonesia',\n",
       "   'time': 1584553538838,\n",
       "   'updated': 1584579587142,\n",
       "   'tz': 480,\n",
       "   'url': 'https://earthquake.usgs.gov/earthquakes/eventpage/us60008hzl',\n",
       "   'detail': 'https://earthquake.usgs.gov/earthquakes/feed/v1.0/detail/us60008hzl.geojson',\n",
       "   'felt': 60,\n",
       "   'cdi': 5.8,\n",
       "   'mmi': 0,\n",
       "   'alert': 'green',\n",
       "   'status': 'reviewed',\n",
       "   'tsunami': 1,\n",
       "   'sig': 626,\n",
       "   'net': 'us',\n",
       "   'code': '60008hzl',\n",
       "   'ids': ',us60008hzl,',\n",
       "   'sources': ',us,',\n",
       "   'types': ',dyfi,geoserve,losspager,moment-tensor,origin,phase-data,shakemap,',\n",
       "   'nst': None,\n",
       "   'dmin': 2.747,\n",
       "   'rms': 1.06,\n",
       "   'gap': 24,\n",
       "   'magType': 'mww',\n",
       "   'type': 'earthquake',\n",
       "   'title': 'M 6.2 - 246km S of Kangin, Indonesia'},\n",
       "  'geometry': {'type': 'Point', 'coordinates': [115.131, -11.0591, 17.59]},\n",
       "  'id': 'us60008hzl'},\n",
       " {'type': 'Feature',\n",
       "  'properties': {'mag': 6.1,\n",
       "   'place': '97km NNW of Sola, Vanuatu',\n",
       "   'time': 1584501226088,\n",
       "   'updated': 1584508625927,\n",
       "   'tz': 660,\n",
       "   'url': 'https://earthquake.usgs.gov/earthquakes/eventpage/us60008hkg',\n",
       "   'detail': 'https://earthquake.usgs.gov/earthquakes/feed/v1.0/detail/us60008hkg.geojson',\n",
       "   'felt': None,\n",
       "   'cdi': None,\n",
       "   'mmi': 3.911,\n",
       "   'alert': 'green',\n",
       "   'status': 'reviewed',\n",
       "   'tsunami': 0,\n",
       "   'sig': 572,\n",
       "   'net': 'us',\n",
       "   'code': '60008hkg',\n",
       "   'ids': ',us60008hkg,',\n",
       "   'sources': ',us,',\n",
       "   'types': ',geoserve,ground-failure,losspager,moment-tensor,origin,phase-data,shakemap,',\n",
       "   'nst': None,\n",
       "   'dmin': 2.3,\n",
       "   'rms': 1.03,\n",
       "   'gap': 23,\n",
       "   'magType': 'mww',\n",
       "   'type': 'earthquake',\n",
       "   'title': 'M 6.1 - 97km NNW of Sola, Vanuatu'},\n",
       "  'geometry': {'type': 'Point', 'coordinates': [167.068, -13.1372, 178.82]},\n",
       "  'id': 'us60008hkg'},\n",
       " {'type': 'Feature',\n",
       "  'properties': {'mag': 6,\n",
       "   'place': '172km E of Hihifo, Tonga',\n",
       "   'time': 1584461182225,\n",
       "   'updated': 1584547727136,\n",
       "   'tz': -660,\n",
       "   'url': 'https://earthquake.usgs.gov/earthquakes/eventpage/us60008h76',\n",
       "   'detail': 'https://earthquake.usgs.gov/earthquakes/feed/v1.0/detail/us60008h76.geojson',\n",
       "   'felt': 9,\n",
       "   'cdi': 3.6,\n",
       "   'mmi': 0,\n",
       "   'alert': 'green',\n",
       "   'status': 'reviewed',\n",
       "   'tsunami': 0,\n",
       "   'sig': 557,\n",
       "   'net': 'us',\n",
       "   'code': '60008h76',\n",
       "   'ids': ',pt20077001,us60008h76,',\n",
       "   'sources': ',pt,us,',\n",
       "   'types': ',dyfi,geoserve,losspager,moment-tensor,origin,phase-data,shakemap,',\n",
       "   'nst': None,\n",
       "   'dmin': 3.719,\n",
       "   'rms': 0.68,\n",
       "   'gap': 60,\n",
       "   'magType': 'mww',\n",
       "   'type': 'earthquake',\n",
       "   'title': 'M 6.0 - 172km E of Hihifo, Tonga'},\n",
       "  'geometry': {'type': 'Point', 'coordinates': [-172.1366, -15.9951, 10]},\n",
       "  'id': 'us60008h76'},\n",
       " {'type': 'Feature',\n",
       "  'properties': {'mag': 6,\n",
       "   'place': '24km SE of Saray, Turkey',\n",
       "   'time': 1582473631630,\n",
       "   'updated': 1583166625229,\n",
       "   'tz': 210,\n",
       "   'url': 'https://earthquake.usgs.gov/earthquakes/eventpage/us70007v9g',\n",
       "   'detail': 'https://earthquake.usgs.gov/earthquakes/feed/v1.0/detail/us70007v9g.geojson',\n",
       "   'felt': 17,\n",
       "   'cdi': 7.1,\n",
       "   'mmi': 6.678,\n",
       "   'alert': 'yellow',\n",
       "   'status': 'reviewed',\n",
       "   'tsunami': 0,\n",
       "   'sig': 662,\n",
       "   'net': 'us',\n",
       "   'code': '70007v9g',\n",
       "   'ids': ',us70007v9g,',\n",
       "   'sources': ',us,',\n",
       "   'types': ',dyfi,geoserve,ground-failure,impact-text,losspager,moment-tensor,origin,phase-data,shakemap,',\n",
       "   'nst': None,\n",
       "   'dmin': 1.048,\n",
       "   'rms': 0.9,\n",
       "   'gap': 18,\n",
       "   'magType': 'mww',\n",
       "   'type': 'earthquake',\n",
       "   'title': 'M 6.0 - 24km SE of Saray, Turkey'},\n",
       "  'geometry': {'type': 'Point', 'coordinates': [44.3729, 38.4933, 10]},\n",
       "  'id': 'us70007v9g'}]"
      ]
     },
     "execution_count": 42,
     "metadata": {},
     "output_type": "execute_result"
    }
   ],
   "source": [
    "results"
   ]
  },
  {
   "cell_type": "code",
   "execution_count": 43,
   "id": "a997d9aa-a1dd-49fa-9770-555fb6ac4ebb",
   "metadata": {},
   "outputs": [],
   "source": [
    "# Transform the Largest events into a Simpler structure\n",
    "def simplify(q):\n",
    "    return {\n",
    "        \"place\" : q[\"properties\"][\"place\"],\n",
    "        \"magnitude\" : q[\"properties\"][\"mag\"],\n",
    "        \"date\" : str(datetime.date.fromtimestamp(q[\"properties\"][\"time\"]/1000))\n",
    "    }"
   ]
  },
  {
   "cell_type": "code",
   "execution_count": 44,
   "id": "b8ce9e51-4028-4231-b3e0-b5bc7c3b9c9a",
   "metadata": {},
   "outputs": [],
   "source": [
    "results_1 = list(map(simplify, results))"
   ]
  },
  {
   "cell_type": "code",
   "execution_count": 45,
   "id": "0eaf454f-213d-41f2-8b2b-f9f64f317914",
   "metadata": {},
   "outputs": [
    {
     "data": {
      "text/plain": [
       "[{'place': '298km NE of Raoul Island, New Zealand',\n",
       "  'magnitude': 6.3,\n",
       "  'date': '2020-03-14'},\n",
       " {'place': '246km S of Kangin, Indonesia',\n",
       "  'magnitude': 6.2,\n",
       "  'date': '2020-03-18'},\n",
       " {'place': '97km NNW of Sola, Vanuatu',\n",
       "  'magnitude': 6.1,\n",
       "  'date': '2020-03-18'},\n",
       " {'place': '172km E of Hihifo, Tonga', 'magnitude': 6, 'date': '2020-03-17'},\n",
       " {'place': '24km SE of Saray, Turkey', 'magnitude': 6, 'date': '2020-02-23'}]"
      ]
     },
     "execution_count": 45,
     "metadata": {},
     "output_type": "execute_result"
    }
   ],
   "source": [
    "results_1"
   ]
  },
  {
   "cell_type": "code",
   "execution_count": 46,
   "id": "f4ebfbef-915d-46cd-9722-0e51b22cbbc4",
   "metadata": {},
   "outputs": [
    {
     "name": "stdout",
     "output_type": "stream",
     "text": [
      "[{'place': '298km NE of Raoul Island, New Zealand',\n",
      "  'magnitude': 6.3,\n",
      "  'date': '2020-03-14'},\n",
      " {'place': '246km S of Kangin, Indonesia',\n",
      "  'magnitude': 6.2,\n",
      "  'date': '2020-03-18'},\n",
      " {'place': '97km NNW of Sola, Vanuatu', 'magnitude': 6.1, 'date': '2020-03-18'},\n",
      " {'place': '172km E of Hihifo, Tonga', 'magnitude': 6, 'date': '2020-03-17'},\n",
      " {'place': '24km SE of Saray, Turkey', 'magnitude': 6, 'date': '2020-02-23'}]\n"
     ]
    }
   ],
   "source": [
    "pprint.pp(results_1)"
   ]
  },
  {
   "cell_type": "markdown",
   "id": "e190ec91-bc66-4a24-8c4d-bf4d419a892f",
   "metadata": {},
   "source": [
    "### F. Code Challenge 1: Build a Data Summary"
   ]
  },
  {
   "cell_type": "code",
   "execution_count": 47,
   "id": "6ea77cdb-28b5-4f78-88ee-3078a955d8cb",
   "metadata": {},
   "outputs": [
    {
     "data": {
      "text/plain": [
       "11745"
      ]
     },
     "execution_count": 47,
     "metadata": {},
     "output_type": "execute_result"
    }
   ],
   "source": [
    "TotalEvents = int(data_1['metadata']['count'])\n",
    "TotalEvents"
   ]
  },
  {
   "cell_type": "code",
   "execution_count": 48,
   "id": "a3a42ec0-fc7f-4c8b-91ba-b561706a2c36",
   "metadata": {},
   "outputs": [],
   "source": [
    "def feltreport(q):\n",
    "    f = q['properties']['felt']\n",
    "    return (f is not None and f >= 100)"
   ]
  },
  {
   "cell_type": "code",
   "execution_count": 49,
   "id": "a1719288-642e-4d7a-a360-3a2011fb10c3",
   "metadata": {},
   "outputs": [],
   "source": [
    "def getfelt(q):\n",
    "    f = q[\"properties\"][\"felt\"]\n",
    "    if f is not None:\n",
    "        return f\n",
    "    return 0"
   ]
  },
  {
   "cell_type": "code",
   "execution_count": 50,
   "id": "7246658d-9461-4562-bd23-ca9f129bc5c8",
   "metadata": {},
   "outputs": [
    {
     "data": {
      "text/plain": [
       "28"
      ]
     },
     "execution_count": 50,
     "metadata": {},
     "output_type": "execute_result"
    }
   ],
   "source": [
    "felt_reports = list(filter(feltreport, data_1[\"features\"]))\n",
    "TotalFelt = len(felt_reports)\n",
    "TotalFelt"
   ]
  },
  {
   "cell_type": "code",
   "execution_count": 51,
   "id": "c644efd4-d5f4-41eb-af85-8cfb0f9059f5",
   "metadata": {},
   "outputs": [],
   "source": [
    "mostfeltquake = max(data_1[\"features\"], key = getfelt)\n",
    "MostFeltEvent = mostfeltquake['properties']['title']\n",
    "MostFeltCount = int(mostfeltquake['properties']['felt'])"
   ]
  },
  {
   "cell_type": "code",
   "execution_count": 52,
   "id": "d3e147f4-2e7f-4295-96fd-3971276a79d6",
   "metadata": {},
   "outputs": [
    {
     "data": {
      "text/plain": [
       "'M 5.7 - 6km NNE of Magna, Utah'"
      ]
     },
     "execution_count": 52,
     "metadata": {},
     "output_type": "execute_result"
    }
   ],
   "source": [
    "MostFeltEvent"
   ]
  },
  {
   "cell_type": "code",
   "execution_count": 53,
   "id": "dd70aaf3-301b-4d16-aac0-e2b550f4c384",
   "metadata": {},
   "outputs": [
    {
     "data": {
      "text/plain": [
       "33091"
      ]
     },
     "execution_count": 53,
     "metadata": {},
     "output_type": "execute_result"
    }
   ],
   "source": [
    "MostFeltCount"
   ]
  },
  {
   "cell_type": "markdown",
   "id": "ebdcaebc-d388-4e0f-b0b4-6bf9a95aca63",
   "metadata": {},
   "source": [
    "## 2. Collection Classes\n",
    "#### Import Collection\n",
    "##### namedtuple -> Tuple with named fields\n",
    "##### defaultdict -> Dictionary that supplies default values\n",
    "##### Counter -> Count distinct Values\n",
    "##### deque -> Double-ended list"
   ]
  },
  {
   "cell_type": "markdown",
   "id": "e6ce8577-e635-498a-aeec-9b0e50f3ab78",
   "metadata": {},
   "source": [
    "### A. Named tuples"
   ]
  },
  {
   "cell_type": "code",
   "execution_count": 54,
   "id": "9b762863-d225-46db-b336-e5d5066400f0",
   "metadata": {},
   "outputs": [],
   "source": [
    "import collections"
   ]
  },
  {
   "cell_type": "code",
   "execution_count": 55,
   "id": "f1ab8368-3305-4dc3-8885-6e77630e339f",
   "metadata": {},
   "outputs": [
    {
     "name": "stdout",
     "output_type": "stream",
     "text": [
      "Point(x=10, y=20) Point(x=30, y=40)\n"
     ]
    }
   ],
   "source": [
    "# Create a Point named tuple\n",
    "Point = collections.namedtuple(\"Point\", \"x y\")\n",
    "p1 = Point(10,20)\n",
    "p2 = Point(30,40)\n",
    "print(p1, p2)"
   ]
  },
  {
   "cell_type": "raw",
   "id": "3623f0dc-8b8c-493f-be57-46e22b76d6a0",
   "metadata": {},
   "source": [
    "print(p1.x, p1.y)\n",
    "\n",
    "print(p2.x, p2.y)"
   ]
  },
  {
   "cell_type": "code",
   "execution_count": 56,
   "id": "28ba57db-98cd-4251-9ddf-2a5915e46bef",
   "metadata": {},
   "outputs": [
    {
     "data": {
      "text/plain": [
       "Point(x=100, y=20)"
      ]
     },
     "execution_count": 56,
     "metadata": {},
     "output_type": "execute_result"
    }
   ],
   "source": [
    "# Use _replace to create a new instance\n",
    "p1 = p1._replace(x = 100)\n",
    "p1"
   ]
  },
  {
   "cell_type": "markdown",
   "id": "8afc39d1-70df-4e40-985c-fcf3ddf2a563",
   "metadata": {},
   "source": [
    "### B. Default Dictionaries"
   ]
  },
  {
   "cell_type": "code",
   "execution_count": 57,
   "id": "c8a77c19-e084-405a-8e65-50ea8f3de7ed",
   "metadata": {},
   "outputs": [],
   "source": [
    "from collections import defaultdict"
   ]
  },
  {
   "cell_type": "code",
   "execution_count": 58,
   "id": "765a7e9c-89ba-4bab-a1df-76892d0d3e9e",
   "metadata": {},
   "outputs": [],
   "source": [
    "fruits = ['apple', 'pear', 'orange', 'banana',\n",
    "         'apple', 'grape', 'banana', 'banana']"
   ]
  },
  {
   "cell_type": "code",
   "execution_count": 59,
   "id": "e9a01648-e4c6-4046-acd6-55fd8187e0bb",
   "metadata": {},
   "outputs": [],
   "source": [
    "# Use a dictionary to count each element\n",
    "fruitcounter = dict()"
   ]
  },
  {
   "cell_type": "code",
   "execution_count": 60,
   "id": "d57c6b83-5f02-452b-9f52-4910f9f81ebd",
   "metadata": {},
   "outputs": [],
   "source": [
    "# Count the elements in the list\n",
    "for fruit in fruits:\n",
    "    if fruit in fruitcounter.keys():\n",
    "        fruitcounter[fruit] += 1\n",
    "    else:\n",
    "        fruitcounter[fruit] = 1"
   ]
  },
  {
   "cell_type": "code",
   "execution_count": 61,
   "id": "85760e3e-3144-4586-a6ab-31a8cec71a3d",
   "metadata": {},
   "outputs": [
    {
     "name": "stdout",
     "output_type": "stream",
     "text": [
      "{'apple': 2, 'pear': 1, 'orange': 1, 'banana': 3, 'grape': 1}\n"
     ]
    }
   ],
   "source": [
    "print(fruitcounter)"
   ]
  },
  {
   "cell_type": "code",
   "execution_count": 62,
   "id": "e93776c6-325f-4eed-a587-aa090f3d7cf3",
   "metadata": {},
   "outputs": [],
   "source": [
    "fruitcounter_2 = defaultdict(int)"
   ]
  },
  {
   "cell_type": "code",
   "execution_count": 63,
   "id": "70095392-566f-4124-ac19-dcb1feca8195",
   "metadata": {},
   "outputs": [],
   "source": [
    "# Count the elements in the list\n",
    "for fruit in fruits:\n",
    "    fruitcounter_2[fruit] += 1"
   ]
  },
  {
   "cell_type": "code",
   "execution_count": 64,
   "id": "efe5f4af-5354-48d3-9f7b-bdd41682d0a9",
   "metadata": {},
   "outputs": [
    {
     "name": "stdout",
     "output_type": "stream",
     "text": [
      "defaultdict(<class 'int'>, {'apple': 2, 'pear': 1, 'orange': 1, 'banana': 3, 'grape': 1})\n"
     ]
    }
   ],
   "source": [
    "print(fruitcounter_2)"
   ]
  },
  {
   "cell_type": "code",
   "execution_count": 65,
   "id": "9da83fae-9b4e-4f6f-a6f5-481596697456",
   "metadata": {},
   "outputs": [],
   "source": [
    "fruitcounter_3 = defaultdict(lambda: 100)"
   ]
  },
  {
   "cell_type": "code",
   "execution_count": 66,
   "id": "0b81646f-ab77-4ed3-8b31-6c7f0e9d260a",
   "metadata": {},
   "outputs": [],
   "source": [
    "# Count the elements in the list\n",
    "for fruit in fruits:\n",
    "    fruitcounter_3[fruit] += 1"
   ]
  },
  {
   "cell_type": "code",
   "execution_count": 67,
   "id": "8f4d2ee4-9381-410e-aca6-e41d8aa8d68c",
   "metadata": {},
   "outputs": [
    {
     "name": "stdout",
     "output_type": "stream",
     "text": [
      "defaultdict(<function <lambda> at 0x0000018328850C20>, {'apple': 102, 'pear': 101, 'orange': 101, 'banana': 103, 'grape': 101})\n"
     ]
    }
   ],
   "source": [
    "print(fruitcounter_3)\n"
   ]
  },
  {
   "cell_type": "markdown",
   "id": "5742828c-9c18-42ec-a758-a717951551c4",
   "metadata": {},
   "source": [
    "### C. Counters"
   ]
  },
  {
   "cell_type": "code",
   "execution_count": 68,
   "id": "4db9e912-6bbf-4e12-b13f-4610832fe7fe",
   "metadata": {},
   "outputs": [],
   "source": [
    "from collections import Counter"
   ]
  },
  {
   "cell_type": "code",
   "execution_count": 69,
   "id": "823cdfba-9594-449b-bf23-e96366fdfd4a",
   "metadata": {},
   "outputs": [],
   "source": [
    "# students in Class 1\n",
    "class1 = [\"Bob\", \"James\", \"Chad\",\"Darcy\",\"Peny\", \"Hannah\"\n",
    "         \"Kevin\", \"James\", \"Melanie\", \"Becky\", \"Steve\", \"Frank\"]\n",
    "\n",
    "# students in Class 2\n",
    "class2 = [\"Bill\", \"Barry\", \"Cindy\", \"Debbie\", \"Frank\",\n",
    "         \"Gabby\", \"Kelly\", \"James\",\"Joe\", \"Sam\", \"Tara\", \"Ziggy\"]"
   ]
  },
  {
   "cell_type": "code",
   "execution_count": 70,
   "id": "4a452491-0e49-4999-9b46-47860a9b4676",
   "metadata": {},
   "outputs": [],
   "source": [
    "# Create a Counter for Class 1 and Class 2\n",
    "c1 = Counter(class1)\n",
    "c2 = Counter(class2)"
   ]
  },
  {
   "cell_type": "code",
   "execution_count": 71,
   "id": "4deac56c-0dc6-46a5-844d-0c4257d9f260",
   "metadata": {},
   "outputs": [
    {
     "name": "stdout",
     "output_type": "stream",
     "text": [
      "2\n"
     ]
    }
   ],
   "source": [
    "# How many students with name 'James' in class 1?\n",
    "print(c1[\"James\"])"
   ]
  },
  {
   "cell_type": "code",
   "execution_count": 72,
   "id": "0a147de8-95f7-4b4a-9638-a24be0e5c248",
   "metadata": {},
   "outputs": [
    {
     "name": "stdout",
     "output_type": "stream",
     "text": [
      "11 Students in class 1\n"
     ]
    }
   ],
   "source": [
    "# How many students are there in class 1?\n",
    "print(sum(c1.values()), \"Students in class 1\")"
   ]
  },
  {
   "cell_type": "code",
   "execution_count": 73,
   "id": "c99be91a-29ce-40b7-b6be-00255effeb95",
   "metadata": {},
   "outputs": [
    {
     "name": "stdout",
     "output_type": "stream",
     "text": [
      "23 Students in class 1\n"
     ]
    }
   ],
   "source": [
    "# Combine 2 classes\n",
    "c1.update(class2)\n",
    "print(sum(c1.values()), \"Students in class 1\")"
   ]
  },
  {
   "cell_type": "code",
   "execution_count": 74,
   "id": "de392437-27ef-4fba-8cdd-6853e4140436",
   "metadata": {},
   "outputs": [
    {
     "name": "stdout",
     "output_type": "stream",
     "text": [
      "[('James', 3), ('Frank', 2), ('Bob', 1)]\n"
     ]
    }
   ],
   "source": [
    "# What's the most common name in two classes?\n",
    "print(c1.most_common(3))"
   ]
  },
  {
   "cell_type": "code",
   "execution_count": 75,
   "id": "446ef9dd-82a9-44d2-b5c0-4496f2d963fe",
   "metadata": {},
   "outputs": [
    {
     "name": "stdout",
     "output_type": "stream",
     "text": [
      "[('James', 2)]\n"
     ]
    }
   ],
   "source": [
    "# Seperate the classes again\n",
    "c1.subtract(class2)\n",
    "print(c1.most_common(1))"
   ]
  },
  {
   "cell_type": "code",
   "execution_count": 76,
   "id": "3be3a751-a468-40a9-be25-f276f380a1bf",
   "metadata": {},
   "outputs": [
    {
     "name": "stdout",
     "output_type": "stream",
     "text": [
      "Counter({'James': 1, 'Frank': 1})\n"
     ]
    }
   ],
   "source": [
    "# What's common between the two classes?\n",
    "print(c1 & c2)"
   ]
  },
  {
   "cell_type": "markdown",
   "id": "402fb6e4-47e2-450f-8558-e33d1789087e",
   "metadata": {},
   "source": [
    "### D. The deque Class (Double ended queue)"
   ]
  },
  {
   "cell_type": "code",
   "execution_count": 77,
   "id": "05eda98e-3288-41a0-9fe1-6481ec9d3a78",
   "metadata": {},
   "outputs": [],
   "source": [
    "import collections\n",
    "import string"
   ]
  },
  {
   "cell_type": "code",
   "execution_count": 78,
   "id": "6dc135d6-d3b3-48e2-aec2-3ce9944f3b89",
   "metadata": {},
   "outputs": [],
   "source": [
    "# Initialize a deque with lowercase letters\n",
    "d = collections.deque(string.ascii_lowercase)"
   ]
  },
  {
   "cell_type": "code",
   "execution_count": 79,
   "id": "928764b5-42b5-4a9b-a4f8-77cd5df92813",
   "metadata": {},
   "outputs": [
    {
     "name": "stdout",
     "output_type": "stream",
     "text": [
      "Deque Count:  26\n"
     ]
    }
   ],
   "source": [
    "# deques support the len() function\n",
    "print(\"Deque Count: \", len(d))"
   ]
  },
  {
   "cell_type": "code",
   "execution_count": 80,
   "id": "7aab547b-6c26-4ec4-ba84-d6c037fc3616",
   "metadata": {},
   "outputs": [
    {
     "name": "stdout",
     "output_type": "stream",
     "text": [
      "A\n",
      "B\n",
      "C\n",
      "D\n",
      "E\n",
      "F\n",
      "G\n",
      "H\n",
      "I\n",
      "J\n",
      "K\n",
      "L\n",
      "M\n",
      "N\n",
      "O\n",
      "P\n",
      "Q\n",
      "R\n",
      "S\n",
      "T\n",
      "U\n",
      "V\n",
      "W\n",
      "X\n",
      "Y\n",
      "Z\n"
     ]
    }
   ],
   "source": [
    "# deques can be iterated over\n",
    "for element in d:\n",
    "    print(element.upper())"
   ]
  },
  {
   "cell_type": "code",
   "execution_count": 81,
   "id": "238a012a-719b-42f0-9951-483045f014cb",
   "metadata": {},
   "outputs": [
    {
     "name": "stdout",
     "output_type": "stream",
     "text": [
      "deque([4, 'b', 'c', 'd', 'e', 'f', 'g', 'h', 'i', 'j', 'k', 'l', 'm', 'n', 'o', 'p', 'q', 'r', 's', 't', 'u', 'v', 'w', 'x', 'y', 2])\n"
     ]
    }
   ],
   "source": [
    "# manipulate items from either end\n",
    "d.pop()\n",
    "d.popleft()\n",
    "d.append(2)\n",
    "d.appendleft(4)\n",
    "print(d)"
   ]
  },
  {
   "cell_type": "code",
   "execution_count": 82,
   "id": "e87fa280-9031-449d-bfb9-31543f03c6f3",
   "metadata": {},
   "outputs": [
    {
     "name": "stdout",
     "output_type": "stream",
     "text": [
      "deque([4, 'b', 'c', 'd', 'e', 'f', 'g', 'h', 'i', 'j', 'k', 'l', 'm', 'n', 'o', 'p', 'q', 'r', 's', 't', 'u', 'v', 'w', 'x', 'y', 2])\n",
      "deque([2, 4, 'b', 'c', 'd', 'e', 'f', 'g', 'h', 'i', 'j', 'k', 'l', 'm', 'n', 'o', 'p', 'q', 'r', 's', 't', 'u', 'v', 'w', 'x', 'y'])\n"
     ]
    }
   ],
   "source": [
    "# Use an index to get a particular item\n",
    "print(d)\n",
    "d.rotate(1)\n",
    "print(d)"
   ]
  },
  {
   "cell_type": "markdown",
   "id": "32fcc5f0-6918-4b91-9556-c54305d14cde",
   "metadata": {},
   "source": [
    "### E. Challenge 2: Classify event types"
   ]
  },
  {
   "cell_type": "code",
   "execution_count": 83,
   "id": "24973a58-5d6b-493c-bc9f-6812c1c67a6a",
   "metadata": {},
   "outputs": [],
   "source": [
    "totals = defaultdict(int)\n",
    "for event in data_1[\"features\"]:\n",
    "    totals[event[\"properties\"][\"type\"]] += 1"
   ]
  },
  {
   "cell_type": "code",
   "execution_count": 84,
   "id": "24c2b4c3-ce8d-4473-a7ba-6c558e59ae5d",
   "metadata": {},
   "outputs": [
    {
     "name": "stdout",
     "output_type": "stream",
     "text": [
      "{'earthquake': 11558, 'explosion': 85, 'quarry blast': 81, 'other event': 4, 'ice quake': 17}\n"
     ]
    }
   ],
   "source": [
    "print(dict(totals))"
   ]
  },
  {
   "cell_type": "markdown",
   "id": "941f0e40-9c0f-4ef8-b9d7-e055faa594d8",
   "metadata": {},
   "source": [
    "## 3. Serializing Data in Python\n",
    "### The Process of reading data to and from a datastore"
   ]
  },
  {
   "cell_type": "markdown",
   "id": "35ffd1ba-a3d8-41c1-a5b1-6786ba11f793",
   "metadata": {},
   "source": [
    "### A. Serializing Data as CSV"
   ]
  },
  {
   "cell_type": "code",
   "execution_count": 85,
   "id": "8e22442f-ed5e-48ae-90c6-8d773dc85663",
   "metadata": {},
   "outputs": [],
   "source": [
    "import csv"
   ]
  },
  {
   "cell_type": "code",
   "execution_count": 86,
   "id": "13bb8587-b2a0-4823-97f1-b05cfd606b11",
   "metadata": {},
   "outputs": [],
   "source": [
    "def isbig(x):\n",
    "    mag = x[\"properties\"][\"mag\"]\n",
    "    return mag is not None and mag > 5"
   ]
  },
  {
   "cell_type": "code",
   "execution_count": 87,
   "id": "7513f4ef-89a5-4d1a-bcda-bee17dc20188",
   "metadata": {},
   "outputs": [],
   "source": [
    "# Filter the data by quakes that are larger than 5 magnitude\n",
    "largequakes = list(filter(isbig, data_1[\"features\"]))"
   ]
  },
  {
   "cell_type": "code",
   "execution_count": 88,
   "id": "7a2de8a5-9316-4645-b357-2048fab9c5c4",
   "metadata": {},
   "outputs": [],
   "source": [
    "# Create the header and row structures for the data \n",
    "header = [\"Place\", \"Magnitude\", \"Link\", \"Date\"]\n",
    "rows = []"
   ]
  },
  {
   "cell_type": "code",
   "execution_count": 89,
   "id": "45e9d442-d9a1-4e93-a4d4-0f69ed0ed211",
   "metadata": {},
   "outputs": [],
   "source": [
    "# Populate the rows with the resulting quake data\n",
    "for quake in largequakes:\n",
    "    thedate = datetime.date.fromtimestamp(int(quake[\"properties\"][\"time\"]/1000))\n",
    "    rows.append([quake[\"properties\"][\"place\"], quake[\"properties\"][\"mag\"], quake[\"properties\"][\"url\"], thedate])"
   ]
  },
  {
   "cell_type": "code",
   "execution_count": 90,
   "id": "c2721564-8534-482a-a402-a21d5858115b",
   "metadata": {},
   "outputs": [],
   "source": [
    "# Write the results to the CSV files\n",
    "with open(\"largequakes.csv\", \"w\") as csvfile:\n",
    "    writer = csv.writer(csvfile, delimiter = \",\")\n",
    "    writer.writerow(header)\n",
    "    writer.writerows(rows)"
   ]
  },
  {
   "cell_type": "code",
   "execution_count": 91,
   "id": "300a5dff-4a34-4f76-9adc-71a988b03b6c",
   "metadata": {},
   "outputs": [],
   "source": [
    "# viewing the saved file\n",
    "import pandas as pd\n",
    "file = pd.read_csv('largequakes.csv')"
   ]
  },
  {
   "cell_type": "code",
   "execution_count": 92,
   "id": "472143a0-e6ea-4c1e-b55a-1b651b1ecdc6",
   "metadata": {},
   "outputs": [
    {
     "data": {
      "text/html": [
       "<div>\n",
       "<style scoped>\n",
       "    .dataframe tbody tr th:only-of-type {\n",
       "        vertical-align: middle;\n",
       "    }\n",
       "\n",
       "    .dataframe tbody tr th {\n",
       "        vertical-align: top;\n",
       "    }\n",
       "\n",
       "    .dataframe thead th {\n",
       "        text-align: right;\n",
       "    }\n",
       "</style>\n",
       "<table border=\"1\" class=\"dataframe\">\n",
       "  <thead>\n",
       "    <tr style=\"text-align: right;\">\n",
       "      <th></th>\n",
       "      <th>Place</th>\n",
       "      <th>Magnitude</th>\n",
       "      <th>Link</th>\n",
       "      <th>Date</th>\n",
       "    </tr>\n",
       "  </thead>\n",
       "  <tbody>\n",
       "    <tr>\n",
       "      <th>0</th>\n",
       "      <td>298km NE of Raoul Island, New Zealand</td>\n",
       "      <td>6.3</td>\n",
       "      <td>https://earthquake.usgs.gov/earthquakes/eventp...</td>\n",
       "      <td>2020-03-14</td>\n",
       "    </tr>\n",
       "    <tr>\n",
       "      <th>1</th>\n",
       "      <td>246km S of Kangin, Indonesia</td>\n",
       "      <td>6.2</td>\n",
       "      <td>https://earthquake.usgs.gov/earthquakes/eventp...</td>\n",
       "      <td>2020-03-18</td>\n",
       "    </tr>\n",
       "    <tr>\n",
       "      <th>2</th>\n",
       "      <td>97km NNW of Sola, Vanuatu</td>\n",
       "      <td>6.1</td>\n",
       "      <td>https://earthquake.usgs.gov/earthquakes/eventp...</td>\n",
       "      <td>2020-03-18</td>\n",
       "    </tr>\n",
       "    <tr>\n",
       "      <th>3</th>\n",
       "      <td>172km E of Hihifo, Tonga</td>\n",
       "      <td>6.0</td>\n",
       "      <td>https://earthquake.usgs.gov/earthquakes/eventp...</td>\n",
       "      <td>2020-03-17</td>\n",
       "    </tr>\n",
       "    <tr>\n",
       "      <th>4</th>\n",
       "      <td>24km SE of Saray, Turkey</td>\n",
       "      <td>6.0</td>\n",
       "      <td>https://earthquake.usgs.gov/earthquakes/eventp...</td>\n",
       "      <td>2020-02-23</td>\n",
       "    </tr>\n",
       "  </tbody>\n",
       "</table>\n",
       "</div>"
      ],
      "text/plain": [
       "                                   Place  Magnitude  \\\n",
       "0  298km NE of Raoul Island, New Zealand        6.3   \n",
       "1           246km S of Kangin, Indonesia        6.2   \n",
       "2              97km NNW of Sola, Vanuatu        6.1   \n",
       "3               172km E of Hihifo, Tonga        6.0   \n",
       "4               24km SE of Saray, Turkey        6.0   \n",
       "\n",
       "                                                Link        Date  \n",
       "0  https://earthquake.usgs.gov/earthquakes/eventp...  2020-03-14  \n",
       "1  https://earthquake.usgs.gov/earthquakes/eventp...  2020-03-18  \n",
       "2  https://earthquake.usgs.gov/earthquakes/eventp...  2020-03-18  \n",
       "3  https://earthquake.usgs.gov/earthquakes/eventp...  2020-03-17  \n",
       "4  https://earthquake.usgs.gov/earthquakes/eventp...  2020-02-23  "
      ]
     },
     "execution_count": 92,
     "metadata": {},
     "output_type": "execute_result"
    }
   ],
   "source": [
    "file.head()"
   ]
  },
  {
   "cell_type": "code",
   "execution_count": 93,
   "id": "d8dc2dcd-02bd-4738-928e-4dbd8c66df41",
   "metadata": {},
   "outputs": [
    {
     "data": {
      "text/html": [
       "<div>\n",
       "<style scoped>\n",
       "    .dataframe tbody tr th:only-of-type {\n",
       "        vertical-align: middle;\n",
       "    }\n",
       "\n",
       "    .dataframe tbody tr th {\n",
       "        vertical-align: top;\n",
       "    }\n",
       "\n",
       "    .dataframe thead th {\n",
       "        text-align: right;\n",
       "    }\n",
       "</style>\n",
       "<table border=\"1\" class=\"dataframe\">\n",
       "  <thead>\n",
       "    <tr style=\"text-align: right;\">\n",
       "      <th></th>\n",
       "      <th>Place</th>\n",
       "      <th>Magnitude</th>\n",
       "      <th>Link</th>\n",
       "      <th>Date</th>\n",
       "    </tr>\n",
       "  </thead>\n",
       "  <tbody>\n",
       "    <tr>\n",
       "      <th>0</th>\n",
       "      <td>298km NE of Raoul Island, New Zealand</td>\n",
       "      <td>6.3</td>\n",
       "      <td>https://earthquake.usgs.gov/earthquakes/eventp...</td>\n",
       "      <td>2020-03-14</td>\n",
       "    </tr>\n",
       "    <tr>\n",
       "      <th>1</th>\n",
       "      <td>246km S of Kangin, Indonesia</td>\n",
       "      <td>6.2</td>\n",
       "      <td>https://earthquake.usgs.gov/earthquakes/eventp...</td>\n",
       "      <td>2020-03-18</td>\n",
       "    </tr>\n",
       "    <tr>\n",
       "      <th>2</th>\n",
       "      <td>97km NNW of Sola, Vanuatu</td>\n",
       "      <td>6.1</td>\n",
       "      <td>https://earthquake.usgs.gov/earthquakes/eventp...</td>\n",
       "      <td>2020-03-18</td>\n",
       "    </tr>\n",
       "    <tr>\n",
       "      <th>3</th>\n",
       "      <td>172km E of Hihifo, Tonga</td>\n",
       "      <td>6.0</td>\n",
       "      <td>https://earthquake.usgs.gov/earthquakes/eventp...</td>\n",
       "      <td>2020-03-17</td>\n",
       "    </tr>\n",
       "    <tr>\n",
       "      <th>4</th>\n",
       "      <td>24km SE of Saray, Turkey</td>\n",
       "      <td>6.0</td>\n",
       "      <td>https://earthquake.usgs.gov/earthquakes/eventp...</td>\n",
       "      <td>2020-02-23</td>\n",
       "    </tr>\n",
       "    <tr>\n",
       "      <th>...</th>\n",
       "      <td>...</td>\n",
       "      <td>...</td>\n",
       "      <td>...</td>\n",
       "      <td>...</td>\n",
       "    </tr>\n",
       "    <tr>\n",
       "      <th>75</th>\n",
       "      <td>114km SSE of Pondaguitan, Philippines</td>\n",
       "      <td>5.1</td>\n",
       "      <td>https://earthquake.usgs.gov/earthquakes/eventp...</td>\n",
       "      <td>2020-02-22</td>\n",
       "    </tr>\n",
       "    <tr>\n",
       "      <th>76</th>\n",
       "      <td>286km NNE of Luring, China</td>\n",
       "      <td>5.1</td>\n",
       "      <td>https://earthquake.usgs.gov/earthquakes/eventp...</td>\n",
       "      <td>2020-02-20</td>\n",
       "    </tr>\n",
       "    <tr>\n",
       "      <th>77</th>\n",
       "      <td>South of the Kermadec Islands</td>\n",
       "      <td>5.1</td>\n",
       "      <td>https://earthquake.usgs.gov/earthquakes/eventp...</td>\n",
       "      <td>2020-02-20</td>\n",
       "    </tr>\n",
       "    <tr>\n",
       "      <th>78</th>\n",
       "      <td>118km SE of Visokoi Island, South Georgia and ...</td>\n",
       "      <td>5.1</td>\n",
       "      <td>https://earthquake.usgs.gov/earthquakes/eventp...</td>\n",
       "      <td>2020-02-20</td>\n",
       "    </tr>\n",
       "    <tr>\n",
       "      <th>79</th>\n",
       "      <td>93km SSW of Merizo Village, Guam</td>\n",
       "      <td>5.1</td>\n",
       "      <td>https://earthquake.usgs.gov/earthquakes/eventp...</td>\n",
       "      <td>2020-02-19</td>\n",
       "    </tr>\n",
       "  </tbody>\n",
       "</table>\n",
       "<p>80 rows × 4 columns</p>\n",
       "</div>"
      ],
      "text/plain": [
       "                                                Place  Magnitude  \\\n",
       "0               298km NE of Raoul Island, New Zealand        6.3   \n",
       "1                        246km S of Kangin, Indonesia        6.2   \n",
       "2                           97km NNW of Sola, Vanuatu        6.1   \n",
       "3                            172km E of Hihifo, Tonga        6.0   \n",
       "4                            24km SE of Saray, Turkey        6.0   \n",
       "..                                                ...        ...   \n",
       "75              114km SSE of Pondaguitan, Philippines        5.1   \n",
       "76                         286km NNE of Luring, China        5.1   \n",
       "77                      South of the Kermadec Islands        5.1   \n",
       "78  118km SE of Visokoi Island, South Georgia and ...        5.1   \n",
       "79                   93km SSW of Merizo Village, Guam        5.1   \n",
       "\n",
       "                                                 Link        Date  \n",
       "0   https://earthquake.usgs.gov/earthquakes/eventp...  2020-03-14  \n",
       "1   https://earthquake.usgs.gov/earthquakes/eventp...  2020-03-18  \n",
       "2   https://earthquake.usgs.gov/earthquakes/eventp...  2020-03-18  \n",
       "3   https://earthquake.usgs.gov/earthquakes/eventp...  2020-03-17  \n",
       "4   https://earthquake.usgs.gov/earthquakes/eventp...  2020-02-23  \n",
       "..                                                ...         ...  \n",
       "75  https://earthquake.usgs.gov/earthquakes/eventp...  2020-02-22  \n",
       "76  https://earthquake.usgs.gov/earthquakes/eventp...  2020-02-20  \n",
       "77  https://earthquake.usgs.gov/earthquakes/eventp...  2020-02-20  \n",
       "78  https://earthquake.usgs.gov/earthquakes/eventp...  2020-02-20  \n",
       "79  https://earthquake.usgs.gov/earthquakes/eventp...  2020-02-19  \n",
       "\n",
       "[80 rows x 4 columns]"
      ]
     },
     "execution_count": 93,
     "metadata": {},
     "output_type": "execute_result"
    }
   ],
   "source": [
    "file"
   ]
  },
  {
   "cell_type": "markdown",
   "id": "ae73f3c8-76e9-42a3-8395-835a22d99866",
   "metadata": {},
   "source": [
    "### B. Serializing Data as JSON"
   ]
  },
  {
   "cell_type": "code",
   "execution_count": 94,
   "id": "71e294dc-bf20-4b73-9f0a-8b8e62571783",
   "metadata": {},
   "outputs": [],
   "source": [
    "def big(x):\n",
    "    mag = x[\"properties\"][\"mag\"]\n",
    "    return mag is not None and mag > 6"
   ]
  },
  {
   "cell_type": "code",
   "execution_count": 95,
   "id": "40bceeb4-0d71-4735-b6d8-69d39fedff40",
   "metadata": {},
   "outputs": [],
   "source": [
    "# Define a function to transform complex JSON to simpler JSON\n",
    "def simplequake(q):\n",
    "    return {\n",
    "        \"place\" : q[\"properties\"][\"place\"],\n",
    "        \"mag\" : q[\"properties\"][\"mag\"],\n",
    "        \"link\" : q[\"properties\"][\"url\"], \n",
    "        \"date\" : str(datetime.date.fromtimestamp(int(q[\"properties\"][\"time\"]/1000)))\n",
    "    }"
   ]
  },
  {
   "cell_type": "code",
   "execution_count": 96,
   "id": "4206db0c-e41b-4a7c-8486-145e1e46faa9",
   "metadata": {},
   "outputs": [],
   "source": [
    "# Filter the data to only include large quakes\n",
    "large_quakes = list(filter(big, data_1[\"features\"]))"
   ]
  },
  {
   "cell_type": "code",
   "execution_count": 97,
   "id": "f4090a92-bdab-4613-b29d-e8dd87b8166d",
   "metadata": {},
   "outputs": [],
   "source": [
    "# Transform the data to a JSON format we want to save\n",
    "large_quakes = list(map(simplequake, large_quakes))"
   ]
  },
  {
   "cell_type": "code",
   "execution_count": 98,
   "id": "ecfe15c5-2acc-4f87-abdb-d5b602543a27",
   "metadata": {},
   "outputs": [
    {
     "name": "stdout",
     "output_type": "stream",
     "text": [
      "[\n",
      "    {\n",
      "        \"date\": \"2020-03-14\",\n",
      "        \"link\": \"https://earthquake.usgs.gov/earthquakes/eventpage/us60008fl8\",\n",
      "        \"mag\": 6.3,\n",
      "        \"place\": \"298km NE of Raoul Island, New Zealand\"\n",
      "    },\n",
      "    {\n",
      "        \"date\": \"2020-03-18\",\n",
      "        \"link\": \"https://earthquake.usgs.gov/earthquakes/eventpage/us60008hzl\",\n",
      "        \"mag\": 6.2,\n",
      "        \"place\": \"246km S of Kangin, Indonesia\"\n",
      "    },\n",
      "    {\n",
      "        \"date\": \"2020-03-18\",\n",
      "        \"link\": \"https://earthquake.usgs.gov/earthquakes/eventpage/us60008hkg\",\n",
      "        \"mag\": 6.1,\n",
      "        \"place\": \"97km NNW of Sola, Vanuatu\"\n",
      "    }\n",
      "]\n"
     ]
    }
   ],
   "source": [
    "# Use the dumps() function to write json to a string\n",
    "str = json.dumps(large_quakes, sort_keys = True, indent = 4)\n",
    "print(str)"
   ]
  },
  {
   "cell_type": "code",
   "execution_count": 99,
   "id": "c98cd88f-b932-45b2-b07b-bc298b483e66",
   "metadata": {},
   "outputs": [],
   "source": [
    "# Use the dump() function to write json to a file\n",
    "with open(\"large_quakes.json\", \"w\") as outfile:\n",
    "    json.dump(large_quakes, outfile, sort_keys = True, indent = 4)"
   ]
  },
  {
   "cell_type": "markdown",
   "id": "26f90eb7-1e7e-40c0-8bce-01f9bfe91b02",
   "metadata": {},
   "source": [
    "### C. Deserialization of Data"
   ]
  },
  {
   "cell_type": "code",
   "execution_count": 100,
   "id": "53da8090-ae7e-43a3-9bd8-0bcde09e28e8",
   "metadata": {},
   "outputs": [],
   "source": [
    "import csv\n",
    "import pprint"
   ]
  },
  {
   "cell_type": "code",
   "execution_count": 101,
   "id": "222a10c4-2bb6-4efa-a7e4-4aa0c7a4b6ad",
   "metadata": {},
   "outputs": [
    {
     "name": "stdout",
     "output_type": "stream",
     "text": [
      "['Place', 'Magnitude', 'Link', 'Date']\n",
      "[]\n",
      "['298km NE of Raoul Island, New Zealand', '6.3', 'https://earthquake.usgs.gov/earthquakes/eventpage/us60008fl8', '2020-03-14']\n",
      "[]\n",
      "['246km S of Kangin, Indonesia', '6.2', 'https://earthquake.usgs.gov/earthquakes/eventpage/us60008hzl', '2020-03-18']\n",
      "[]\n",
      "['97km NNW of Sola, Vanuatu', '6.1', 'https://earthquake.usgs.gov/earthquakes/eventpage/us60008hkg', '2020-03-18']\n",
      "[]\n",
      "['172km E of Hihifo, Tonga', '6', 'https://earthquake.usgs.gov/earthquakes/eventpage/us60008h76', '2020-03-17']\n",
      "[]\n",
      "['24km SE of Saray, Turkey', '6', 'https://earthquake.usgs.gov/earthquakes/eventpage/us70007v9g', '2020-02-23']\n",
      "[]\n",
      "['Southwest Indian Ridge', '5.9', 'https://earthquake.usgs.gov/earthquakes/eventpage/us60008ay3', '2020-03-06']\n",
      "[]\n",
      "['48km NNW of Saumlaki, Indonesia', '5.9', 'https://earthquake.usgs.gov/earthquakes/eventpage/us600084gu', '2020-02-26']\n",
      "[]\n",
      "['26km ESE of Saray, Turkey', '5.8', 'https://earthquake.usgs.gov/earthquakes/eventpage/us70007v29', '2020-02-23']\n",
      "[]\n",
      "['153km ENE of Petropavlovsk-Kamchatskiy, Russia', '5.8', 'https://earthquake.usgs.gov/earthquakes/eventpage/us70007trb', '2020-02-21']\n",
      "[]\n",
      "['69km W of Petrolia, CA', '5.77', 'https://earthquake.usgs.gov/earthquakes/eventpage/nc73351710', '2020-03-09']\n",
      "[]\n",
      "['6km NNE of Magna, Utah', '5.7', 'https://earthquake.usgs.gov/earthquakes/eventpage/uu60363602', '2020-03-18']\n",
      "[]\n",
      "['53km WSW of Amatignak Island, Alaska', '5.7', 'https://earthquake.usgs.gov/earthquakes/eventpage/us600087lz', '2020-03-02']\n",
      "[]\n",
      "['117km ESE of Neiafu, Tonga', '5.7', 'https://earthquake.usgs.gov/earthquakes/eventpage/us600085x5', '2020-02-28']\n",
      "[]\n",
      "['53km NNW of Tome, Chile', '5.6', 'https://earthquake.usgs.gov/earthquakes/eventpage/us60008gzt', '2020-03-17']\n",
      "[]\n",
      "['168km ESE of Raoul Island, New Zealand', '5.6', 'https://earthquake.usgs.gov/earthquakes/eventpage/us60008a7b', '2020-03-05']\n",
      "[]\n",
      "['158km WSW of Lata, Solomon Islands', '5.5', 'https://earthquake.usgs.gov/earthquakes/eventpage/us60008hml', '2020-03-18']\n",
      "[]\n",
      "['127km SW of Kuripan, Indonesia', '5.5', 'https://earthquake.usgs.gov/earthquakes/eventpage/us60008d51', '2020-03-10']\n",
      "[]\n",
      "['209km NNW of Puerto Ayora, Ecuador', '5.5', 'https://earthquake.usgs.gov/earthquakes/eventpage/us60008d3z', '2020-03-10']\n",
      "[]\n",
      "['53km WSW of Port-Vila, Vanuatu', '5.5', 'https://earthquake.usgs.gov/earthquakes/eventpage/us60008bj6', '2020-03-07']\n",
      "[]\n",
      "['39km S of Tinogasta, Argentina', '5.5', 'https://earthquake.usgs.gov/earthquakes/eventpage/us600089zt', '2020-03-05']\n",
      "[]\n",
      "['179km S of Sarangani, Philippines', '5.5', 'https://earthquake.usgs.gov/earthquakes/eventpage/us600085g3', '2020-02-28']\n",
      "[]\n",
      "['West Chile Rise', '5.5', 'https://earthquake.usgs.gov/earthquakes/eventpage/us70007uy4', '2020-02-23']\n",
      "[]\n",
      "['62km SSE of `Ohonua, Tonga', '5.5', 'https://earthquake.usgs.gov/earthquakes/eventpage/us70007uvu', '2020-02-23']\n",
      "[]\n",
      "['71km SE of Estacion Coahuila, B.C., MX', '5.49', 'https://earthquake.usgs.gov/earthquakes/eventpage/ci38385946', '2020-03-07']\n",
      "[]\n",
      "['142km N of Tobelo, Indonesia', '5.4', 'https://earthquake.usgs.gov/earthquakes/eventpage/us60008hkf', '2020-03-18']\n",
      "[]\n",
      "['Southern Mid-Atlantic Ridge', '5.4', 'https://earthquake.usgs.gov/earthquakes/eventpage/us60008a9i', '2020-03-05']\n",
      "[]\n",
      "['Southern East Pacific Rise', '5.4', 'https://earthquake.usgs.gov/earthquakes/eventpage/us600085my', '2020-02-28']\n",
      "[]\n",
      "['229km NW of Saumlaki, Indonesia', '5.4', 'https://earthquake.usgs.gov/earthquakes/eventpage/us70007tt3', '2020-02-21']\n",
      "[]\n",
      "['13km SE of Kalbay, Philippines', '5.4', 'https://earthquake.usgs.gov/earthquakes/eventpage/us70007th0', '2020-02-20']\n",
      "[]\n",
      "[\"95km WNW of Bandar 'Abbas, Iran\", '5.3', 'https://earthquake.usgs.gov/earthquakes/eventpage/us60008g7m', '2020-03-16']\n",
      "[]\n",
      "['26km NNW of Nanao, Japan', '5.3', 'https://earthquake.usgs.gov/earthquakes/eventpage/us60008egj', '2020-03-12']\n",
      "[]\n",
      "['111km SE of Neiafu, Tonga', '5.3', 'https://earthquake.usgs.gov/earthquakes/eventpage/us60008e9x', '2020-03-12']\n",
      "[]\n",
      "['112km SE of Neiafu, Tonga', '5.3', 'https://earthquake.usgs.gov/earthquakes/eventpage/us60008dwq', '2020-03-12']\n",
      "[]\n",
      "['70km S of Panguna, Papua New Guinea', '5.3', 'https://earthquake.usgs.gov/earthquakes/eventpage/us60008dpf', '2020-03-11']\n",
      "[]\n",
      "[\"134km SE of L'Esperance Rock, New Zealand\", '5.3', 'https://earthquake.usgs.gov/earthquakes/eventpage/us60008dgf', '2020-03-11']\n",
      "[]\n",
      "['145km ENE of Luring, China', '5.3', 'https://earthquake.usgs.gov/earthquakes/eventpage/us60008clh', '2020-03-09']\n",
      "[]\n",
      "['5km NNE of Culasian, Philippines', '5.3', 'https://earthquake.usgs.gov/earthquakes/eventpage/us600087il', '2020-03-02']\n",
      "[]\n",
      "['158km N of Tobelo, Indonesia', '5.3', 'https://earthquake.usgs.gov/earthquakes/eventpage/us600086um', '2020-02-29']\n",
      "[]\n",
      "['103km SE of Neiafu, Tonga', '5.3', 'https://earthquake.usgs.gov/earthquakes/eventpage/us600086p0', '2020-02-29']\n",
      "[]\n",
      "['Southern Mid-Atlantic Ridge', '5.3', 'https://earthquake.usgs.gov/earthquakes/eventpage/us6000859r', '2020-02-27']\n",
      "[]\n",
      "['135km SE of Modayag, Indonesia', '5.3', 'https://earthquake.usgs.gov/earthquakes/eventpage/us70007v0d', '2020-02-23']\n",
      "[]\n",
      "['15km W of Petrolia, CA', '5.21', 'https://earthquake.usgs.gov/earthquakes/eventpage/nc73355700', '2020-03-19']\n",
      "[]\n",
      "['86km ENE of Iquique, Chile', '5.2', 'https://earthquake.usgs.gov/earthquakes/eventpage/us60008eru', '2020-03-13']\n",
      "[]\n",
      "['107km WSW of San Nicolas, Philippines', '5.2', 'https://earthquake.usgs.gov/earthquakes/eventpage/us60008epc', '2020-03-13']\n",
      "[]\n",
      "['156km NNE of Rumung, Micronesia', '5.2', 'https://earthquake.usgs.gov/earthquakes/eventpage/us60008cdq', '2020-03-09']\n",
      "[]\n",
      "['30km SSE of Canico, Portugal', '5.2', 'https://earthquake.usgs.gov/earthquakes/eventpage/us60008brw', '2020-03-08']\n",
      "[]\n",
      "['294km WNW of Saumlaki, Indonesia', '5.2', 'https://earthquake.usgs.gov/earthquakes/eventpage/us60008blz', '2020-03-07']\n",
      "[]\n",
      "['23km ESE of Buenos Aires, Costa Rica', '5.2', 'https://earthquake.usgs.gov/earthquakes/eventpage/us60008bgr', '2020-03-07']\n",
      "[]\n",
      "['161km ENE of Angoram, Papua New Guinea', '5.2', 'https://earthquake.usgs.gov/earthquakes/eventpage/us60008a39', '2020-03-05']\n",
      "[]\n",
      "['109km WNW of Kirakira, Solomon Islands', '5.2', 'https://earthquake.usgs.gov/earthquakes/eventpage/us6000848g', '2020-02-26']\n",
      "[]\n",
      "['79km W of Santiago de Cao, Peru', '5.2', 'https://earthquake.usgs.gov/earthquakes/eventpage/us70007w9l', '2020-02-25']\n",
      "[]\n",
      "['240km SE of Lambasa, Fiji', '5.2', 'https://earthquake.usgs.gov/earthquakes/eventpage/us70007w8g', '2020-02-25']\n",
      "[]\n",
      "['83km ESE of Muara Siberut, Indonesia', '5.2', 'https://earthquake.usgs.gov/earthquakes/eventpage/us70007w28', '2020-02-25']\n",
      "[]\n",
      "[\"67km NE of Kuril'sk, Russia\", '5.2', 'https://earthquake.usgs.gov/earthquakes/eventpage/us70007v6u', '2020-02-23']\n",
      "[]\n",
      "['40km SSE of `Ohonua, Tonga', '5.2', 'https://earthquake.usgs.gov/earthquakes/eventpage/us70007uuu', '2020-02-23']\n",
      "[]\n",
      "['110km SSE of Pondaguitan, Philippines', '5.2', 'https://earthquake.usgs.gov/earthquakes/eventpage/us70007usp', '2020-02-22']\n",
      "[]\n",
      "['144km E of Chichi-shima, Japan', '5.2', 'https://earthquake.usgs.gov/earthquakes/eventpage/us70007upz', '2020-02-22']\n",
      "[]\n",
      "['36km SSW of Amatignak Island, Alaska', '5.2', 'https://earthquake.usgs.gov/earthquakes/eventpage/us70007u2w', '2020-02-21']\n",
      "[]\n",
      "['North of Svalbard', '5.2', 'https://earthquake.usgs.gov/earthquakes/eventpage/us70007s90', '2020-02-18']\n",
      "[]\n",
      "['195km SSE of Lata, Solomon Islands', '5.1', 'https://earthquake.usgs.gov/earthquakes/eventpage/us60008g8y', '2020-03-16']\n",
      "[]\n",
      "['116km SW of Panenggoede, Indonesia', '5.1', 'https://earthquake.usgs.gov/earthquakes/eventpage/us60008g6f', '2020-03-16']\n",
      "[]\n",
      "['25km SW of Villa Comaltitlan, Mexico', '5.1', 'https://earthquake.usgs.gov/earthquakes/eventpage/us60008fuy', '2020-03-15']\n",
      "[]\n",
      "['4km SE of Puerto Armuelles, Panama', '5.1', 'https://earthquake.usgs.gov/earthquakes/eventpage/us60008euj', '2020-03-13']\n",
      "[]\n",
      "['99km S of Wonosari, Indonesia', '5.1', 'https://earthquake.usgs.gov/earthquakes/eventpage/us60008e67', '2020-03-12']\n",
      "[]\n",
      "['88km NNE of San Pedro de Atacama, Chile', '5.1', 'https://earthquake.usgs.gov/earthquakes/eventpage/us60008d4v', '2020-03-10']\n",
      "[]\n",
      "['West Chile Rise', '5.1', 'https://earthquake.usgs.gov/earthquakes/eventpage/us60008bmi', '2020-03-07']\n",
      "[]\n",
      "['67km S of Bristol Island, South Sandwich Islands', '5.1', 'https://earthquake.usgs.gov/earthquakes/eventpage/us600089h2', '2020-03-04']\n",
      "[]\n",
      "['50km W of Amatignak Island, Alaska', '5.1', 'https://earthquake.usgs.gov/earthquakes/eventpage/us600088i8', '2020-03-03']\n",
      "[]\n",
      "['64km S of Bristol Island, South Sandwich Islands', '5.1', 'https://earthquake.usgs.gov/earthquakes/eventpage/us6000885x', '2020-03-03']\n",
      "[]\n",
      "['135km ESE of Tadine, New Caledonia', '5.1', 'https://earthquake.usgs.gov/earthquakes/eventpage/us600086su', '2020-02-29']\n",
      "[]\n",
      "['201km NW of Visokoi Island, South Georgia and the South Sandwich Islands', '5.1', 'https://earthquake.usgs.gov/earthquakes/eventpage/us600086as', '2020-02-29']\n",
      "[]\n",
      "['43km WSW of Pagaralam, Indonesia', '5.1', 'https://earthquake.usgs.gov/earthquakes/eventpage/us6000863e', '2020-02-28']\n",
      "[]\n",
      "['Southern Mid-Atlantic Ridge', '5.1', 'https://earthquake.usgs.gov/earthquakes/eventpage/us60008535', '2020-02-27']\n",
      "[]\n",
      "['50km NNW of Hualian, Taiwan', '5.1', 'https://earthquake.usgs.gov/earthquakes/eventpage/us70007we1', '2020-02-25']\n",
      "[]\n",
      "['141km SE of Modayag, Indonesia', '5.1', 'https://earthquake.usgs.gov/earthquakes/eventpage/us70007v12', '2020-02-23']\n",
      "[]\n",
      "['114km SSE of Pondaguitan, Philippines', '5.1', 'https://earthquake.usgs.gov/earthquakes/eventpage/us70007usm', '2020-02-22']\n",
      "[]\n",
      "['286km NNE of Luring, China', '5.1', 'https://earthquake.usgs.gov/earthquakes/eventpage/us70007tnv', '2020-02-20']\n",
      "[]\n",
      "['South of the Kermadec Islands', '5.1', 'https://earthquake.usgs.gov/earthquakes/eventpage/us70007tf0', '2020-02-20']\n",
      "[]\n",
      "['118km SE of Visokoi Island, South Georgia and the South Sandwich Islands', '5.1', 'https://earthquake.usgs.gov/earthquakes/eventpage/us70007tdi', '2020-02-20']\n",
      "[]\n",
      "['93km SSW of Merizo Village, Guam', '5.1', 'https://earthquake.usgs.gov/earthquakes/eventpage/us70007t2i', '2020-02-19']\n",
      "[]\n"
     ]
    }
   ],
   "source": [
    "# Open the CSV file for reading\n",
    "with open(\"largequakes.csv\", \"r\") as csvfile:\n",
    "    reader = csv.reader(csvfile)\n",
    "    for row in reader:\n",
    "        print(row)"
   ]
  },
  {
   "cell_type": "code",
   "execution_count": 102,
   "id": "10c507dc-d989-4009-a0ed-d6ff352e9fee",
   "metadata": {},
   "outputs": [],
   "source": [
    "df = pd.read_csv('largequakes.csv', on_bad_lines='skip')  # Skips rows with too many fields\n",
    "df.dropna(inplace=True)  # Drop rows with NaN (empty) values\n",
    "\n",
    "# Now you can work with the cleaned dataframe\n",
    "df\n",
    "\n",
    "df.to_csv('cleaned_largequakes.csv')"
   ]
  },
  {
   "cell_type": "code",
   "execution_count": 103,
   "id": "25cd8210-7c7f-4c98-bc20-903aa892449a",
   "metadata": {},
   "outputs": [],
   "source": [
    "# Read the contents of the CSV file into a object structure\n",
    "result = []"
   ]
  },
  {
   "cell_type": "code",
   "execution_count": 104,
   "id": "fd011852-89d8-4531-a3a4-02024f90711e",
   "metadata": {},
   "outputs": [],
   "source": [
    "# Open the CSV file for reading\n",
    "with open(\"cleaned_largequakes.csv\", \"r\") as csvfile:\n",
    "    reader = csv.reader(csvfile)\n",
    "    for row in reader:\n",
    "        result.append({\n",
    "            \"place\": row[0],\n",
    "            \"magnitude\": row[1],\n",
    "            \"link\": row[2],\n",
    "            \"date\": row[3]\n",
    "        })\n"
   ]
  },
  {
   "cell_type": "code",
   "execution_count": 105,
   "id": "c26728d7-4482-4c2f-a664-cff0da3188d7",
   "metadata": {
    "scrolled": true
   },
   "outputs": [
    {
     "name": "stdout",
     "output_type": "stream",
     "text": [
      "[{'place': '', 'magnitude': 'Place', 'link': 'Magnitude', 'date': 'Link'},\n",
      " {'place': '0',\n",
      "  'magnitude': '298km NE of Raoul Island, New Zealand',\n",
      "  'link': '6.3',\n",
      "  'date': 'https://earthquake.usgs.gov/earthquakes/eventpage/us60008fl8'},\n",
      " {'place': '1',\n",
      "  'magnitude': '246km S of Kangin, Indonesia',\n",
      "  'link': '6.2',\n",
      "  'date': 'https://earthquake.usgs.gov/earthquakes/eventpage/us60008hzl'},\n",
      " {'place': '2',\n",
      "  'magnitude': '97km NNW of Sola, Vanuatu',\n",
      "  'link': '6.1',\n",
      "  'date': 'https://earthquake.usgs.gov/earthquakes/eventpage/us60008hkg'},\n",
      " {'place': '3',\n",
      "  'magnitude': '172km E of Hihifo, Tonga',\n",
      "  'link': '6.0',\n",
      "  'date': 'https://earthquake.usgs.gov/earthquakes/eventpage/us60008h76'},\n",
      " {'place': '4',\n",
      "  'magnitude': '24km SE of Saray, Turkey',\n",
      "  'link': '6.0',\n",
      "  'date': 'https://earthquake.usgs.gov/earthquakes/eventpage/us70007v9g'},\n",
      " {'place': '5',\n",
      "  'magnitude': 'Southwest Indian Ridge',\n",
      "  'link': '5.9',\n",
      "  'date': 'https://earthquake.usgs.gov/earthquakes/eventpage/us60008ay3'},\n",
      " {'place': '6',\n",
      "  'magnitude': '48km NNW of Saumlaki, Indonesia',\n",
      "  'link': '5.9',\n",
      "  'date': 'https://earthquake.usgs.gov/earthquakes/eventpage/us600084gu'},\n",
      " {'place': '7',\n",
      "  'magnitude': '26km ESE of Saray, Turkey',\n",
      "  'link': '5.8',\n",
      "  'date': 'https://earthquake.usgs.gov/earthquakes/eventpage/us70007v29'},\n",
      " {'place': '8',\n",
      "  'magnitude': '153km ENE of Petropavlovsk-Kamchatskiy, Russia',\n",
      "  'link': '5.8',\n",
      "  'date': 'https://earthquake.usgs.gov/earthquakes/eventpage/us70007trb'},\n",
      " {'place': '9',\n",
      "  'magnitude': '69km W of Petrolia, CA',\n",
      "  'link': '5.77',\n",
      "  'date': 'https://earthquake.usgs.gov/earthquakes/eventpage/nc73351710'},\n",
      " {'place': '10',\n",
      "  'magnitude': '6km NNE of Magna, Utah',\n",
      "  'link': '5.7',\n",
      "  'date': 'https://earthquake.usgs.gov/earthquakes/eventpage/uu60363602'},\n",
      " {'place': '11',\n",
      "  'magnitude': '53km WSW of Amatignak Island, Alaska',\n",
      "  'link': '5.7',\n",
      "  'date': 'https://earthquake.usgs.gov/earthquakes/eventpage/us600087lz'},\n",
      " {'place': '12',\n",
      "  'magnitude': '117km ESE of Neiafu, Tonga',\n",
      "  'link': '5.7',\n",
      "  'date': 'https://earthquake.usgs.gov/earthquakes/eventpage/us600085x5'},\n",
      " {'place': '13',\n",
      "  'magnitude': '53km NNW of Tome, Chile',\n",
      "  'link': '5.6',\n",
      "  'date': 'https://earthquake.usgs.gov/earthquakes/eventpage/us60008gzt'},\n",
      " {'place': '14',\n",
      "  'magnitude': '168km ESE of Raoul Island, New Zealand',\n",
      "  'link': '5.6',\n",
      "  'date': 'https://earthquake.usgs.gov/earthquakes/eventpage/us60008a7b'},\n",
      " {'place': '15',\n",
      "  'magnitude': '158km WSW of Lata, Solomon Islands',\n",
      "  'link': '5.5',\n",
      "  'date': 'https://earthquake.usgs.gov/earthquakes/eventpage/us60008hml'},\n",
      " {'place': '16',\n",
      "  'magnitude': '127km SW of Kuripan, Indonesia',\n",
      "  'link': '5.5',\n",
      "  'date': 'https://earthquake.usgs.gov/earthquakes/eventpage/us60008d51'},\n",
      " {'place': '17',\n",
      "  'magnitude': '209km NNW of Puerto Ayora, Ecuador',\n",
      "  'link': '5.5',\n",
      "  'date': 'https://earthquake.usgs.gov/earthquakes/eventpage/us60008d3z'},\n",
      " {'place': '18',\n",
      "  'magnitude': '53km WSW of Port-Vila, Vanuatu',\n",
      "  'link': '5.5',\n",
      "  'date': 'https://earthquake.usgs.gov/earthquakes/eventpage/us60008bj6'},\n",
      " {'place': '19',\n",
      "  'magnitude': '39km S of Tinogasta, Argentina',\n",
      "  'link': '5.5',\n",
      "  'date': 'https://earthquake.usgs.gov/earthquakes/eventpage/us600089zt'},\n",
      " {'place': '20',\n",
      "  'magnitude': '179km S of Sarangani, Philippines',\n",
      "  'link': '5.5',\n",
      "  'date': 'https://earthquake.usgs.gov/earthquakes/eventpage/us600085g3'},\n",
      " {'place': '21',\n",
      "  'magnitude': 'West Chile Rise',\n",
      "  'link': '5.5',\n",
      "  'date': 'https://earthquake.usgs.gov/earthquakes/eventpage/us70007uy4'},\n",
      " {'place': '22',\n",
      "  'magnitude': '62km SSE of `Ohonua, Tonga',\n",
      "  'link': '5.5',\n",
      "  'date': 'https://earthquake.usgs.gov/earthquakes/eventpage/us70007uvu'},\n",
      " {'place': '23',\n",
      "  'magnitude': '71km SE of Estacion Coahuila, B.C., MX',\n",
      "  'link': '5.49',\n",
      "  'date': 'https://earthquake.usgs.gov/earthquakes/eventpage/ci38385946'},\n",
      " {'place': '24',\n",
      "  'magnitude': '142km N of Tobelo, Indonesia',\n",
      "  'link': '5.4',\n",
      "  'date': 'https://earthquake.usgs.gov/earthquakes/eventpage/us60008hkf'},\n",
      " {'place': '25',\n",
      "  'magnitude': 'Southern Mid-Atlantic Ridge',\n",
      "  'link': '5.4',\n",
      "  'date': 'https://earthquake.usgs.gov/earthquakes/eventpage/us60008a9i'},\n",
      " {'place': '26',\n",
      "  'magnitude': 'Southern East Pacific Rise',\n",
      "  'link': '5.4',\n",
      "  'date': 'https://earthquake.usgs.gov/earthquakes/eventpage/us600085my'},\n",
      " {'place': '27',\n",
      "  'magnitude': '229km NW of Saumlaki, Indonesia',\n",
      "  'link': '5.4',\n",
      "  'date': 'https://earthquake.usgs.gov/earthquakes/eventpage/us70007tt3'},\n",
      " {'place': '28',\n",
      "  'magnitude': '13km SE of Kalbay, Philippines',\n",
      "  'link': '5.4',\n",
      "  'date': 'https://earthquake.usgs.gov/earthquakes/eventpage/us70007th0'},\n",
      " {'place': '29',\n",
      "  'magnitude': \"95km WNW of Bandar 'Abbas, Iran\",\n",
      "  'link': '5.3',\n",
      "  'date': 'https://earthquake.usgs.gov/earthquakes/eventpage/us60008g7m'},\n",
      " {'place': '30',\n",
      "  'magnitude': '26km NNW of Nanao, Japan',\n",
      "  'link': '5.3',\n",
      "  'date': 'https://earthquake.usgs.gov/earthquakes/eventpage/us60008egj'},\n",
      " {'place': '31',\n",
      "  'magnitude': '111km SE of Neiafu, Tonga',\n",
      "  'link': '5.3',\n",
      "  'date': 'https://earthquake.usgs.gov/earthquakes/eventpage/us60008e9x'},\n",
      " {'place': '32',\n",
      "  'magnitude': '112km SE of Neiafu, Tonga',\n",
      "  'link': '5.3',\n",
      "  'date': 'https://earthquake.usgs.gov/earthquakes/eventpage/us60008dwq'},\n",
      " {'place': '33',\n",
      "  'magnitude': '70km S of Panguna, Papua New Guinea',\n",
      "  'link': '5.3',\n",
      "  'date': 'https://earthquake.usgs.gov/earthquakes/eventpage/us60008dpf'},\n",
      " {'place': '34',\n",
      "  'magnitude': \"134km SE of L'Esperance Rock, New Zealand\",\n",
      "  'link': '5.3',\n",
      "  'date': 'https://earthquake.usgs.gov/earthquakes/eventpage/us60008dgf'},\n",
      " {'place': '35',\n",
      "  'magnitude': '145km ENE of Luring, China',\n",
      "  'link': '5.3',\n",
      "  'date': 'https://earthquake.usgs.gov/earthquakes/eventpage/us60008clh'},\n",
      " {'place': '36',\n",
      "  'magnitude': '5km NNE of Culasian, Philippines',\n",
      "  'link': '5.3',\n",
      "  'date': 'https://earthquake.usgs.gov/earthquakes/eventpage/us600087il'},\n",
      " {'place': '37',\n",
      "  'magnitude': '158km N of Tobelo, Indonesia',\n",
      "  'link': '5.3',\n",
      "  'date': 'https://earthquake.usgs.gov/earthquakes/eventpage/us600086um'},\n",
      " {'place': '38',\n",
      "  'magnitude': '103km SE of Neiafu, Tonga',\n",
      "  'link': '5.3',\n",
      "  'date': 'https://earthquake.usgs.gov/earthquakes/eventpage/us600086p0'},\n",
      " {'place': '39',\n",
      "  'magnitude': 'Southern Mid-Atlantic Ridge',\n",
      "  'link': '5.3',\n",
      "  'date': 'https://earthquake.usgs.gov/earthquakes/eventpage/us6000859r'},\n",
      " {'place': '40',\n",
      "  'magnitude': '135km SE of Modayag, Indonesia',\n",
      "  'link': '5.3',\n",
      "  'date': 'https://earthquake.usgs.gov/earthquakes/eventpage/us70007v0d'},\n",
      " {'place': '41',\n",
      "  'magnitude': '15km W of Petrolia, CA',\n",
      "  'link': '5.21',\n",
      "  'date': 'https://earthquake.usgs.gov/earthquakes/eventpage/nc73355700'},\n",
      " {'place': '42',\n",
      "  'magnitude': '86km ENE of Iquique, Chile',\n",
      "  'link': '5.2',\n",
      "  'date': 'https://earthquake.usgs.gov/earthquakes/eventpage/us60008eru'},\n",
      " {'place': '43',\n",
      "  'magnitude': '107km WSW of San Nicolas, Philippines',\n",
      "  'link': '5.2',\n",
      "  'date': 'https://earthquake.usgs.gov/earthquakes/eventpage/us60008epc'},\n",
      " {'place': '44',\n",
      "  'magnitude': '156km NNE of Rumung, Micronesia',\n",
      "  'link': '5.2',\n",
      "  'date': 'https://earthquake.usgs.gov/earthquakes/eventpage/us60008cdq'},\n",
      " {'place': '45',\n",
      "  'magnitude': '30km SSE of Canico, Portugal',\n",
      "  'link': '5.2',\n",
      "  'date': 'https://earthquake.usgs.gov/earthquakes/eventpage/us60008brw'},\n",
      " {'place': '46',\n",
      "  'magnitude': '294km WNW of Saumlaki, Indonesia',\n",
      "  'link': '5.2',\n",
      "  'date': 'https://earthquake.usgs.gov/earthquakes/eventpage/us60008blz'},\n",
      " {'place': '47',\n",
      "  'magnitude': '23km ESE of Buenos Aires, Costa Rica',\n",
      "  'link': '5.2',\n",
      "  'date': 'https://earthquake.usgs.gov/earthquakes/eventpage/us60008bgr'},\n",
      " {'place': '48',\n",
      "  'magnitude': '161km ENE of Angoram, Papua New Guinea',\n",
      "  'link': '5.2',\n",
      "  'date': 'https://earthquake.usgs.gov/earthquakes/eventpage/us60008a39'},\n",
      " {'place': '49',\n",
      "  'magnitude': '109km WNW of Kirakira, Solomon Islands',\n",
      "  'link': '5.2',\n",
      "  'date': 'https://earthquake.usgs.gov/earthquakes/eventpage/us6000848g'},\n",
      " {'place': '50',\n",
      "  'magnitude': '79km W of Santiago de Cao, Peru',\n",
      "  'link': '5.2',\n",
      "  'date': 'https://earthquake.usgs.gov/earthquakes/eventpage/us70007w9l'},\n",
      " {'place': '51',\n",
      "  'magnitude': '240km SE of Lambasa, Fiji',\n",
      "  'link': '5.2',\n",
      "  'date': 'https://earthquake.usgs.gov/earthquakes/eventpage/us70007w8g'},\n",
      " {'place': '52',\n",
      "  'magnitude': '83km ESE of Muara Siberut, Indonesia',\n",
      "  'link': '5.2',\n",
      "  'date': 'https://earthquake.usgs.gov/earthquakes/eventpage/us70007w28'},\n",
      " {'place': '53',\n",
      "  'magnitude': \"67km NE of Kuril'sk, Russia\",\n",
      "  'link': '5.2',\n",
      "  'date': 'https://earthquake.usgs.gov/earthquakes/eventpage/us70007v6u'},\n",
      " {'place': '54',\n",
      "  'magnitude': '40km SSE of `Ohonua, Tonga',\n",
      "  'link': '5.2',\n",
      "  'date': 'https://earthquake.usgs.gov/earthquakes/eventpage/us70007uuu'},\n",
      " {'place': '55',\n",
      "  'magnitude': '110km SSE of Pondaguitan, Philippines',\n",
      "  'link': '5.2',\n",
      "  'date': 'https://earthquake.usgs.gov/earthquakes/eventpage/us70007usp'},\n",
      " {'place': '56',\n",
      "  'magnitude': '144km E of Chichi-shima, Japan',\n",
      "  'link': '5.2',\n",
      "  'date': 'https://earthquake.usgs.gov/earthquakes/eventpage/us70007upz'},\n",
      " {'place': '57',\n",
      "  'magnitude': '36km SSW of Amatignak Island, Alaska',\n",
      "  'link': '5.2',\n",
      "  'date': 'https://earthquake.usgs.gov/earthquakes/eventpage/us70007u2w'},\n",
      " {'place': '58',\n",
      "  'magnitude': 'North of Svalbard',\n",
      "  'link': '5.2',\n",
      "  'date': 'https://earthquake.usgs.gov/earthquakes/eventpage/us70007s90'},\n",
      " {'place': '59',\n",
      "  'magnitude': '195km SSE of Lata, Solomon Islands',\n",
      "  'link': '5.1',\n",
      "  'date': 'https://earthquake.usgs.gov/earthquakes/eventpage/us60008g8y'},\n",
      " {'place': '60',\n",
      "  'magnitude': '116km SW of Panenggoede, Indonesia',\n",
      "  'link': '5.1',\n",
      "  'date': 'https://earthquake.usgs.gov/earthquakes/eventpage/us60008g6f'},\n",
      " {'place': '61',\n",
      "  'magnitude': '25km SW of Villa Comaltitlan, Mexico',\n",
      "  'link': '5.1',\n",
      "  'date': 'https://earthquake.usgs.gov/earthquakes/eventpage/us60008fuy'},\n",
      " {'place': '62',\n",
      "  'magnitude': '4km SE of Puerto Armuelles, Panama',\n",
      "  'link': '5.1',\n",
      "  'date': 'https://earthquake.usgs.gov/earthquakes/eventpage/us60008euj'},\n",
      " {'place': '63',\n",
      "  'magnitude': '99km S of Wonosari, Indonesia',\n",
      "  'link': '5.1',\n",
      "  'date': 'https://earthquake.usgs.gov/earthquakes/eventpage/us60008e67'},\n",
      " {'place': '64',\n",
      "  'magnitude': '88km NNE of San Pedro de Atacama, Chile',\n",
      "  'link': '5.1',\n",
      "  'date': 'https://earthquake.usgs.gov/earthquakes/eventpage/us60008d4v'},\n",
      " {'place': '65',\n",
      "  'magnitude': 'West Chile Rise',\n",
      "  'link': '5.1',\n",
      "  'date': 'https://earthquake.usgs.gov/earthquakes/eventpage/us60008bmi'},\n",
      " {'place': '66',\n",
      "  'magnitude': '67km S of Bristol Island, South Sandwich Islands',\n",
      "  'link': '5.1',\n",
      "  'date': 'https://earthquake.usgs.gov/earthquakes/eventpage/us600089h2'},\n",
      " {'place': '67',\n",
      "  'magnitude': '50km W of Amatignak Island, Alaska',\n",
      "  'link': '5.1',\n",
      "  'date': 'https://earthquake.usgs.gov/earthquakes/eventpage/us600088i8'},\n",
      " {'place': '68',\n",
      "  'magnitude': '64km S of Bristol Island, South Sandwich Islands',\n",
      "  'link': '5.1',\n",
      "  'date': 'https://earthquake.usgs.gov/earthquakes/eventpage/us6000885x'},\n",
      " {'place': '69',\n",
      "  'magnitude': '135km ESE of Tadine, New Caledonia',\n",
      "  'link': '5.1',\n",
      "  'date': 'https://earthquake.usgs.gov/earthquakes/eventpage/us600086su'},\n",
      " {'place': '70',\n",
      "  'magnitude': '201km NW of Visokoi Island, South Georgia and the South '\n",
      "               'Sandwich Islands',\n",
      "  'link': '5.1',\n",
      "  'date': 'https://earthquake.usgs.gov/earthquakes/eventpage/us600086as'},\n",
      " {'place': '71',\n",
      "  'magnitude': '43km WSW of Pagaralam, Indonesia',\n",
      "  'link': '5.1',\n",
      "  'date': 'https://earthquake.usgs.gov/earthquakes/eventpage/us6000863e'},\n",
      " {'place': '72',\n",
      "  'magnitude': 'Southern Mid-Atlantic Ridge',\n",
      "  'link': '5.1',\n",
      "  'date': 'https://earthquake.usgs.gov/earthquakes/eventpage/us60008535'},\n",
      " {'place': '73',\n",
      "  'magnitude': '50km NNW of Hualian, Taiwan',\n",
      "  'link': '5.1',\n",
      "  'date': 'https://earthquake.usgs.gov/earthquakes/eventpage/us70007we1'},\n",
      " {'place': '74',\n",
      "  'magnitude': '141km SE of Modayag, Indonesia',\n",
      "  'link': '5.1',\n",
      "  'date': 'https://earthquake.usgs.gov/earthquakes/eventpage/us70007v12'},\n",
      " {'place': '75',\n",
      "  'magnitude': '114km SSE of Pondaguitan, Philippines',\n",
      "  'link': '5.1',\n",
      "  'date': 'https://earthquake.usgs.gov/earthquakes/eventpage/us70007usm'},\n",
      " {'place': '76',\n",
      "  'magnitude': '286km NNE of Luring, China',\n",
      "  'link': '5.1',\n",
      "  'date': 'https://earthquake.usgs.gov/earthquakes/eventpage/us70007tnv'},\n",
      " {'place': '77',\n",
      "  'magnitude': 'South of the Kermadec Islands',\n",
      "  'link': '5.1',\n",
      "  'date': 'https://earthquake.usgs.gov/earthquakes/eventpage/us70007tf0'},\n",
      " {'place': '78',\n",
      "  'magnitude': '118km SE of Visokoi Island, South Georgia and the South '\n",
      "               'Sandwich Islands',\n",
      "  'link': '5.1',\n",
      "  'date': 'https://earthquake.usgs.gov/earthquakes/eventpage/us70007tdi'},\n",
      " {'place': '79',\n",
      "  'magnitude': '93km SSW of Merizo Village, Guam',\n",
      "  'link': '5.1',\n",
      "  'date': 'https://earthquake.usgs.gov/earthquakes/eventpage/us70007t2i'}]\n"
     ]
    }
   ],
   "source": [
    "pprint.pp(result)"
   ]
  },
  {
   "cell_type": "code",
   "execution_count": 106,
   "id": "2e7d92cf-69a8-4134-8f0c-f8556670dd5d",
   "metadata": {},
   "outputs": [],
   "source": [
    "# Read the contents of the CSV file into a object structure\n",
    "result_2 = []"
   ]
  },
  {
   "cell_type": "code",
   "execution_count": 107,
   "id": "4e6d7f76-098d-4cdc-87e8-5e8fdf073a63",
   "metadata": {},
   "outputs": [],
   "source": [
    "# Open the CSV file for reading\n",
    "with open(\"cleaned_largequakes.csv\", \"r\") as csvfile:\n",
    "    reader = csv.reader(csvfile)\n",
    "    sniffer = csv.Sniffer()\n",
    "    sample = csvfile.read(1024)\n",
    "    csvfile.seek(0)\n",
    "    if (sniffer.has_header(sample)):\n",
    "        next(reader)\n",
    "    for row in reader:\n",
    "        result_2.append({\n",
    "            \"place\": row[0],\n",
    "            \"magnitude\": row[1],\n",
    "            \"link\": row[2],\n",
    "            \"date\": row[3]\n",
    "        })\n"
   ]
  },
  {
   "cell_type": "code",
   "execution_count": 108,
   "id": "466f564c-d92e-4930-93d8-2540627c73c6",
   "metadata": {},
   "outputs": [
    {
     "name": "stdout",
     "output_type": "stream",
     "text": [
      "[{'place': '0',\n",
      "  'magnitude': '298km NE of Raoul Island, New Zealand',\n",
      "  'link': '6.3',\n",
      "  'date': 'https://earthquake.usgs.gov/earthquakes/eventpage/us60008fl8'},\n",
      " {'place': '1',\n",
      "  'magnitude': '246km S of Kangin, Indonesia',\n",
      "  'link': '6.2',\n",
      "  'date': 'https://earthquake.usgs.gov/earthquakes/eventpage/us60008hzl'},\n",
      " {'place': '2',\n",
      "  'magnitude': '97km NNW of Sola, Vanuatu',\n",
      "  'link': '6.1',\n",
      "  'date': 'https://earthquake.usgs.gov/earthquakes/eventpage/us60008hkg'},\n",
      " {'place': '3',\n",
      "  'magnitude': '172km E of Hihifo, Tonga',\n",
      "  'link': '6.0',\n",
      "  'date': 'https://earthquake.usgs.gov/earthquakes/eventpage/us60008h76'},\n",
      " {'place': '4',\n",
      "  'magnitude': '24km SE of Saray, Turkey',\n",
      "  'link': '6.0',\n",
      "  'date': 'https://earthquake.usgs.gov/earthquakes/eventpage/us70007v9g'},\n",
      " {'place': '5',\n",
      "  'magnitude': 'Southwest Indian Ridge',\n",
      "  'link': '5.9',\n",
      "  'date': 'https://earthquake.usgs.gov/earthquakes/eventpage/us60008ay3'},\n",
      " {'place': '6',\n",
      "  'magnitude': '48km NNW of Saumlaki, Indonesia',\n",
      "  'link': '5.9',\n",
      "  'date': 'https://earthquake.usgs.gov/earthquakes/eventpage/us600084gu'},\n",
      " {'place': '7',\n",
      "  'magnitude': '26km ESE of Saray, Turkey',\n",
      "  'link': '5.8',\n",
      "  'date': 'https://earthquake.usgs.gov/earthquakes/eventpage/us70007v29'},\n",
      " {'place': '8',\n",
      "  'magnitude': '153km ENE of Petropavlovsk-Kamchatskiy, Russia',\n",
      "  'link': '5.8',\n",
      "  'date': 'https://earthquake.usgs.gov/earthquakes/eventpage/us70007trb'},\n",
      " {'place': '9',\n",
      "  'magnitude': '69km W of Petrolia, CA',\n",
      "  'link': '5.77',\n",
      "  'date': 'https://earthquake.usgs.gov/earthquakes/eventpage/nc73351710'},\n",
      " {'place': '10',\n",
      "  'magnitude': '6km NNE of Magna, Utah',\n",
      "  'link': '5.7',\n",
      "  'date': 'https://earthquake.usgs.gov/earthquakes/eventpage/uu60363602'},\n",
      " {'place': '11',\n",
      "  'magnitude': '53km WSW of Amatignak Island, Alaska',\n",
      "  'link': '5.7',\n",
      "  'date': 'https://earthquake.usgs.gov/earthquakes/eventpage/us600087lz'},\n",
      " {'place': '12',\n",
      "  'magnitude': '117km ESE of Neiafu, Tonga',\n",
      "  'link': '5.7',\n",
      "  'date': 'https://earthquake.usgs.gov/earthquakes/eventpage/us600085x5'},\n",
      " {'place': '13',\n",
      "  'magnitude': '53km NNW of Tome, Chile',\n",
      "  'link': '5.6',\n",
      "  'date': 'https://earthquake.usgs.gov/earthquakes/eventpage/us60008gzt'},\n",
      " {'place': '14',\n",
      "  'magnitude': '168km ESE of Raoul Island, New Zealand',\n",
      "  'link': '5.6',\n",
      "  'date': 'https://earthquake.usgs.gov/earthquakes/eventpage/us60008a7b'},\n",
      " {'place': '15',\n",
      "  'magnitude': '158km WSW of Lata, Solomon Islands',\n",
      "  'link': '5.5',\n",
      "  'date': 'https://earthquake.usgs.gov/earthquakes/eventpage/us60008hml'},\n",
      " {'place': '16',\n",
      "  'magnitude': '127km SW of Kuripan, Indonesia',\n",
      "  'link': '5.5',\n",
      "  'date': 'https://earthquake.usgs.gov/earthquakes/eventpage/us60008d51'},\n",
      " {'place': '17',\n",
      "  'magnitude': '209km NNW of Puerto Ayora, Ecuador',\n",
      "  'link': '5.5',\n",
      "  'date': 'https://earthquake.usgs.gov/earthquakes/eventpage/us60008d3z'},\n",
      " {'place': '18',\n",
      "  'magnitude': '53km WSW of Port-Vila, Vanuatu',\n",
      "  'link': '5.5',\n",
      "  'date': 'https://earthquake.usgs.gov/earthquakes/eventpage/us60008bj6'},\n",
      " {'place': '19',\n",
      "  'magnitude': '39km S of Tinogasta, Argentina',\n",
      "  'link': '5.5',\n",
      "  'date': 'https://earthquake.usgs.gov/earthquakes/eventpage/us600089zt'},\n",
      " {'place': '20',\n",
      "  'magnitude': '179km S of Sarangani, Philippines',\n",
      "  'link': '5.5',\n",
      "  'date': 'https://earthquake.usgs.gov/earthquakes/eventpage/us600085g3'},\n",
      " {'place': '21',\n",
      "  'magnitude': 'West Chile Rise',\n",
      "  'link': '5.5',\n",
      "  'date': 'https://earthquake.usgs.gov/earthquakes/eventpage/us70007uy4'},\n",
      " {'place': '22',\n",
      "  'magnitude': '62km SSE of `Ohonua, Tonga',\n",
      "  'link': '5.5',\n",
      "  'date': 'https://earthquake.usgs.gov/earthquakes/eventpage/us70007uvu'},\n",
      " {'place': '23',\n",
      "  'magnitude': '71km SE of Estacion Coahuila, B.C., MX',\n",
      "  'link': '5.49',\n",
      "  'date': 'https://earthquake.usgs.gov/earthquakes/eventpage/ci38385946'},\n",
      " {'place': '24',\n",
      "  'magnitude': '142km N of Tobelo, Indonesia',\n",
      "  'link': '5.4',\n",
      "  'date': 'https://earthquake.usgs.gov/earthquakes/eventpage/us60008hkf'},\n",
      " {'place': '25',\n",
      "  'magnitude': 'Southern Mid-Atlantic Ridge',\n",
      "  'link': '5.4',\n",
      "  'date': 'https://earthquake.usgs.gov/earthquakes/eventpage/us60008a9i'},\n",
      " {'place': '26',\n",
      "  'magnitude': 'Southern East Pacific Rise',\n",
      "  'link': '5.4',\n",
      "  'date': 'https://earthquake.usgs.gov/earthquakes/eventpage/us600085my'},\n",
      " {'place': '27',\n",
      "  'magnitude': '229km NW of Saumlaki, Indonesia',\n",
      "  'link': '5.4',\n",
      "  'date': 'https://earthquake.usgs.gov/earthquakes/eventpage/us70007tt3'},\n",
      " {'place': '28',\n",
      "  'magnitude': '13km SE of Kalbay, Philippines',\n",
      "  'link': '5.4',\n",
      "  'date': 'https://earthquake.usgs.gov/earthquakes/eventpage/us70007th0'},\n",
      " {'place': '29',\n",
      "  'magnitude': \"95km WNW of Bandar 'Abbas, Iran\",\n",
      "  'link': '5.3',\n",
      "  'date': 'https://earthquake.usgs.gov/earthquakes/eventpage/us60008g7m'},\n",
      " {'place': '30',\n",
      "  'magnitude': '26km NNW of Nanao, Japan',\n",
      "  'link': '5.3',\n",
      "  'date': 'https://earthquake.usgs.gov/earthquakes/eventpage/us60008egj'},\n",
      " {'place': '31',\n",
      "  'magnitude': '111km SE of Neiafu, Tonga',\n",
      "  'link': '5.3',\n",
      "  'date': 'https://earthquake.usgs.gov/earthquakes/eventpage/us60008e9x'},\n",
      " {'place': '32',\n",
      "  'magnitude': '112km SE of Neiafu, Tonga',\n",
      "  'link': '5.3',\n",
      "  'date': 'https://earthquake.usgs.gov/earthquakes/eventpage/us60008dwq'},\n",
      " {'place': '33',\n",
      "  'magnitude': '70km S of Panguna, Papua New Guinea',\n",
      "  'link': '5.3',\n",
      "  'date': 'https://earthquake.usgs.gov/earthquakes/eventpage/us60008dpf'},\n",
      " {'place': '34',\n",
      "  'magnitude': \"134km SE of L'Esperance Rock, New Zealand\",\n",
      "  'link': '5.3',\n",
      "  'date': 'https://earthquake.usgs.gov/earthquakes/eventpage/us60008dgf'},\n",
      " {'place': '35',\n",
      "  'magnitude': '145km ENE of Luring, China',\n",
      "  'link': '5.3',\n",
      "  'date': 'https://earthquake.usgs.gov/earthquakes/eventpage/us60008clh'},\n",
      " {'place': '36',\n",
      "  'magnitude': '5km NNE of Culasian, Philippines',\n",
      "  'link': '5.3',\n",
      "  'date': 'https://earthquake.usgs.gov/earthquakes/eventpage/us600087il'},\n",
      " {'place': '37',\n",
      "  'magnitude': '158km N of Tobelo, Indonesia',\n",
      "  'link': '5.3',\n",
      "  'date': 'https://earthquake.usgs.gov/earthquakes/eventpage/us600086um'},\n",
      " {'place': '38',\n",
      "  'magnitude': '103km SE of Neiafu, Tonga',\n",
      "  'link': '5.3',\n",
      "  'date': 'https://earthquake.usgs.gov/earthquakes/eventpage/us600086p0'},\n",
      " {'place': '39',\n",
      "  'magnitude': 'Southern Mid-Atlantic Ridge',\n",
      "  'link': '5.3',\n",
      "  'date': 'https://earthquake.usgs.gov/earthquakes/eventpage/us6000859r'},\n",
      " {'place': '40',\n",
      "  'magnitude': '135km SE of Modayag, Indonesia',\n",
      "  'link': '5.3',\n",
      "  'date': 'https://earthquake.usgs.gov/earthquakes/eventpage/us70007v0d'},\n",
      " {'place': '41',\n",
      "  'magnitude': '15km W of Petrolia, CA',\n",
      "  'link': '5.21',\n",
      "  'date': 'https://earthquake.usgs.gov/earthquakes/eventpage/nc73355700'},\n",
      " {'place': '42',\n",
      "  'magnitude': '86km ENE of Iquique, Chile',\n",
      "  'link': '5.2',\n",
      "  'date': 'https://earthquake.usgs.gov/earthquakes/eventpage/us60008eru'},\n",
      " {'place': '43',\n",
      "  'magnitude': '107km WSW of San Nicolas, Philippines',\n",
      "  'link': '5.2',\n",
      "  'date': 'https://earthquake.usgs.gov/earthquakes/eventpage/us60008epc'},\n",
      " {'place': '44',\n",
      "  'magnitude': '156km NNE of Rumung, Micronesia',\n",
      "  'link': '5.2',\n",
      "  'date': 'https://earthquake.usgs.gov/earthquakes/eventpage/us60008cdq'},\n",
      " {'place': '45',\n",
      "  'magnitude': '30km SSE of Canico, Portugal',\n",
      "  'link': '5.2',\n",
      "  'date': 'https://earthquake.usgs.gov/earthquakes/eventpage/us60008brw'},\n",
      " {'place': '46',\n",
      "  'magnitude': '294km WNW of Saumlaki, Indonesia',\n",
      "  'link': '5.2',\n",
      "  'date': 'https://earthquake.usgs.gov/earthquakes/eventpage/us60008blz'},\n",
      " {'place': '47',\n",
      "  'magnitude': '23km ESE of Buenos Aires, Costa Rica',\n",
      "  'link': '5.2',\n",
      "  'date': 'https://earthquake.usgs.gov/earthquakes/eventpage/us60008bgr'},\n",
      " {'place': '48',\n",
      "  'magnitude': '161km ENE of Angoram, Papua New Guinea',\n",
      "  'link': '5.2',\n",
      "  'date': 'https://earthquake.usgs.gov/earthquakes/eventpage/us60008a39'},\n",
      " {'place': '49',\n",
      "  'magnitude': '109km WNW of Kirakira, Solomon Islands',\n",
      "  'link': '5.2',\n",
      "  'date': 'https://earthquake.usgs.gov/earthquakes/eventpage/us6000848g'},\n",
      " {'place': '50',\n",
      "  'magnitude': '79km W of Santiago de Cao, Peru',\n",
      "  'link': '5.2',\n",
      "  'date': 'https://earthquake.usgs.gov/earthquakes/eventpage/us70007w9l'},\n",
      " {'place': '51',\n",
      "  'magnitude': '240km SE of Lambasa, Fiji',\n",
      "  'link': '5.2',\n",
      "  'date': 'https://earthquake.usgs.gov/earthquakes/eventpage/us70007w8g'},\n",
      " {'place': '52',\n",
      "  'magnitude': '83km ESE of Muara Siberut, Indonesia',\n",
      "  'link': '5.2',\n",
      "  'date': 'https://earthquake.usgs.gov/earthquakes/eventpage/us70007w28'},\n",
      " {'place': '53',\n",
      "  'magnitude': \"67km NE of Kuril'sk, Russia\",\n",
      "  'link': '5.2',\n",
      "  'date': 'https://earthquake.usgs.gov/earthquakes/eventpage/us70007v6u'},\n",
      " {'place': '54',\n",
      "  'magnitude': '40km SSE of `Ohonua, Tonga',\n",
      "  'link': '5.2',\n",
      "  'date': 'https://earthquake.usgs.gov/earthquakes/eventpage/us70007uuu'},\n",
      " {'place': '55',\n",
      "  'magnitude': '110km SSE of Pondaguitan, Philippines',\n",
      "  'link': '5.2',\n",
      "  'date': 'https://earthquake.usgs.gov/earthquakes/eventpage/us70007usp'},\n",
      " {'place': '56',\n",
      "  'magnitude': '144km E of Chichi-shima, Japan',\n",
      "  'link': '5.2',\n",
      "  'date': 'https://earthquake.usgs.gov/earthquakes/eventpage/us70007upz'},\n",
      " {'place': '57',\n",
      "  'magnitude': '36km SSW of Amatignak Island, Alaska',\n",
      "  'link': '5.2',\n",
      "  'date': 'https://earthquake.usgs.gov/earthquakes/eventpage/us70007u2w'},\n",
      " {'place': '58',\n",
      "  'magnitude': 'North of Svalbard',\n",
      "  'link': '5.2',\n",
      "  'date': 'https://earthquake.usgs.gov/earthquakes/eventpage/us70007s90'},\n",
      " {'place': '59',\n",
      "  'magnitude': '195km SSE of Lata, Solomon Islands',\n",
      "  'link': '5.1',\n",
      "  'date': 'https://earthquake.usgs.gov/earthquakes/eventpage/us60008g8y'},\n",
      " {'place': '60',\n",
      "  'magnitude': '116km SW of Panenggoede, Indonesia',\n",
      "  'link': '5.1',\n",
      "  'date': 'https://earthquake.usgs.gov/earthquakes/eventpage/us60008g6f'},\n",
      " {'place': '61',\n",
      "  'magnitude': '25km SW of Villa Comaltitlan, Mexico',\n",
      "  'link': '5.1',\n",
      "  'date': 'https://earthquake.usgs.gov/earthquakes/eventpage/us60008fuy'},\n",
      " {'place': '62',\n",
      "  'magnitude': '4km SE of Puerto Armuelles, Panama',\n",
      "  'link': '5.1',\n",
      "  'date': 'https://earthquake.usgs.gov/earthquakes/eventpage/us60008euj'},\n",
      " {'place': '63',\n",
      "  'magnitude': '99km S of Wonosari, Indonesia',\n",
      "  'link': '5.1',\n",
      "  'date': 'https://earthquake.usgs.gov/earthquakes/eventpage/us60008e67'},\n",
      " {'place': '64',\n",
      "  'magnitude': '88km NNE of San Pedro de Atacama, Chile',\n",
      "  'link': '5.1',\n",
      "  'date': 'https://earthquake.usgs.gov/earthquakes/eventpage/us60008d4v'},\n",
      " {'place': '65',\n",
      "  'magnitude': 'West Chile Rise',\n",
      "  'link': '5.1',\n",
      "  'date': 'https://earthquake.usgs.gov/earthquakes/eventpage/us60008bmi'},\n",
      " {'place': '66',\n",
      "  'magnitude': '67km S of Bristol Island, South Sandwich Islands',\n",
      "  'link': '5.1',\n",
      "  'date': 'https://earthquake.usgs.gov/earthquakes/eventpage/us600089h2'},\n",
      " {'place': '67',\n",
      "  'magnitude': '50km W of Amatignak Island, Alaska',\n",
      "  'link': '5.1',\n",
      "  'date': 'https://earthquake.usgs.gov/earthquakes/eventpage/us600088i8'},\n",
      " {'place': '68',\n",
      "  'magnitude': '64km S of Bristol Island, South Sandwich Islands',\n",
      "  'link': '5.1',\n",
      "  'date': 'https://earthquake.usgs.gov/earthquakes/eventpage/us6000885x'},\n",
      " {'place': '69',\n",
      "  'magnitude': '135km ESE of Tadine, New Caledonia',\n",
      "  'link': '5.1',\n",
      "  'date': 'https://earthquake.usgs.gov/earthquakes/eventpage/us600086su'},\n",
      " {'place': '70',\n",
      "  'magnitude': '201km NW of Visokoi Island, South Georgia and the South '\n",
      "               'Sandwich Islands',\n",
      "  'link': '5.1',\n",
      "  'date': 'https://earthquake.usgs.gov/earthquakes/eventpage/us600086as'},\n",
      " {'place': '71',\n",
      "  'magnitude': '43km WSW of Pagaralam, Indonesia',\n",
      "  'link': '5.1',\n",
      "  'date': 'https://earthquake.usgs.gov/earthquakes/eventpage/us6000863e'},\n",
      " {'place': '72',\n",
      "  'magnitude': 'Southern Mid-Atlantic Ridge',\n",
      "  'link': '5.1',\n",
      "  'date': 'https://earthquake.usgs.gov/earthquakes/eventpage/us60008535'},\n",
      " {'place': '73',\n",
      "  'magnitude': '50km NNW of Hualian, Taiwan',\n",
      "  'link': '5.1',\n",
      "  'date': 'https://earthquake.usgs.gov/earthquakes/eventpage/us70007we1'},\n",
      " {'place': '74',\n",
      "  'magnitude': '141km SE of Modayag, Indonesia',\n",
      "  'link': '5.1',\n",
      "  'date': 'https://earthquake.usgs.gov/earthquakes/eventpage/us70007v12'},\n",
      " {'place': '75',\n",
      "  'magnitude': '114km SSE of Pondaguitan, Philippines',\n",
      "  'link': '5.1',\n",
      "  'date': 'https://earthquake.usgs.gov/earthquakes/eventpage/us70007usm'},\n",
      " {'place': '76',\n",
      "  'magnitude': '286km NNE of Luring, China',\n",
      "  'link': '5.1',\n",
      "  'date': 'https://earthquake.usgs.gov/earthquakes/eventpage/us70007tnv'},\n",
      " {'place': '77',\n",
      "  'magnitude': 'South of the Kermadec Islands',\n",
      "  'link': '5.1',\n",
      "  'date': 'https://earthquake.usgs.gov/earthquakes/eventpage/us70007tf0'},\n",
      " {'place': '78',\n",
      "  'magnitude': '118km SE of Visokoi Island, South Georgia and the South '\n",
      "               'Sandwich Islands',\n",
      "  'link': '5.1',\n",
      "  'date': 'https://earthquake.usgs.gov/earthquakes/eventpage/us70007tdi'},\n",
      " {'place': '79',\n",
      "  'magnitude': '93km SSW of Merizo Village, Guam',\n",
      "  'link': '5.1',\n",
      "  'date': 'https://earthquake.usgs.gov/earthquakes/eventpage/us70007t2i'}]\n"
     ]
    }
   ],
   "source": [
    "pprint.pp(result_2)"
   ]
  },
  {
   "cell_type": "markdown",
   "id": "39c69916-0c05-46c9-902a-71fce7c3a4d1",
   "metadata": {},
   "source": [
    "### D. Challenge 3: Create a CSV File"
   ]
  },
  {
   "cell_type": "code",
   "execution_count": 109,
   "id": "d273dd8d-6148-41e0-b6fe-3f32729eb879",
   "metadata": {},
   "outputs": [],
   "source": [
    "# Create a CSV file with following information:\n",
    "# 40 most significant seismic events, ordered by most recent \n",
    "# Header row: Magnitude, Place, Felt Reports, Date and Google-Maps Link\n",
    "# Date should be in the format of YYYY-MM-DD"
   ]
  },
  {
   "cell_type": "code",
   "execution_count": 110,
   "id": "b9e189fe-922c-4542-a137-5a7a621e5938",
   "metadata": {},
   "outputs": [],
   "source": [
    "def getsig(x):\n",
    "    sig = x[\"properties\"][\"sig\"]\n",
    "    return 0 if sig is None else sig"
   ]
  },
  {
   "cell_type": "code",
   "execution_count": 111,
   "id": "4be07b48-f267-4a11-a797-bcbc4ba6390d",
   "metadata": {},
   "outputs": [],
   "source": [
    "significantevents = sorted(data_1[\"features\"], key = getsig, reverse = True)\n",
    "significantevents = significantevents[:40]\n",
    "significantevents.sort(key=lambda e : e[\"properties\"][\"time\"], reverse = True)"
   ]
  },
  {
   "cell_type": "code",
   "execution_count": 112,
   "id": "a75a99c6-f8d6-4b7c-9cb3-68d280bcded7",
   "metadata": {},
   "outputs": [],
   "source": [
    "header = [\"Magnitude\", \"Place\", \"Felt Reports\", \"Date\", \"Link\"]\n",
    "rows = []"
   ]
  },
  {
   "cell_type": "code",
   "execution_count": 113,
   "id": "f1fae725-3008-4aa3-920c-f5eac767e2e5",
   "metadata": {},
   "outputs": [],
   "source": [
    "for event in significantevents:\n",
    "    thedate = datetime.date.fromtimestamp(\n",
    "        int(event[\"properties\"][\"time\"])/1000)\n",
    "    lat = event[\"geometry\"][\"coordinates\"][1]\n",
    "    long = event[\"geometry\"][\"coordinates\"][0]\n",
    "    gmaplink = f\"https://maps.google.com/maps/search/?api=1&query={lat}%2C{long}\"\n",
    "\n",
    "    rows.append([event[\"properties\"][\"mag\"], event[\"properties\"][\"place\"], \n",
    "                0 if event[\"properties\"][\"felt\"] is None else event[\"properties\"][\"felt\"],\n",
    "                thedate, \n",
    "                gmaplink])\n"
   ]
  },
  {
   "cell_type": "code",
   "execution_count": 114,
   "id": "b0863276-5f2c-472d-ae28-5a34f2a77b5a",
   "metadata": {},
   "outputs": [],
   "source": [
    "with open(\"significantevents.csv\", \"w\") as csvfile:\n",
    "    writer = csv.writer(csvfile, delimiter = ',')\n",
    "    writer.writerow(header)\n",
    "    writer.writerows(rows)"
   ]
  },
  {
   "cell_type": "code",
   "execution_count": 115,
   "id": "108168c9-1313-4ace-834b-ced5431668bb",
   "metadata": {},
   "outputs": [],
   "source": [
    "res = pd.read_csv('significantevents.csv')"
   ]
  },
  {
   "cell_type": "code",
   "execution_count": 116,
   "id": "a9b0e8b4-cfb6-44f9-a8f2-496461f0cdc8",
   "metadata": {},
   "outputs": [
    {
     "data": {
      "text/html": [
       "<div>\n",
       "<style scoped>\n",
       "    .dataframe tbody tr th:only-of-type {\n",
       "        vertical-align: middle;\n",
       "    }\n",
       "\n",
       "    .dataframe tbody tr th {\n",
       "        vertical-align: top;\n",
       "    }\n",
       "\n",
       "    .dataframe thead th {\n",
       "        text-align: right;\n",
       "    }\n",
       "</style>\n",
       "<table border=\"1\" class=\"dataframe\">\n",
       "  <thead>\n",
       "    <tr style=\"text-align: right;\">\n",
       "      <th></th>\n",
       "      <th>Magnitude</th>\n",
       "      <th>Place</th>\n",
       "      <th>Felt Reports</th>\n",
       "      <th>Date</th>\n",
       "      <th>Link</th>\n",
       "    </tr>\n",
       "  </thead>\n",
       "  <tbody>\n",
       "    <tr>\n",
       "      <th>0</th>\n",
       "      <td>5.21</td>\n",
       "      <td>15km W of Petrolia, CA</td>\n",
       "      <td>1761</td>\n",
       "      <td>2020-03-19</td>\n",
       "      <td>https://maps.google.com/maps/search/?api=1&amp;que...</td>\n",
       "    </tr>\n",
       "    <tr>\n",
       "      <th>1</th>\n",
       "      <td>4.58</td>\n",
       "      <td>5km NE of Magna, Utah</td>\n",
       "      <td>3517</td>\n",
       "      <td>2020-03-19</td>\n",
       "      <td>https://maps.google.com/maps/search/?api=1&amp;que...</td>\n",
       "    </tr>\n",
       "    <tr>\n",
       "      <th>2</th>\n",
       "      <td>6.20</td>\n",
       "      <td>246km S of Kangin, Indonesia</td>\n",
       "      <td>60</td>\n",
       "      <td>2020-03-18</td>\n",
       "      <td>https://maps.google.com/maps/search/?api=1&amp;que...</td>\n",
       "    </tr>\n",
       "    <tr>\n",
       "      <th>3</th>\n",
       "      <td>4.46</td>\n",
       "      <td>7km NNE of Magna, Utah</td>\n",
       "      <td>1241</td>\n",
       "      <td>2020-03-18</td>\n",
       "      <td>https://maps.google.com/maps/search/?api=1&amp;que...</td>\n",
       "    </tr>\n",
       "    <tr>\n",
       "      <th>4</th>\n",
       "      <td>3.89</td>\n",
       "      <td>7km NE of Magna, Utah</td>\n",
       "      <td>513</td>\n",
       "      <td>2020-03-18</td>\n",
       "      <td>https://maps.google.com/maps/search/?api=1&amp;que...</td>\n",
       "    </tr>\n",
       "    <tr>\n",
       "      <th>5</th>\n",
       "      <td>3.66</td>\n",
       "      <td>3km NNE of Magna, Utah</td>\n",
       "      <td>663</td>\n",
       "      <td>2020-03-18</td>\n",
       "      <td>https://maps.google.com/maps/search/?api=1&amp;que...</td>\n",
       "    </tr>\n",
       "    <tr>\n",
       "      <th>6</th>\n",
       "      <td>5.70</td>\n",
       "      <td>6km NNE of Magna, Utah</td>\n",
       "      <td>33091</td>\n",
       "      <td>2020-03-18</td>\n",
       "      <td>https://maps.google.com/maps/search/?api=1&amp;que...</td>\n",
       "    </tr>\n",
       "    <tr>\n",
       "      <th>7</th>\n",
       "      <td>5.50</td>\n",
       "      <td>158km WSW of Lata, Solomon Islands</td>\n",
       "      <td>0</td>\n",
       "      <td>2020-03-18</td>\n",
       "      <td>https://maps.google.com/maps/search/?api=1&amp;que...</td>\n",
       "    </tr>\n",
       "    <tr>\n",
       "      <th>8</th>\n",
       "      <td>6.10</td>\n",
       "      <td>97km NNW of Sola, Vanuatu</td>\n",
       "      <td>0</td>\n",
       "      <td>2020-03-18</td>\n",
       "      <td>https://maps.google.com/maps/search/?api=1&amp;que...</td>\n",
       "    </tr>\n",
       "    <tr>\n",
       "      <th>9</th>\n",
       "      <td>5.40</td>\n",
       "      <td>142km N of Tobelo, Indonesia</td>\n",
       "      <td>0</td>\n",
       "      <td>2020-03-18</td>\n",
       "      <td>https://maps.google.com/maps/search/?api=1&amp;que...</td>\n",
       "    </tr>\n",
       "    <tr>\n",
       "      <th>10</th>\n",
       "      <td>6.00</td>\n",
       "      <td>172km E of Hihifo, Tonga</td>\n",
       "      <td>9</td>\n",
       "      <td>2020-03-17</td>\n",
       "      <td>https://maps.google.com/maps/search/?api=1&amp;que...</td>\n",
       "    </tr>\n",
       "    <tr>\n",
       "      <th>11</th>\n",
       "      <td>5.60</td>\n",
       "      <td>53km NNW of Tome, Chile</td>\n",
       "      <td>141</td>\n",
       "      <td>2020-03-17</td>\n",
       "      <td>https://maps.google.com/maps/search/?api=1&amp;que...</td>\n",
       "    </tr>\n",
       "    <tr>\n",
       "      <th>12</th>\n",
       "      <td>6.30</td>\n",
       "      <td>298km NE of Raoul Island, New Zealand</td>\n",
       "      <td>3</td>\n",
       "      <td>2020-03-14</td>\n",
       "      <td>https://maps.google.com/maps/search/?api=1&amp;que...</td>\n",
       "    </tr>\n",
       "    <tr>\n",
       "      <th>13</th>\n",
       "      <td>5.30</td>\n",
       "      <td>26km NNW of Nanao, Japan</td>\n",
       "      <td>30</td>\n",
       "      <td>2020-03-12</td>\n",
       "      <td>https://maps.google.com/maps/search/?api=1&amp;que...</td>\n",
       "    </tr>\n",
       "    <tr>\n",
       "      <th>14</th>\n",
       "      <td>3.10</td>\n",
       "      <td>0km SSW of South Glens Falls, New York</td>\n",
       "      <td>2620</td>\n",
       "      <td>2020-03-11</td>\n",
       "      <td>https://maps.google.com/maps/search/?api=1&amp;que...</td>\n",
       "    </tr>\n",
       "    <tr>\n",
       "      <th>15</th>\n",
       "      <td>3.71</td>\n",
       "      <td>17km NNW of Truckee, CA</td>\n",
       "      <td>969</td>\n",
       "      <td>2020-03-11</td>\n",
       "      <td>https://maps.google.com/maps/search/?api=1&amp;que...</td>\n",
       "    </tr>\n",
       "    <tr>\n",
       "      <th>16</th>\n",
       "      <td>5.50</td>\n",
       "      <td>127km SW of Kuripan, Indonesia</td>\n",
       "      <td>2</td>\n",
       "      <td>2020-03-10</td>\n",
       "      <td>https://maps.google.com/maps/search/?api=1&amp;que...</td>\n",
       "    </tr>\n",
       "    <tr>\n",
       "      <th>17</th>\n",
       "      <td>5.50</td>\n",
       "      <td>209km NNW of Puerto Ayora, Ecuador</td>\n",
       "      <td>0</td>\n",
       "      <td>2020-03-10</td>\n",
       "      <td>https://maps.google.com/maps/search/?api=1&amp;que...</td>\n",
       "    </tr>\n",
       "    <tr>\n",
       "      <th>18</th>\n",
       "      <td>4.94</td>\n",
       "      <td>73km W of Petrolia, CA</td>\n",
       "      <td>407</td>\n",
       "      <td>2020-03-09</td>\n",
       "      <td>https://maps.google.com/maps/search/?api=1&amp;que...</td>\n",
       "    </tr>\n",
       "    <tr>\n",
       "      <th>19</th>\n",
       "      <td>5.77</td>\n",
       "      <td>69km W of Petrolia, CA</td>\n",
       "      <td>2832</td>\n",
       "      <td>2020-03-09</td>\n",
       "      <td>https://maps.google.com/maps/search/?api=1&amp;que...</td>\n",
       "    </tr>\n",
       "    <tr>\n",
       "      <th>20</th>\n",
       "      <td>5.20</td>\n",
       "      <td>30km SSE of Canico, Portugal</td>\n",
       "      <td>161</td>\n",
       "      <td>2020-03-08</td>\n",
       "      <td>https://maps.google.com/maps/search/?api=1&amp;que...</td>\n",
       "    </tr>\n",
       "    <tr>\n",
       "      <th>21</th>\n",
       "      <td>5.50</td>\n",
       "      <td>53km WSW of Port-Vila, Vanuatu</td>\n",
       "      <td>3</td>\n",
       "      <td>2020-03-07</td>\n",
       "      <td>https://maps.google.com/maps/search/?api=1&amp;que...</td>\n",
       "    </tr>\n",
       "    <tr>\n",
       "      <th>22</th>\n",
       "      <td>5.49</td>\n",
       "      <td>71km SE of Estacion Coahuila, B.C., MX</td>\n",
       "      <td>4798</td>\n",
       "      <td>2020-03-07</td>\n",
       "      <td>https://maps.google.com/maps/search/?api=1&amp;que...</td>\n",
       "    </tr>\n",
       "    <tr>\n",
       "      <th>23</th>\n",
       "      <td>5.20</td>\n",
       "      <td>23km ESE of Buenos Aires, Costa Rica</td>\n",
       "      <td>256</td>\n",
       "      <td>2020-03-07</td>\n",
       "      <td>https://maps.google.com/maps/search/?api=1&amp;que...</td>\n",
       "    </tr>\n",
       "    <tr>\n",
       "      <th>24</th>\n",
       "      <td>5.90</td>\n",
       "      <td>Southwest Indian Ridge</td>\n",
       "      <td>0</td>\n",
       "      <td>2020-03-06</td>\n",
       "      <td>https://maps.google.com/maps/search/?api=1&amp;que...</td>\n",
       "    </tr>\n",
       "    <tr>\n",
       "      <th>25</th>\n",
       "      <td>5.40</td>\n",
       "      <td>Southern Mid-Atlantic Ridge</td>\n",
       "      <td>0</td>\n",
       "      <td>2020-03-05</td>\n",
       "      <td>https://maps.google.com/maps/search/?api=1&amp;que...</td>\n",
       "    </tr>\n",
       "    <tr>\n",
       "      <th>26</th>\n",
       "      <td>5.60</td>\n",
       "      <td>168km ESE of Raoul Island, New Zealand</td>\n",
       "      <td>0</td>\n",
       "      <td>2020-03-05</td>\n",
       "      <td>https://maps.google.com/maps/search/?api=1&amp;que...</td>\n",
       "    </tr>\n",
       "    <tr>\n",
       "      <th>27</th>\n",
       "      <td>5.50</td>\n",
       "      <td>39km S of Tinogasta, Argentina</td>\n",
       "      <td>0</td>\n",
       "      <td>2020-03-05</td>\n",
       "      <td>https://maps.google.com/maps/search/?api=1&amp;que...</td>\n",
       "    </tr>\n",
       "    <tr>\n",
       "      <th>28</th>\n",
       "      <td>5.70</td>\n",
       "      <td>53km WSW of Amatignak Island, Alaska</td>\n",
       "      <td>1</td>\n",
       "      <td>2020-03-02</td>\n",
       "      <td>https://maps.google.com/maps/search/?api=1&amp;que...</td>\n",
       "    </tr>\n",
       "    <tr>\n",
       "      <th>29</th>\n",
       "      <td>5.30</td>\n",
       "      <td>5km NNE of Culasian, Philippines</td>\n",
       "      <td>102</td>\n",
       "      <td>2020-03-02</td>\n",
       "      <td>https://maps.google.com/maps/search/?api=1&amp;que...</td>\n",
       "    </tr>\n",
       "    <tr>\n",
       "      <th>30</th>\n",
       "      <td>5.70</td>\n",
       "      <td>117km ESE of Neiafu, Tonga</td>\n",
       "      <td>0</td>\n",
       "      <td>2020-02-28</td>\n",
       "      <td>https://maps.google.com/maps/search/?api=1&amp;que...</td>\n",
       "    </tr>\n",
       "    <tr>\n",
       "      <th>31</th>\n",
       "      <td>5.50</td>\n",
       "      <td>179km S of Sarangani, Philippines</td>\n",
       "      <td>1</td>\n",
       "      <td>2020-02-28</td>\n",
       "      <td>https://maps.google.com/maps/search/?api=1&amp;que...</td>\n",
       "    </tr>\n",
       "    <tr>\n",
       "      <th>32</th>\n",
       "      <td>5.90</td>\n",
       "      <td>48km NNW of Saumlaki, Indonesia</td>\n",
       "      <td>28</td>\n",
       "      <td>2020-02-26</td>\n",
       "      <td>https://maps.google.com/maps/search/?api=1&amp;que...</td>\n",
       "    </tr>\n",
       "    <tr>\n",
       "      <th>33</th>\n",
       "      <td>6.00</td>\n",
       "      <td>24km SE of Saray, Turkey</td>\n",
       "      <td>17</td>\n",
       "      <td>2020-02-23</td>\n",
       "      <td>https://maps.google.com/maps/search/?api=1&amp;que...</td>\n",
       "    </tr>\n",
       "    <tr>\n",
       "      <th>34</th>\n",
       "      <td>5.80</td>\n",
       "      <td>26km ESE of Saray, Turkey</td>\n",
       "      <td>15</td>\n",
       "      <td>2020-02-23</td>\n",
       "      <td>https://maps.google.com/maps/search/?api=1&amp;que...</td>\n",
       "    </tr>\n",
       "    <tr>\n",
       "      <th>35</th>\n",
       "      <td>5.50</td>\n",
       "      <td>West Chile Rise</td>\n",
       "      <td>0</td>\n",
       "      <td>2020-02-23</td>\n",
       "      <td>https://maps.google.com/maps/search/?api=1&amp;que...</td>\n",
       "    </tr>\n",
       "    <tr>\n",
       "      <th>36</th>\n",
       "      <td>5.50</td>\n",
       "      <td>62km SSE of `Ohonua, Tonga</td>\n",
       "      <td>0</td>\n",
       "      <td>2020-02-23</td>\n",
       "      <td>https://maps.google.com/maps/search/?api=1&amp;que...</td>\n",
       "    </tr>\n",
       "    <tr>\n",
       "      <th>37</th>\n",
       "      <td>3.52</td>\n",
       "      <td>2km NNW of Castaic, CA</td>\n",
       "      <td>1610</td>\n",
       "      <td>2020-02-21</td>\n",
       "      <td>https://maps.google.com/maps/search/?api=1&amp;que...</td>\n",
       "    </tr>\n",
       "    <tr>\n",
       "      <th>38</th>\n",
       "      <td>5.40</td>\n",
       "      <td>229km NW of Saumlaki, Indonesia</td>\n",
       "      <td>5</td>\n",
       "      <td>2020-02-21</td>\n",
       "      <td>https://maps.google.com/maps/search/?api=1&amp;que...</td>\n",
       "    </tr>\n",
       "    <tr>\n",
       "      <th>39</th>\n",
       "      <td>5.80</td>\n",
       "      <td>153km ENE of Petropavlovsk-Kamchatskiy, Russia</td>\n",
       "      <td>3</td>\n",
       "      <td>2020-02-21</td>\n",
       "      <td>https://maps.google.com/maps/search/?api=1&amp;que...</td>\n",
       "    </tr>\n",
       "  </tbody>\n",
       "</table>\n",
       "</div>"
      ],
      "text/plain": [
       "    Magnitude                                           Place  Felt Reports  \\\n",
       "0        5.21                          15km W of Petrolia, CA          1761   \n",
       "1        4.58                           5km NE of Magna, Utah          3517   \n",
       "2        6.20                    246km S of Kangin, Indonesia            60   \n",
       "3        4.46                          7km NNE of Magna, Utah          1241   \n",
       "4        3.89                           7km NE of Magna, Utah           513   \n",
       "5        3.66                          3km NNE of Magna, Utah           663   \n",
       "6        5.70                          6km NNE of Magna, Utah         33091   \n",
       "7        5.50              158km WSW of Lata, Solomon Islands             0   \n",
       "8        6.10                       97km NNW of Sola, Vanuatu             0   \n",
       "9        5.40                    142km N of Tobelo, Indonesia             0   \n",
       "10       6.00                        172km E of Hihifo, Tonga             9   \n",
       "11       5.60                         53km NNW of Tome, Chile           141   \n",
       "12       6.30           298km NE of Raoul Island, New Zealand             3   \n",
       "13       5.30                        26km NNW of Nanao, Japan            30   \n",
       "14       3.10          0km SSW of South Glens Falls, New York          2620   \n",
       "15       3.71                         17km NNW of Truckee, CA           969   \n",
       "16       5.50                  127km SW of Kuripan, Indonesia             2   \n",
       "17       5.50              209km NNW of Puerto Ayora, Ecuador             0   \n",
       "18       4.94                          73km W of Petrolia, CA           407   \n",
       "19       5.77                          69km W of Petrolia, CA          2832   \n",
       "20       5.20                    30km SSE of Canico, Portugal           161   \n",
       "21       5.50                  53km WSW of Port-Vila, Vanuatu             3   \n",
       "22       5.49          71km SE of Estacion Coahuila, B.C., MX          4798   \n",
       "23       5.20            23km ESE of Buenos Aires, Costa Rica           256   \n",
       "24       5.90                          Southwest Indian Ridge             0   \n",
       "25       5.40                     Southern Mid-Atlantic Ridge             0   \n",
       "26       5.60          168km ESE of Raoul Island, New Zealand             0   \n",
       "27       5.50                  39km S of Tinogasta, Argentina             0   \n",
       "28       5.70            53km WSW of Amatignak Island, Alaska             1   \n",
       "29       5.30                5km NNE of Culasian, Philippines           102   \n",
       "30       5.70                      117km ESE of Neiafu, Tonga             0   \n",
       "31       5.50               179km S of Sarangani, Philippines             1   \n",
       "32       5.90                 48km NNW of Saumlaki, Indonesia            28   \n",
       "33       6.00                        24km SE of Saray, Turkey            17   \n",
       "34       5.80                       26km ESE of Saray, Turkey            15   \n",
       "35       5.50                                 West Chile Rise             0   \n",
       "36       5.50                      62km SSE of `Ohonua, Tonga             0   \n",
       "37       3.52                          2km NNW of Castaic, CA          1610   \n",
       "38       5.40                 229km NW of Saumlaki, Indonesia             5   \n",
       "39       5.80  153km ENE of Petropavlovsk-Kamchatskiy, Russia             3   \n",
       "\n",
       "          Date                                               Link  \n",
       "0   2020-03-19  https://maps.google.com/maps/search/?api=1&que...  \n",
       "1   2020-03-19  https://maps.google.com/maps/search/?api=1&que...  \n",
       "2   2020-03-18  https://maps.google.com/maps/search/?api=1&que...  \n",
       "3   2020-03-18  https://maps.google.com/maps/search/?api=1&que...  \n",
       "4   2020-03-18  https://maps.google.com/maps/search/?api=1&que...  \n",
       "5   2020-03-18  https://maps.google.com/maps/search/?api=1&que...  \n",
       "6   2020-03-18  https://maps.google.com/maps/search/?api=1&que...  \n",
       "7   2020-03-18  https://maps.google.com/maps/search/?api=1&que...  \n",
       "8   2020-03-18  https://maps.google.com/maps/search/?api=1&que...  \n",
       "9   2020-03-18  https://maps.google.com/maps/search/?api=1&que...  \n",
       "10  2020-03-17  https://maps.google.com/maps/search/?api=1&que...  \n",
       "11  2020-03-17  https://maps.google.com/maps/search/?api=1&que...  \n",
       "12  2020-03-14  https://maps.google.com/maps/search/?api=1&que...  \n",
       "13  2020-03-12  https://maps.google.com/maps/search/?api=1&que...  \n",
       "14  2020-03-11  https://maps.google.com/maps/search/?api=1&que...  \n",
       "15  2020-03-11  https://maps.google.com/maps/search/?api=1&que...  \n",
       "16  2020-03-10  https://maps.google.com/maps/search/?api=1&que...  \n",
       "17  2020-03-10  https://maps.google.com/maps/search/?api=1&que...  \n",
       "18  2020-03-09  https://maps.google.com/maps/search/?api=1&que...  \n",
       "19  2020-03-09  https://maps.google.com/maps/search/?api=1&que...  \n",
       "20  2020-03-08  https://maps.google.com/maps/search/?api=1&que...  \n",
       "21  2020-03-07  https://maps.google.com/maps/search/?api=1&que...  \n",
       "22  2020-03-07  https://maps.google.com/maps/search/?api=1&que...  \n",
       "23  2020-03-07  https://maps.google.com/maps/search/?api=1&que...  \n",
       "24  2020-03-06  https://maps.google.com/maps/search/?api=1&que...  \n",
       "25  2020-03-05  https://maps.google.com/maps/search/?api=1&que...  \n",
       "26  2020-03-05  https://maps.google.com/maps/search/?api=1&que...  \n",
       "27  2020-03-05  https://maps.google.com/maps/search/?api=1&que...  \n",
       "28  2020-03-02  https://maps.google.com/maps/search/?api=1&que...  \n",
       "29  2020-03-02  https://maps.google.com/maps/search/?api=1&que...  \n",
       "30  2020-02-28  https://maps.google.com/maps/search/?api=1&que...  \n",
       "31  2020-02-28  https://maps.google.com/maps/search/?api=1&que...  \n",
       "32  2020-02-26  https://maps.google.com/maps/search/?api=1&que...  \n",
       "33  2020-02-23  https://maps.google.com/maps/search/?api=1&que...  \n",
       "34  2020-02-23  https://maps.google.com/maps/search/?api=1&que...  \n",
       "35  2020-02-23  https://maps.google.com/maps/search/?api=1&que...  \n",
       "36  2020-02-23  https://maps.google.com/maps/search/?api=1&que...  \n",
       "37  2020-02-21  https://maps.google.com/maps/search/?api=1&que...  \n",
       "38  2020-02-21  https://maps.google.com/maps/search/?api=1&que...  \n",
       "39  2020-02-21  https://maps.google.com/maps/search/?api=1&que...  "
      ]
     },
     "execution_count": 116,
     "metadata": {},
     "output_type": "execute_result"
    }
   ],
   "source": [
    "res"
   ]
  },
  {
   "cell_type": "markdown",
   "id": "07d322c6-d310-43d6-a51e-4fc8caef0ff2",
   "metadata": {},
   "source": [
    "## 4. Python Logging"
   ]
  },
  {
   "cell_type": "markdown",
   "id": "11aabf29-6202-4fa3-9277-1e0891aacdb3",
   "metadata": {},
   "source": [
    "### Captures and records events while the app is running\n",
    "### Useful debugging feature\n",
    "#### -> Not always practical to debug in real time\n",
    "### Events can be categorized for easier Analysis\n",
    "### Provides transaction record of a program's execution\n",
    "### Highly Customizable Output"
   ]
  },
  {
   "cell_type": "markdown",
   "id": "c97be248-8d9e-4784-9327-ed47e53d0f7e",
   "metadata": {},
   "source": [
    "### A. Basic Logging"
   ]
  },
  {
   "cell_type": "code",
   "execution_count": 117,
   "id": "d0e65fec-062b-495d-8e2d-edc71ae75430",
   "metadata": {},
   "outputs": [],
   "source": [
    "# Use the built-in Logging module\n",
    "import logging"
   ]
  },
  {
   "cell_type": "code",
   "execution_count": 118,
   "id": "03eebf7e-54cb-4332-bff5-5d18e90f1343",
   "metadata": {},
   "outputs": [
    {
     "name": "stderr",
     "output_type": "stream",
     "text": [
      "WARNING:root:This is a warning message\n",
      "ERROR:root:This is a error message\n",
      "CRITICAL:root:This is a critical message\n"
     ]
    }
   ],
   "source": [
    "# Try out each of the log levels\n",
    "logging.debug(\"This is a debug-level message\")\n",
    "logging.info(\"This is a info message\")\n",
    "logging.warning(\"This is a warning message\")\n",
    "logging.error(\"This is a error message\")\n",
    "logging.critical(\"This is a critical message\")"
   ]
  },
  {
   "cell_type": "code",
   "execution_count": 119,
   "id": "53d128a3-dd5a-4694-8646-06b5040abe32",
   "metadata": {},
   "outputs": [],
   "source": [
    "# Use basicConfig to configure logging\n",
    "logging.basicConfig(level = logging.DEBUG)"
   ]
  },
  {
   "cell_type": "code",
   "execution_count": 120,
   "id": "c387be87-9c83-406c-9e35-759d22071eea",
   "metadata": {},
   "outputs": [
    {
     "name": "stderr",
     "output_type": "stream",
     "text": [
      "WARNING:root:This is a warning message\n",
      "ERROR:root:This is a error message\n",
      "CRITICAL:root:This is a critical message\n"
     ]
    }
   ],
   "source": [
    "# Try out each of the log levels\n",
    "logging.debug(\"This is a debug-level message\")\n",
    "logging.info(\"This is a info message\")\n",
    "logging.warning(\"This is a warning message\")\n",
    "logging.error(\"This is a error message\")\n",
    "logging.critical(\"This is a critical message\")"
   ]
  },
  {
   "cell_type": "code",
   "execution_count": 121,
   "id": "b06d770b-50fe-472c-9552-7e4d3e539bdb",
   "metadata": {},
   "outputs": [],
   "source": [
    "# Use basicConfig to configure logging\n",
    "logging.basicConfig(level = logging.DEBUG , filename = \"output.log\")"
   ]
  },
  {
   "cell_type": "code",
   "execution_count": 122,
   "id": "3165a916-503f-40a7-9d86-d6d89f1cf34f",
   "metadata": {},
   "outputs": [
    {
     "name": "stderr",
     "output_type": "stream",
     "text": [
      "WARNING:root:This is a warning message\n",
      "ERROR:root:This is a error message\n",
      "CRITICAL:root:This is a critical message\n"
     ]
    }
   ],
   "source": [
    "# Try out each of the log levels\n",
    "logging.debug(\"This is a debug-level message\")\n",
    "logging.info(\"This is a info message\")\n",
    "logging.warning(\"This is a warning message\")\n",
    "logging.error(\"This is a error message\")\n",
    "logging.critical(\"This is a critical message\")"
   ]
  },
  {
   "cell_type": "code",
   "execution_count": 123,
   "id": "5d853b95-9365-416a-8ef7-626758f569ea",
   "metadata": {},
   "outputs": [],
   "source": [
    "# Use basicConfig to configure logging\n",
    "logging.basicConfig(level = logging.DEBUG , filename = \"output.log\", filemode = \"w\")"
   ]
  },
  {
   "cell_type": "code",
   "execution_count": 124,
   "id": "d7b74baf-36de-47b1-80b6-d97beb754f94",
   "metadata": {},
   "outputs": [],
   "source": [
    "# Output formatted strings to the log\n",
    "x = \"Python\"\n",
    "y = 10\n",
    "logging.info(f\"Here's a {x} variable and int: {y}\")"
   ]
  },
  {
   "cell_type": "markdown",
   "id": "d7a8171b-3205-48ed-ae27-fe94e3e9b864",
   "metadata": {},
   "source": [
    "### B. Custom Logging"
   ]
  },
  {
   "cell_type": "code",
   "execution_count": 133,
   "id": "18d641d8-8b2e-4aa7-b465-392ef34e4606",
   "metadata": {},
   "outputs": [],
   "source": [
    "# define another function to log from\n",
    "def another_function():\n",
    "    logging.debug(\"This is a debug level log message\", extra = extdata)"
   ]
  },
  {
   "cell_type": "code",
   "execution_count": 134,
   "id": "8b53dcd3-16a5-4210-bca7-75317fca6803",
   "metadata": {},
   "outputs": [],
   "source": [
    "# Use a custom formatting specifications\n",
    "fmtstr = \"User : (user)s % (asctime)s: %(levelname)s: %(funcName)s Line:%(lineno)d %(message)s  \"\n",
    "datestr = \"%m/ %d/%Y %I:%M:%S %p\"\n",
    "extdata = {\"user\":\"advcha@extr.com\"}\n",
    "logging.basicConfig(level = logging.DEBUG , filename = \"output_1.log\", format = fmtstr, datefmt = datestr, filemode = \"w\")"
   ]
  },
  {
   "cell_type": "code",
   "execution_count": 135,
   "id": "31ac0b2e-f1a3-4541-a061-aac85e44d55f",
   "metadata": {},
   "outputs": [
    {
     "name": "stderr",
     "output_type": "stream",
     "text": [
      "WARNING:root:This is a warning-level log\n"
     ]
    }
   ],
   "source": [
    "logging.info(\"This is an info-level log\", extra = extdata)\n",
    "logging.warning(\"This is a warning-level log\", extra = extdata)\n",
    "another_function()"
   ]
  },
  {
   "cell_type": "code",
   "execution_count": null,
   "id": "665342d1-207c-4138-856d-6cbfdd382441",
   "metadata": {},
   "outputs": [],
   "source": []
  }
 ],
 "metadata": {
  "kernelspec": {
   "display_name": "Python 3 (ipykernel)",
   "language": "python",
   "name": "python3"
  },
  "language_info": {
   "codemirror_mode": {
    "name": "ipython",
    "version": 3
   },
   "file_extension": ".py",
   "mimetype": "text/x-python",
   "name": "python",
   "nbconvert_exporter": "python",
   "pygments_lexer": "ipython3",
   "version": "3.12.4"
  }
 },
 "nbformat": 4,
 "nbformat_minor": 5
}
