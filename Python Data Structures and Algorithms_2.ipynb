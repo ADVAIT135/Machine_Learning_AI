{
 "cells": [
  {
   "cell_type": "markdown",
   "id": "6ffeb24a-36d7-43a5-90f9-30becfa05dd8",
   "metadata": {},
   "source": [
    "# LinkedIn Learning \n",
    "# Python Data Structures and Algorithms_2"
   ]
  },
  {
   "cell_type": "markdown",
   "id": "8dfd693d-5590-42a5-ad46-3e07de3744ea",
   "metadata": {},
   "source": [
    "## 3. Depth First Search (DFS) Algorithm"
   ]
  },
  {
   "cell_type": "markdown",
   "id": "a60412ae-dfce-478c-afcf-cdbbaa69b015",
   "metadata": {},
   "source": [
    "### A. DFS Pseudocode\n",
    "\n",
    "#### Stack : [start_pos]\n",
    "#### Predecessors : {start_pos : None}\n",
    "\n",
    "#### Algorithm: -\n",
    "#### 1. Pop the stack\n",
    "#### 2. Is this the goal?\n",
    "#### 3. If so, we are done\n",
    "#### 4. Otherwise, push undiscovered neighbors onto the stack and add them to predecessors/discovered\n",
    "#### 5. Repeat while there are items still on the stack"
   ]
  },
  {
   "cell_type": "markdown",
   "id": "cd68adb0-488b-4ebf-9b7a-27081f1d43d8",
   "metadata": {},
   "source": [
    "### B. Code a Depth-first search in Python "
   ]
  },
  {
   "cell_type": "code",
   "execution_count": 13,
   "id": "ccce7695-5244-4040-b4a7-ced73e39637a",
   "metadata": {},
   "outputs": [],
   "source": [
    "class Stack:\n",
    "    def __init__(self):\n",
    "        self.items = []\n",
    "\n",
    "    def is_empty(self):\n",
    "        #return len(self.items) == 0\n",
    "        return not self.items\n",
    "\n",
    "    def push(self, item):\n",
    "        self.items.append(item)\n",
    "\n",
    "    def pop(self):\n",
    "        return self.items.pop()\n",
    "\n",
    "    def peek(self):\n",
    "        return self.items[-1]\n",
    "\n",
    "    def size(self):\n",
    "        return len(self.items)\n",
    "\n",
    "    def __str__(self):\n",
    "        return str(self.items)"
   ]
  },
  {
   "cell_type": "code",
   "execution_count": 14,
   "id": "f7759120-3d09-425b-b061-2102bcc852f9",
   "metadata": {},
   "outputs": [],
   "source": [
    "offsets = {\n",
    "    \"right\" : (0,1),\n",
    "    \"left\" : (0,-1),\n",
    "    \"up\" : (-1, 0),\n",
    "    \"down\" : (1,0)\n",
    "}\n",
    "\n",
    "\n",
    "def read_maze(file_name):\n",
    "    try:\n",
    "        with open(file_name) as fh:\n",
    "            maze = [[char for char in line.strip(\"\\n\")] for line in fh]\n",
    "            num_cols_top_row = len(maze[0])\n",
    "            for row in maze:\n",
    "                if len(row) != num_cols_top_row:\n",
    "                    print(\"The maze is not rectangular.\")\n",
    "                    raise SystemExit\n",
    "            return maze\n",
    "    except IOError:\n",
    "        print(\"There is a problem with the file you have selected.\")\n",
    "        raise SystemExit\n",
    "\n",
    "def is_legal_pos(maze, pos):\n",
    "    i, j = pos\n",
    "    num_rows = len(maze)\n",
    "    num_cols = len(maze[0])\n",
    "    return 0 <= i < num_rows and 0 <= j < num_cols and maze[i][j] != \"*\"\n",
    "\n",
    "def get_path(predecessors, start, goal):\n",
    "    current = goal\n",
    "    path = []\n",
    "    while current != start:\n",
    "        path.append(current)\n",
    "        current = predecessors[current]\n",
    "    path.append(start)\n",
    "    path.reverse()\n",
    "    return path\n"
   ]
  },
  {
   "cell_type": "code",
   "execution_count": 15,
   "id": "fd781db5-1f04-4f0d-b491-5367a99823cd",
   "metadata": {},
   "outputs": [],
   "source": [
    "def dfs(maze, start, goal):\n",
    "    stack = Stack()\n",
    "    stack.push(start)\n",
    "    predecessors = {start : None}\n",
    "\n",
    "    while not stack.is_empty():\n",
    "        current_cell = stack.pop()\n",
    "        if current_cell == goal:\n",
    "            return get_path(predecessors, start, goal)\n",
    "        for direction in [\"up\", \"right\", \"down\", \"left\"]:\n",
    "            row_offset, col_offset = offsets[direction]\n",
    "            neighbor = (current_cell[0] + row_offset, current_cell[1] + col_offset)\n",
    "            if is_legal_pos(maze, neighbor) and neighbor not in predecessors:\n",
    "                stack.push(neighbor)\n",
    "                predecessors[neighbor] = current_cell\n",
    "    return None"
   ]
  },
  {
   "cell_type": "code",
   "execution_count": 16,
   "id": "829bf4b7-5019-4b40-93a6-6b78783f8423",
   "metadata": {},
   "outputs": [
    {
     "name": "stdout",
     "output_type": "stream",
     "text": [
      "[' ', ' ', ' ']\n",
      "['*', ' ', '*']\n",
      "[' ', ' ', ' ']\n"
     ]
    }
   ],
   "source": [
    "if __name__ == \"__main__\":\n",
    "    # Test 1\n",
    "    maze = [[0] * 3 for row in range(3)]\n",
    "    start_pos = (0,0)\n",
    "    goal_pos = (2,2)\n",
    "    result = dfs(maze, start_pos, goal_pos)\n",
    "    assert result == [(0,0), (1,0), (2,0), (2,1), (2,2)]\n",
    "\n",
    "    # Test 2\n",
    "    maze = read_maze(r\"C:\\Users\\Advait\\Desktop\\LinkedIn Learning HSBC\\Python Data Structures and Algorithms\\Ex_Files_Python_Data_Structures\\Ex_Files_Python_Data_Structures\\Exercise Files\\04_04_begin\\mazes\\mini_maze_dfs.txt\")\n",
    "    for row in maze:\n",
    "        print(row)\n",
    "    start_pos = (0,0)\n",
    "    goal_pos = (2,2)\n",
    "    result = dfs(maze, start_pos, goal_pos)\n",
    "    assert result == [(0,0), (0,1), (1,1), (2,1), (2,2)]\n",
    "\n",
    "    # Test 3\n",
    "    maze = read_maze(r\"C:\\Users\\Advait\\Desktop\\LinkedIn Learning HSBC\\Python Data Structures and Algorithms\\Ex_Files_Python_Data_Structures\\Ex_Files_Python_Data_Structures\\Exercise Files\\04_04_begin\\mazes\\mini_maze_dfs.txt\")\n",
    "    start_pos = (0,0)\n",
    "    goal_pos = (3,3)\n",
    "    result = dfs(maze, start_pos, goal_pos)\n",
    "    assert result is None\n",
    "\n",
    "\n"
   ]
  },
  {
   "cell_type": "markdown",
   "id": "245b1ff6-1700-4ca2-b1e9-efb4b8093d69",
   "metadata": {},
   "source": [
    "## 4. The Queue Data Structure"
   ]
  },
  {
   "cell_type": "markdown",
   "id": "36791f0d-d985-40b7-8f5a-c0f4044e665c",
   "metadata": {},
   "source": [
    "### FIFO --> First In First Out\n",
    "### A. Signature Operations:\n",
    "#### 1. enqueue() : add an item to the end of the queue\n",
    "#### 2. dequeue() : remove and return the item at the front"
   ]
  },
  {
   "cell_type": "markdown",
   "id": "1ce482b4-1981-4438-8604-ec793bf13f42",
   "metadata": {},
   "source": [
    "### B. Build a Class Queue in Python"
   ]
  },
  {
   "cell_type": "code",
   "execution_count": 18,
   "id": "b7c97801-e2d4-49c3-84a8-32afbaa45d84",
   "metadata": {},
   "outputs": [],
   "source": [
    "from collections import deque # Double end queue"
   ]
  },
  {
   "cell_type": "code",
   "execution_count": 25,
   "id": "e8e341aa-e724-4656-a06e-2e1c9fc9e419",
   "metadata": {},
   "outputs": [
    {
     "name": "stdout",
     "output_type": "stream",
     "text": [
      "deque([])\n",
      "True\n",
      "deque(['A', 'D', 'F'])\n",
      "A\n",
      "D\n",
      "deque(['F'])\n",
      "1\n",
      "F\n",
      "deque(['F'])\n"
     ]
    }
   ],
   "source": [
    "class Queue:\n",
    "    def __init__(self):\n",
    "        self.items = deque()\n",
    "\n",
    "    def is_empty(self):\n",
    "        return not self.items\n",
    "        # return len(self.items) == 0\n",
    "\n",
    "    def enqueue(self, item):\n",
    "        self.items.append(item)\n",
    "\n",
    "    def dequeue(self):\n",
    "        return self.items.popleft()\n",
    "\n",
    "    def size(self):\n",
    "        return len(self.items)\n",
    "\n",
    "    def peek(self):\n",
    "        return self.items[0]\n",
    "\n",
    "    def __str__(self):\n",
    "        return str(self.items)\n",
    "\n",
    "if __name__ == \"__main__\":\n",
    "    q = Queue()\n",
    "    print(q)\n",
    "    print(q.is_empty())\n",
    "    q.enqueue(\"A\")\n",
    "    q.enqueue(\"D\")\n",
    "    q.enqueue(\"F\")\n",
    "    print(q)\n",
    "    print(q.dequeue())\n",
    "    print(q.dequeue())\n",
    "    print(q)\n",
    "    print(q.size())\n",
    "    print(q.peek())\n",
    "    print(q)"
   ]
  },
  {
   "cell_type": "markdown",
   "id": "fe6a4ca5-d739-4d4d-8187-35c465f70eb2",
   "metadata": {},
   "source": [
    "### C. Challenge"
   ]
  },
  {
   "cell_type": "code",
   "execution_count": 26,
   "id": "6d711471-b57a-4344-919d-4f3ae9804231",
   "metadata": {},
   "outputs": [],
   "source": [
    "def queue_challenge():\n",
    "    my_queue = Queue()\n",
    "    word_list = [\"wore\", \"a\", \"silly\", \"hat\", \"the\", \"aardvark\"]\n",
    "    for word in word_list:\n",
    "        my_queue.enqueue(word)\n",
    "    for i in range(0,4):\n",
    "        my_queue.dequeue()\n",
    "    my_queue.enqueue(\"wore\")\n",
    "    my_queue.enqueue(\"a\")\n",
    "    my_queue.enqueue(\"silly\")\n",
    "    my_queue.enqueue(\"hat\")\n",
    "    return my_queue.items"
   ]
  },
  {
   "cell_type": "code",
   "execution_count": 27,
   "id": "231ee78d-c139-4651-a34d-529105441dfa",
   "metadata": {},
   "outputs": [
    {
     "data": {
      "text/plain": [
       "deque(['the', 'aardvark', 'wore', 'a', 'silly', 'hat'])"
      ]
     },
     "execution_count": 27,
     "metadata": {},
     "output_type": "execute_result"
    }
   ],
   "source": [
    "queue_challenge()"
   ]
  },
  {
   "cell_type": "markdown",
   "id": "edbfd949-d86a-48c0-9592-1811afdd0feb",
   "metadata": {},
   "source": [
    "## 5. Breadth First Search (BFS) Algorithm"
   ]
  },
  {
   "cell_type": "markdown",
   "id": "73dbb6d0-e927-4bfc-9281-e1709960ace3",
   "metadata": {},
   "source": [
    "### A. BFS Pseudocode\n",
    "#### Queue : [start_pos]\n",
    "#### Predecessors : {start_pos : None}\n",
    "#### Algorithm: -\n",
    "#### 1. Is this the goal?\n",
    "#### 2. If so, we are done\n",
    "#### 3. Otherwise, enqueue undiscovered neighbors onto the Queue and add them to predecessors/discovered\n",
    "#### 4. Repeat until queue is empty"
   ]
  },
  {
   "cell_type": "markdown",
   "id": "5f9ade29-5ea8-47f1-9aa7-720ef864ff75",
   "metadata": {},
   "source": [
    "### B. Code a Breadth-First Search in Python"
   ]
  },
  {
   "cell_type": "code",
   "execution_count": 30,
   "id": "1b8b15f9-88cc-4bbe-89b3-510e2cd82458",
   "metadata": {},
   "outputs": [],
   "source": [
    "offsets = {\n",
    "    \"right\" : (0,1),\n",
    "    \"left\" : (0,-1),\n",
    "    \"up\" : (-1, 0),\n",
    "    \"down\" : (1,0)\n",
    "}\n",
    "\n",
    "\n",
    "def read_maze(file_name):\n",
    "    try:\n",
    "        with open(file_name) as fh:\n",
    "            maze = [[char for char in line.strip(\"\\n\")] for line in fh]\n",
    "            num_cols_top_row = len(maze[0])\n",
    "            for row in maze:\n",
    "                if len(row) != num_cols_top_row:\n",
    "                    print(\"The maze is not rectangular.\")\n",
    "                    raise SystemExit\n",
    "            return maze\n",
    "    except IOError:\n",
    "        print(\"There is a problem with the file you have selected.\")\n",
    "        raise SystemExit\n",
    "\n",
    "def is_legal_pos(maze, pos):\n",
    "    i, j = pos\n",
    "    num_rows = len(maze)\n",
    "    num_cols = len(maze[0])\n",
    "    return 0 <= i < num_rows and 0 <= j < num_cols and maze[i][j] != \"*\"\n",
    "\n",
    "def get_path(predecessors, start, goal):\n",
    "    current = goal\n",
    "    path = []\n",
    "    while current != start:\n",
    "        path.append(current)\n",
    "        current = predecessors[current]\n",
    "    path.append(start)\n",
    "    path.reverse()\n",
    "    return path\n"
   ]
  },
  {
   "cell_type": "code",
   "execution_count": 31,
   "id": "61db793d-676b-4aa3-a5ab-230b79a91e02",
   "metadata": {},
   "outputs": [],
   "source": [
    "class Queue:\n",
    "    def __init__(self):\n",
    "        self.items = deque()\n",
    "\n",
    "    def is_empty(self):\n",
    "        return not self.items\n",
    "        # return len(self.items) == 0\n",
    "\n",
    "    def enqueue(self, item):\n",
    "        self.items.append(item)\n",
    "\n",
    "    def dequeue(self):\n",
    "        return self.items.popleft()\n",
    "\n",
    "    def size(self):\n",
    "        return len(self.items)\n",
    "\n",
    "    def peek(self):\n",
    "        return self.items[0]\n",
    "\n",
    "    def __str__(self):\n",
    "        return str(self.items)"
   ]
  },
  {
   "cell_type": "code",
   "execution_count": 32,
   "id": "b3a9fd55-f16a-4b7a-8f4b-2478ac85d157",
   "metadata": {},
   "outputs": [],
   "source": [
    "def bfs(maze, start, goal):\n",
    "    queue = Queue()\n",
    "    queue.enqueue(start_pos)\n",
    "    predecessors = {start : None}\n",
    "    while not queue.is_empty():\n",
    "        current_cell = queue.dequeue()\n",
    "        if current_cell == goal:\n",
    "            return get_path(predecessors, start, goal)\n",
    "        for direction in [\"up\", \"right\", \"down\", \"left\"]:\n",
    "            row_offset, col_offset = offsets[direction]\n",
    "            neighbor = (current_cell[0] + row_offset, current_cell[1] + col_offset)\n",
    "            if is_legal_pos(maze, neighbor) and neighbor not in predecessors:\n",
    "                queue.enqueue(neighbor)\n",
    "                predecessors[neighbor] = current_cell\n",
    "    return None"
   ]
  },
  {
   "cell_type": "code",
   "execution_count": 35,
   "id": "dc1a816c-0920-4a7c-8fae-57639a64febe",
   "metadata": {},
   "outputs": [
    {
     "name": "stdout",
     "output_type": "stream",
     "text": [
      "[' ', '*', ' ']\n",
      "[' ', ' ', ' ']\n",
      "[' ', ' ', ' ']\n"
     ]
    }
   ],
   "source": [
    "if __name__ == \"__main__\":\n",
    "    # Test 1\n",
    "    maze = [[0] * 3 for row in range(3)]\n",
    "    start_pos = (0,0)\n",
    "    goal_pos = (2,2)\n",
    "    result = bfs(maze, start_pos, goal_pos)\n",
    "    assert result == [(0,0), (0,1), (0,2), (1,2), (2,2)]\n",
    "\n",
    "    # Test 2\n",
    "    maze = read_maze(r\"C:\\Users\\Advait\\Desktop\\LinkedIn Learning HSBC\\Python Data Structures and Algorithms\\Ex_Files_Python_Data_Structures\\Ex_Files_Python_Data_Structures\\Exercise Files\\04_04_begin\\mazes\\mini_maze_bfs.txt\")\n",
    "    for row in maze:\n",
    "        print(row)\n",
    "    start_pos = (0,0)\n",
    "    goal_pos = (2,2)\n",
    "    result = bfs(maze, start_pos, goal_pos)\n",
    "    assert result == [(0,0), (1,0), (1,1), (1,2), (2,2)]\n",
    "\n",
    "    # Test 3\n",
    "    maze = read_maze(r\"C:\\Users\\Advait\\Desktop\\LinkedIn Learning HSBC\\Python Data Structures and Algorithms\\Ex_Files_Python_Data_Structures\\Ex_Files_Python_Data_Structures\\Exercise Files\\04_04_begin\\mazes\\mini_maze_bfs.txt\")\n",
    "    start_pos = (0,0)\n",
    "    goal_pos = (3,3)\n",
    "    result = bfs(maze, start_pos, goal_pos)\n",
    "    assert result is None\n"
   ]
  },
  {
   "cell_type": "code",
   "execution_count": null,
   "id": "4974137b-147e-499e-a410-c17c2dfc400a",
   "metadata": {},
   "outputs": [],
   "source": []
  }
 ],
 "metadata": {
  "kernelspec": {
   "display_name": "Python 3 (ipykernel)",
   "language": "python",
   "name": "python3"
  },
  "language_info": {
   "codemirror_mode": {
    "name": "ipython",
    "version": 3
   },
   "file_extension": ".py",
   "mimetype": "text/x-python",
   "name": "python",
   "nbconvert_exporter": "python",
   "pygments_lexer": "ipython3",
   "version": "3.12.4"
  }
 },
 "nbformat": 4,
 "nbformat_minor": 5
}
