{
 "cells": [
  {
   "cell_type": "markdown",
   "id": "693f3c69-3e3e-4f27-9e3a-37ca163bab16",
   "metadata": {},
   "source": [
    "# LinkedIn Learning\n",
    "# Python Data Structures : Dictionaries"
   ]
  },
  {
   "cell_type": "markdown",
   "id": "1a482307-2f7d-4398-af52-004bc7a9c4df",
   "metadata": {},
   "source": [
    "## 1. Basic Concept and Syntax of Dictionary "
   ]
  },
  {
   "cell_type": "markdown",
   "id": "41c05729-4c19-44d1-af33-a58a44d00f38",
   "metadata": {},
   "source": [
    "#### Create an empty dictionary ----------> d = {}\n",
    "#### Add an entry ------------------------> d[\"IV\"] = 4\n",
    "#### Add three items in a dictionary -----> d = {\"I\" : 1, \"II\" : 2, \"III\" : 3}\n",
    "#### Delete an entry ---------------------> del d[\"IV]"
   ]
  },
  {
   "cell_type": "markdown",
   "id": "96692492-ea83-4780-8992-8a5839c35a70",
   "metadata": {},
   "source": [
    "### A. Creating a Dictionary "
   ]
  },
  {
   "cell_type": "code",
   "execution_count": 1,
   "id": "14b3f5b6-679d-4f4f-b6f3-ddfe4e82aadf",
   "metadata": {},
   "outputs": [],
   "source": [
    "sal_info = {'Austin' : 91185, 'Boston' : 90171}"
   ]
  },
  {
   "cell_type": "code",
   "execution_count": 2,
   "id": "e612fc2d-168b-417b-a0af-c3caa17f2212",
   "metadata": {},
   "outputs": [
    {
     "data": {
      "text/plain": [
       "{'Austin': 91185, 'Boston': 90171}"
      ]
     },
     "execution_count": 2,
     "metadata": {},
     "output_type": "execute_result"
    }
   ],
   "source": [
    "sal_info"
   ]
  },
  {
   "cell_type": "code",
   "execution_count": 3,
   "id": "9d425a39-4530-4833-a1f0-77d154b9e02c",
   "metadata": {},
   "outputs": [],
   "source": [
    "sal_info['Boston'] = 95123"
   ]
  },
  {
   "cell_type": "code",
   "execution_count": 4,
   "id": "c72b1c8f-b0c6-49dd-8ead-180ac90ff694",
   "metadata": {},
   "outputs": [
    {
     "data": {
      "text/plain": [
       "{'Austin': 91185, 'Boston': 95123}"
      ]
     },
     "execution_count": 4,
     "metadata": {},
     "output_type": "execute_result"
    }
   ],
   "source": [
    "sal_info"
   ]
  },
  {
   "cell_type": "code",
   "execution_count": 5,
   "id": "9ae74a99-0618-414d-b3a2-681e2023b377",
   "metadata": {},
   "outputs": [],
   "source": [
    "sal_info['Atlanta'] = 91234"
   ]
  },
  {
   "cell_type": "code",
   "execution_count": 6,
   "id": "42e5c638-00e8-4802-a330-386e0027be1e",
   "metadata": {},
   "outputs": [
    {
     "data": {
      "text/plain": [
       "{'Austin': 91185, 'Boston': 95123, 'Atlanta': 91234}"
      ]
     },
     "execution_count": 6,
     "metadata": {},
     "output_type": "execute_result"
    }
   ],
   "source": [
    "sal_info"
   ]
  },
  {
   "cell_type": "code",
   "execution_count": 7,
   "id": "be77837f-89a1-427b-9571-24bb4a81aba7",
   "metadata": {},
   "outputs": [
    {
     "data": {
      "text/plain": [
       "3"
      ]
     },
     "execution_count": 7,
     "metadata": {},
     "output_type": "execute_result"
    }
   ],
   "source": [
    "len(sal_info)"
   ]
  },
  {
   "cell_type": "code",
   "execution_count": 8,
   "id": "797266ff-c61e-4aa7-9e7e-0090df68d27f",
   "metadata": {},
   "outputs": [],
   "source": [
    "del sal_info['Atlanta']"
   ]
  },
  {
   "cell_type": "code",
   "execution_count": 9,
   "id": "75d81c21-c96b-4097-82da-60b8981898b5",
   "metadata": {},
   "outputs": [
    {
     "data": {
      "text/plain": [
       "{'Austin': 91185, 'Boston': 95123}"
      ]
     },
     "execution_count": 9,
     "metadata": {},
     "output_type": "execute_result"
    }
   ],
   "source": [
    "sal_info"
   ]
  },
  {
   "cell_type": "code",
   "execution_count": 10,
   "id": "418062cc-e548-4a68-87c0-85984dd3fabf",
   "metadata": {},
   "outputs": [
    {
     "data": {
      "text/plain": [
       "2"
      ]
     },
     "execution_count": 10,
     "metadata": {},
     "output_type": "execute_result"
    }
   ],
   "source": [
    "len(sal_info)"
   ]
  },
  {
   "cell_type": "code",
   "execution_count": 11,
   "id": "549c64b6-5eec-4671-b761-979130a0015d",
   "metadata": {},
   "outputs": [
    {
     "ename": "KeyError",
     "evalue": "'Atlanta'",
     "output_type": "error",
     "traceback": [
      "\u001b[1;31m---------------------------------------------------------------------------\u001b[0m",
      "\u001b[1;31mKeyError\u001b[0m                                  Traceback (most recent call last)",
      "Cell \u001b[1;32mIn[11], line 1\u001b[0m\n\u001b[1;32m----> 1\u001b[0m sal_info[\u001b[38;5;124m'\u001b[39m\u001b[38;5;124mAtlanta\u001b[39m\u001b[38;5;124m'\u001b[39m]\n",
      "\u001b[1;31mKeyError\u001b[0m: 'Atlanta'"
     ]
    }
   ],
   "source": [
    "sal_info['Atlanta']"
   ]
  },
  {
   "cell_type": "code",
   "execution_count": 12,
   "id": "f40da89b-4532-4a8a-b3e4-829ce84eed74",
   "metadata": {},
   "outputs": [],
   "source": [
    "sal_info.clear()"
   ]
  },
  {
   "cell_type": "code",
   "execution_count": 14,
   "id": "e0ef3682-7e2b-41f0-8f62-38d59b10d87b",
   "metadata": {},
   "outputs": [
    {
     "data": {
      "text/plain": [
       "{}"
      ]
     },
     "execution_count": 14,
     "metadata": {},
     "output_type": "execute_result"
    }
   ],
   "source": [
    "sal_info"
   ]
  },
  {
   "cell_type": "code",
   "execution_count": 15,
   "id": "c4163e12-d5de-4a5d-b113-864dffa1af13",
   "metadata": {},
   "outputs": [
    {
     "data": {
      "text/plain": [
       "0"
      ]
     },
     "execution_count": 15,
     "metadata": {},
     "output_type": "execute_result"
    }
   ],
   "source": [
    "len(sal_info)"
   ]
  },
  {
   "cell_type": "markdown",
   "id": "ae15b350-9f6b-4663-91a3-6ce70b3d2248",
   "metadata": {},
   "source": [
    "### B. Iterating through a Dictionary "
   ]
  },
  {
   "cell_type": "code",
   "execution_count": 16,
   "id": "38f7b2ca-de04-439e-b054-fcfdcf7189d3",
   "metadata": {},
   "outputs": [],
   "source": [
    "sal_info = dict()"
   ]
  },
  {
   "cell_type": "code",
   "execution_count": 17,
   "id": "9125119f-cf9d-44ec-9b46-a5d4096a5f25",
   "metadata": {},
   "outputs": [
    {
     "data": {
      "text/plain": [
       "{}"
      ]
     },
     "execution_count": 17,
     "metadata": {},
     "output_type": "execute_result"
    }
   ],
   "source": [
    "sal_info"
   ]
  },
  {
   "cell_type": "code",
   "execution_count": 18,
   "id": "b4a67701-66f6-4d9a-aa7c-c72292cfa6b4",
   "metadata": {},
   "outputs": [],
   "source": [
    "sal_info = {'Austin' : 911985, 'Dallas' : 89999, 'San Jose' : 100989, 'Atlanta' : 89286}"
   ]
  },
  {
   "cell_type": "code",
   "execution_count": 19,
   "id": "39e83c7a-aa6e-406e-8871-bbfcd2ca6c0c",
   "metadata": {},
   "outputs": [
    {
     "data": {
      "text/plain": [
       "{'Austin': 911985, 'Dallas': 89999, 'San Jose': 100989, 'Atlanta': 89286}"
      ]
     },
     "execution_count": 19,
     "metadata": {},
     "output_type": "execute_result"
    }
   ],
   "source": [
    "sal_info"
   ]
  },
  {
   "cell_type": "code",
   "execution_count": 21,
   "id": "5ecc8fde-cec8-46b0-902d-98405c7e6b34",
   "metadata": {},
   "outputs": [
    {
     "name": "stdout",
     "output_type": "stream",
     "text": [
      "89999\n"
     ]
    }
   ],
   "source": [
    "if ('Dallas' in sal_info):\n",
    "    print(sal_info['Dallas'])\n",
    "else:\n",
    "    print(\"Not Found\")"
   ]
  },
  {
   "cell_type": "code",
   "execution_count": 22,
   "id": "1a1182be-48b2-4726-b130-0650df106286",
   "metadata": {},
   "outputs": [
    {
     "name": "stdout",
     "output_type": "stream",
     "text": [
      "911985\n",
      "89999\n",
      "100989\n",
      "89286\n"
     ]
    }
   ],
   "source": [
    "for location in sal_info:\n",
    "    print(sal_info[location])"
   ]
  },
  {
   "cell_type": "code",
   "execution_count": 23,
   "id": "2976f423-bd6c-4cda-8ef1-2d1038f5ae00",
   "metadata": {},
   "outputs": [
    {
     "name": "stdout",
     "output_type": "stream",
     "text": [
      "Austin\n",
      "Dallas\n",
      "San Jose\n",
      "Atlanta\n"
     ]
    }
   ],
   "source": [
    "for location in sal_info:\n",
    "    print(location)"
   ]
  },
  {
   "cell_type": "markdown",
   "id": "629ec39a-6dd7-4f96-adf4-387e85e1c7e8",
   "metadata": {},
   "source": [
    "### C. Challenge - 1"
   ]
  },
  {
   "cell_type": "code",
   "execution_count": 24,
   "id": "270d60a6-db0e-4328-ae85-0d1117cc1ee9",
   "metadata": {},
   "outputs": [],
   "source": [
    "import csv"
   ]
  },
  {
   "cell_type": "code",
   "execution_count": 27,
   "id": "44aedf28-e5f7-4165-9a44-38cd65f09ad4",
   "metadata": {},
   "outputs": [
    {
     "name": "stdout",
     "output_type": "stream",
     "text": [
      "The dictionary is of size 159\n",
      "{'Subdivision_id': 'Num_trees', '205': 10, '219': '1', '234': '1', '262': '1', '897': '1', '281': '1', '235': '1', '166': '1', '257': '2', '714': '1', '261': '1', '196': '2', '721': '1', '753': '1', '273': '1', '283': '1', '180': '1', '727': '1', '239': '1', '195': '1', '639': '1', '199': '1', '480': '1', '665': '1', '214': '1', '762': '1', '198': '1', '643': '1', '226': '1', '898': '1', '223': '1', '730': '1', '271': '1', '292': '2', '301': '1', '871': '1', '521': '1', '228': '1', '163': '1', '274': '1', '719': '1', '241': '1', '469': '1', '236': '1', '557': '2', '787': '1', '624': '1', '293': '1', '798': '1', '720': '1', '888': '1', '648': '1', '282': '1', '248': '2', '853': '1', '303': '1', '755': '1', '173': '1', '569': '1', '161': '1', '797': '2', '165': '1', '522': '1', '811': '1', '632': '1', '828': '1', '778': '1', '277': '1', '627': '1', '194': '1', '576': '1', '832': '2', '660': '1', '831': '2', '833': '1', '644': '1', '193': '1', '642': '1', '487': '1', '278': '1', '221': '1', '496': '1', '835': '1', '211': '1', '259': '1', '275': '1', '618': '1', '923': '1', '162': '1', '168': '1', '206': '1', '524': '1', '884': '1', '795': '1', '916': '2', '181': '1', '838': '1', '770': '1', '289': '1', '633': '1', '217': '1', '931': '1', '691': '1', '541': '1', '476': '2', '298': '1', '634': '1', '841': '1', '911': '1', '846': '1', '561': '1', '172': '1', '809': '1', '564': '1', '606': '1', '905': '1', '666': '1', '483': '1', '817': '1', '473': '1', '746': '1', '484': '2', '697': '1', '591': '0', '855': '1', '670': '1', '197': '1', '906': '1', '903': '0', '550': '1', '203': '1', '174': '1', '812': '1', '860': '1', '263': '1', '863': '2', '843': '1', '295': '1', '917': '1', '866': '1', '739': '1', '749': '1', '867': '1', '899': '1', '169': '1', '264': '1', '920': '1', '900': '1', '213': '1', '879': '1', '896': '1', '915': '1', '573': '1', '231': '1', '477': '1', '921': '1', '814': '1', '202': '1', '999': 12}\n",
      "Subdivision_id Num_trees\n",
      "205 10\n",
      "219 1\n",
      "234 1\n",
      "262 1\n",
      "897 1\n",
      "281 1\n",
      "235 1\n",
      "166 1\n",
      "257 2\n",
      "714 1\n",
      "261 1\n",
      "196 2\n",
      "721 1\n",
      "753 1\n",
      "273 1\n",
      "283 1\n",
      "180 1\n",
      "727 1\n",
      "239 1\n",
      "195 1\n",
      "639 1\n",
      "199 1\n",
      "480 1\n",
      "665 1\n",
      "214 1\n",
      "762 1\n",
      "198 1\n",
      "643 1\n",
      "226 1\n",
      "898 1\n",
      "223 1\n",
      "730 1\n",
      "271 1\n",
      "292 2\n",
      "301 1\n",
      "871 1\n",
      "521 1\n",
      "228 1\n",
      "163 1\n",
      "274 1\n",
      "719 1\n",
      "241 1\n",
      "469 1\n",
      "236 1\n",
      "557 2\n",
      "787 1\n",
      "624 1\n",
      "293 1\n",
      "798 1\n",
      "720 1\n",
      "888 1\n",
      "648 1\n",
      "282 1\n",
      "248 2\n",
      "853 1\n",
      "303 1\n",
      "755 1\n",
      "173 1\n",
      "569 1\n",
      "161 1\n",
      "797 2\n",
      "165 1\n",
      "522 1\n",
      "811 1\n",
      "632 1\n",
      "828 1\n",
      "778 1\n",
      "277 1\n",
      "627 1\n",
      "194 1\n",
      "576 1\n",
      "832 2\n",
      "660 1\n",
      "831 2\n",
      "833 1\n",
      "644 1\n",
      "193 1\n",
      "642 1\n",
      "487 1\n",
      "278 1\n",
      "221 1\n",
      "496 1\n",
      "835 1\n",
      "211 1\n",
      "259 1\n",
      "275 1\n",
      "618 1\n",
      "923 1\n",
      "162 1\n",
      "168 1\n",
      "206 1\n",
      "524 1\n",
      "884 1\n",
      "795 1\n",
      "916 2\n",
      "181 1\n",
      "838 1\n",
      "770 1\n",
      "289 1\n",
      "633 1\n",
      "217 1\n",
      "931 1\n",
      "691 1\n",
      "541 1\n",
      "476 2\n",
      "298 1\n",
      "634 1\n",
      "841 1\n",
      "911 1\n",
      "846 1\n",
      "561 1\n",
      "172 1\n",
      "809 1\n",
      "564 1\n",
      "606 1\n",
      "905 1\n",
      "666 1\n",
      "483 1\n",
      "817 1\n",
      "473 1\n",
      "746 1\n",
      "484 2\n",
      "697 1\n",
      "591 0\n",
      "855 1\n",
      "670 1\n",
      "197 1\n",
      "906 1\n",
      "903 0\n",
      "550 1\n",
      "203 1\n",
      "174 1\n",
      "812 1\n",
      "860 1\n",
      "263 1\n",
      "863 2\n",
      "843 1\n",
      "295 1\n",
      "917 1\n",
      "866 1\n",
      "739 1\n",
      "749 1\n",
      "867 1\n",
      "899 1\n",
      "169 1\n",
      "264 1\n",
      "920 1\n",
      "900 1\n",
      "213 1\n",
      "879 1\n",
      "896 1\n",
      "915 1\n",
      "573 1\n",
      "231 1\n",
      "477 1\n",
      "921 1\n",
      "814 1\n",
      "202 1\n",
      "999 12\n"
     ]
    }
   ],
   "source": [
    "with open('treeorderssubsetnodupes.csv', mode = 'r') as infile:\n",
    "    reader = csv.reader(infile)\n",
    "    mydict = {}\n",
    "    for row in reader:\n",
    "        key = row[0]\n",
    "        mydict[key] = row[1]\n",
    "\n",
    "    # What is the size of the dictionary?\n",
    "    dict_size = len(mydict)\n",
    "    print(\"The dictionary is of size\", str(dict_size))\n",
    "    # Modify a key in the dictionary \n",
    "    mydict['205'] = 10\n",
    "    # Add a Key-Value pair in the dictionary \n",
    "    mydict['999'] = 12\n",
    "    # Display the dictionary \n",
    "    print(mydict)\n",
    "\n",
    "    for i in mydict:\n",
    "        print(i, mydict[i])\n",
    "\n",
    "    infile.close()"
   ]
  },
  {
   "cell_type": "markdown",
   "id": "c438fef2-7e3a-4c76-a993-1f9d375815ea",
   "metadata": {},
   "source": [
    "## 2. Operators and Methods"
   ]
  },
  {
   "cell_type": "markdown",
   "id": "0ead798b-8cfa-41e3-b462-0f7daefd84f4",
   "metadata": {},
   "source": [
    "### A. Basic Python dictionary operations and comparators"
   ]
  },
  {
   "cell_type": "markdown",
   "id": "ae600cd1-adfa-4cf8-bc5b-d14f3fc3ba1e",
   "metadata": {},
   "source": [
    "#### Change an entry ----> d['II'] = \"two\"\n",
    "#### Delete an entry ----> del d['IV']\n",
    "#### Remove all items ---> d.clear()"
   ]
  },
  {
   "cell_type": "code",
   "execution_count": 28,
   "id": "1c09a930-02ca-4d60-a136-5dc35ce63fce",
   "metadata": {},
   "outputs": [],
   "source": [
    "sal_info = {'Austin' : 911985, 'Dallas' : 89999, 'San Jose' : 100989, 'Atlanta' : 89286}"
   ]
  },
  {
   "cell_type": "code",
   "execution_count": 29,
   "id": "22b69d1e-b74f-42c0-8c7e-80dc29b612d5",
   "metadata": {},
   "outputs": [
    {
     "data": {
      "text/plain": [
       "{'Austin': 911985, 'Dallas': 89999, 'San Jose': 100989, 'Atlanta': 92340}"
      ]
     },
     "execution_count": 29,
     "metadata": {},
     "output_type": "execute_result"
    }
   ],
   "source": [
    "sal_info['Atlanta'] = 92340\n",
    "sal_info"
   ]
  },
  {
   "cell_type": "code",
   "execution_count": 30,
   "id": "c505dd81-59d6-415e-a9f2-3a169705b74b",
   "metadata": {},
   "outputs": [
    {
     "data": {
      "text/plain": [
       "{'Austin': 911985, 'Dallas': 89999, 'San Jose': 100989}"
      ]
     },
     "execution_count": 30,
     "metadata": {},
     "output_type": "execute_result"
    }
   ],
   "source": [
    "del sal_info['Atlanta']\n",
    "sal_info"
   ]
  },
  {
   "cell_type": "code",
   "execution_count": 31,
   "id": "9aa5a14c-6097-4b7f-ab58-ff86a5882f51",
   "metadata": {},
   "outputs": [],
   "source": [
    "del sal_info"
   ]
  },
  {
   "cell_type": "code",
   "execution_count": 32,
   "id": "4da72cd6-a498-4e73-b120-9f06fb141b93",
   "metadata": {},
   "outputs": [
    {
     "ename": "NameError",
     "evalue": "name 'sal_info' is not defined",
     "output_type": "error",
     "traceback": [
      "\u001b[1;31m---------------------------------------------------------------------------\u001b[0m",
      "\u001b[1;31mNameError\u001b[0m                                 Traceback (most recent call last)",
      "Cell \u001b[1;32mIn[32], line 1\u001b[0m\n\u001b[1;32m----> 1\u001b[0m sal_info\n",
      "\u001b[1;31mNameError\u001b[0m: name 'sal_info' is not defined"
     ]
    }
   ],
   "source": [
    "sal_info"
   ]
  },
  {
   "cell_type": "code",
   "execution_count": 33,
   "id": "222e3d23-9353-4865-91c9-be4d0ec74602",
   "metadata": {},
   "outputs": [],
   "source": [
    "sal_info = {'Austin' : 911985, 'Dallas' : 89999, 'San Jose' : 100989, 'Atlanta' : 89286}"
   ]
  },
  {
   "cell_type": "code",
   "execution_count": 34,
   "id": "c0761fba-c317-4343-b9c1-bc20d356558b",
   "metadata": {},
   "outputs": [
    {
     "data": {
      "text/plain": [
       "{}"
      ]
     },
     "execution_count": 34,
     "metadata": {},
     "output_type": "execute_result"
    }
   ],
   "source": [
    "sal_info.clear()\n",
    "sal_info"
   ]
  },
  {
   "cell_type": "code",
   "execution_count": 35,
   "id": "1e6bdfde-7e9b-40c3-9f5a-e30c21d3460d",
   "metadata": {},
   "outputs": [],
   "source": [
    "sal_info = {'Austin' : 911985, 'Dallas' : 89999, 'San Jose' : 100989, 'Atlanta' : 89286}"
   ]
  },
  {
   "cell_type": "code",
   "execution_count": 36,
   "id": "7c6ea1a9-4bff-4e7a-96e1-962de95252d9",
   "metadata": {},
   "outputs": [],
   "source": [
    "if ('Seattle' not in sal_info):\n",
    "    sal_info['Seattle'] = 110340\n",
    "else:\n",
    "    print(\"Key Exists\")"
   ]
  },
  {
   "cell_type": "code",
   "execution_count": 37,
   "id": "61152bdf-1a15-476a-92fd-ed7f7487d423",
   "metadata": {},
   "outputs": [
    {
     "data": {
      "text/plain": [
       "{'Austin': 911985,\n",
       " 'Dallas': 89999,\n",
       " 'San Jose': 100989,\n",
       " 'Atlanta': 89286,\n",
       " 'Seattle': 110340}"
      ]
     },
     "execution_count": 37,
     "metadata": {},
     "output_type": "execute_result"
    }
   ],
   "source": [
    "sal_info"
   ]
  },
  {
   "cell_type": "markdown",
   "id": "fe4ba65e-9f6f-4fbd-ba62-eb4c144d63f6",
   "metadata": {},
   "source": [
    "### B. Python Dictionary Methods"
   ]
  },
  {
   "cell_type": "code",
   "execution_count": 64,
   "id": "bc8bdd45-925c-4ebf-9221-e4f05051f18f",
   "metadata": {},
   "outputs": [],
   "source": [
    "sal_info = {'Austin' : 911985, 'Dallas' : 89999, 'San Jose' : 100989, 'Atlanta' : 89286}"
   ]
  },
  {
   "cell_type": "code",
   "execution_count": 40,
   "id": "ae13e2b5-32e2-4a62-8a43-323c64ba2ab2",
   "metadata": {},
   "outputs": [
    {
     "name": "stdout",
     "output_type": "stream",
     "text": [
      "89999\n",
      "Not Found\n"
     ]
    }
   ],
   "source": [
    "# .get() method\n",
    "print(sal_info.get('Dallas', 'Not Found'))\n",
    "print(sal_info.get('Portland', 'Not Found'))"
   ]
  },
  {
   "cell_type": "code",
   "execution_count": 52,
   "id": "db5588c8-43f7-40de-9baa-aadbc87c00fa",
   "metadata": {},
   "outputs": [
    {
     "data": {
      "text/plain": [
       "dict_keys(['Austin', 'Dallas', 'San Jose', 'Atlanta'])"
      ]
     },
     "execution_count": 52,
     "metadata": {},
     "output_type": "execute_result"
    }
   ],
   "source": [
    "# .keys()\n",
    "sal_info.keys()"
   ]
  },
  {
   "cell_type": "code",
   "execution_count": 53,
   "id": "c213892c-0fdc-4128-9fe2-d8d5b05078f9",
   "metadata": {},
   "outputs": [
    {
     "data": {
      "text/plain": [
       "dict_values([911985, 89999, 100989, 89286])"
      ]
     },
     "execution_count": 53,
     "metadata": {},
     "output_type": "execute_result"
    }
   ],
   "source": [
    "# .values()\n",
    "sal_info.values()"
   ]
  },
  {
   "cell_type": "code",
   "execution_count": 54,
   "id": "c61ccc06-978c-4042-bfb5-c08e40840ec2",
   "metadata": {},
   "outputs": [
    {
     "name": "stdout",
     "output_type": "stream",
     "text": [
      "Key - Value pair\n",
      "The key is  Austin and the value is  911985\n",
      "The key is  Dallas and the value is  89999\n",
      "The key is  San Jose and the value is  100989\n",
      "The key is  Atlanta and the value is  89286\n"
     ]
    }
   ],
   "source": [
    "# .items()\n",
    "print(\"Key - Value pair\")\n",
    "for k,v in sal_info.items():\n",
    "    print(\"The key is \",k, \"and the value is \" ,v)"
   ]
  },
  {
   "cell_type": "code",
   "execution_count": 55,
   "id": "c8d4e509-db2b-40e3-a833-f91d8f54d9d3",
   "metadata": {},
   "outputs": [
    {
     "name": "stdout",
     "output_type": "stream",
     "text": [
      "The City with the Highest Salary Austin\n"
     ]
    }
   ],
   "source": [
    "#.max()\n",
    "print(\"The City with the Highest Salary \" + max(sal_info, key = sal_info.get))"
   ]
  },
  {
   "cell_type": "code",
   "execution_count": 57,
   "id": "fe7fbb41-76ce-4983-acbf-f0704cf95798",
   "metadata": {},
   "outputs": [
    {
     "name": "stdout",
     "output_type": "stream",
     "text": [
      "The City with the Lowest Salary Atlanta\n"
     ]
    }
   ],
   "source": [
    "#.min()\n",
    "print(\"The City with the Lowest Salary \" + min(sal_info, key = sal_info.get))"
   ]
  },
  {
   "cell_type": "code",
   "execution_count": 58,
   "id": "08d44990-f546-40a3-b059-8a5d60909108",
   "metadata": {},
   "outputs": [
    {
     "data": {
      "text/plain": [
       "{'Austin': 911985, 'Dallas': 89999, 'San Jose': 100989, 'Atlanta': 89286}"
      ]
     },
     "execution_count": 58,
     "metadata": {},
     "output_type": "execute_result"
    }
   ],
   "source": [
    "sal_info"
   ]
  },
  {
   "cell_type": "code",
   "execution_count": 62,
   "id": "cc0995f9-8233-4cbf-bb0b-37c76d702260",
   "metadata": {},
   "outputs": [
    {
     "name": "stdout",
     "output_type": "stream",
     "text": [
      "Value of key 89999\n"
     ]
    },
    {
     "data": {
      "text/plain": [
       "{'Austin': 911985, 'San Jose': 100989, 'Atlanta': 89286}"
      ]
     },
     "execution_count": 62,
     "metadata": {},
     "output_type": "execute_result"
    }
   ],
   "source": [
    "# .pop(key, default) --> removes key value pair from the dictionary  (Return the value associated with the key)\n",
    "print(\"Value of key \" + str(sal_info.pop('Dallas', 'Not Found')))\n",
    "sal_info"
   ]
  },
  {
   "cell_type": "code",
   "execution_count": 63,
   "id": "002e6d78-1690-41ed-a087-a4fc81cfda32",
   "metadata": {},
   "outputs": [
    {
     "data": {
      "text/plain": [
       "{'Austin': 911985, 'San Jose': 100989}"
      ]
     },
     "execution_count": 63,
     "metadata": {},
     "output_type": "execute_result"
    }
   ],
   "source": [
    "# .popitem() --> removes the key value pair from the dictionary (Access and returns a random key - value pair)\n",
    "sal_info.popitem()\n",
    "sal_info"
   ]
  },
  {
   "cell_type": "code",
   "execution_count": 65,
   "id": "342f4847-e22e-479c-b085-8d56e57f234e",
   "metadata": {},
   "outputs": [
    {
     "name": "stdout",
     "output_type": "stream",
     "text": [
      "['Atlanta', 'Austin', 'Dallas', 'San Jose']\n",
      "[89286, 89999, 100989, 911985]\n"
     ]
    }
   ],
   "source": [
    "# sorted() \n",
    "print(sorted(sal_info.keys()))\n",
    "print(sorted(sal_info.values()))"
   ]
  },
  {
   "cell_type": "markdown",
   "id": "51f3653f-705b-4fef-8c9c-2fddf0914802",
   "metadata": {},
   "source": [
    "### C. Using Python Lists within a Dictionary "
   ]
  },
  {
   "cell_type": "code",
   "execution_count": 66,
   "id": "192fe301-795b-40e5-8660-1beb04b6609f",
   "metadata": {},
   "outputs": [],
   "source": [
    "eng_di = {}"
   ]
  },
  {
   "cell_type": "code",
   "execution_count": 67,
   "id": "3fe3f294-9137-46c7-9e1d-336ea205d00b",
   "metadata": {},
   "outputs": [
    {
     "name": "stdout",
     "output_type": "stream",
     "text": [
      "{'solitude': ['lone', 'lonely', 'alone', 'unaccompained', 'without society'], 'hope': ['aspiration', 'desire', 'wish', 'expectation', 'ambition']}\n"
     ]
    }
   ],
   "source": [
    "eng_di['solitude'] = ['lone', 'lonely', 'alone', 'unaccompained', 'without society']\n",
    "eng_di['hope'] = ['aspiration', 'desire', 'wish', 'expectation', 'ambition']\n",
    "print(eng_di)"
   ]
  },
  {
   "cell_type": "code",
   "execution_count": 68,
   "id": "569b329a-db97-4fb2-8029-a7816587cf24",
   "metadata": {},
   "outputs": [],
   "source": [
    "eng_di.clear()"
   ]
  },
  {
   "cell_type": "code",
   "execution_count": 71,
   "id": "fefb24ca-456e-4a3c-a818-d96ed7aceec4",
   "metadata": {},
   "outputs": [],
   "source": [
    "eng_di = {'solitude' : []}\n",
    "eng_words = ['lone', 'lonely', 'alone', 'unaccompained', 'without society']\n",
    "eng_di['solitude'].append(eng_words[0])"
   ]
  },
  {
   "cell_type": "code",
   "execution_count": 72,
   "id": "8be6dd9e-7579-4b5c-9ff8-a65678ffeb03",
   "metadata": {},
   "outputs": [
    {
     "data": {
      "text/plain": [
       "{'solitude': ['lone']}"
      ]
     },
     "execution_count": 72,
     "metadata": {},
     "output_type": "execute_result"
    }
   ],
   "source": [
    "eng_di"
   ]
  },
  {
   "cell_type": "code",
   "execution_count": 73,
   "id": "53f8eaa4-379f-4cf8-8e46-cd80f96c76b2",
   "metadata": {},
   "outputs": [],
   "source": [
    "eng_di['solitude'] = eng_words"
   ]
  },
  {
   "cell_type": "code",
   "execution_count": 74,
   "id": "300115a3-a6a1-4d3c-a838-b9528a9f3129",
   "metadata": {},
   "outputs": [
    {
     "data": {
      "text/plain": [
       "{'solitude': ['lone', 'lonely', 'alone', 'unaccompained', 'without society']}"
      ]
     },
     "execution_count": 74,
     "metadata": {},
     "output_type": "execute_result"
    }
   ],
   "source": [
    "eng_di"
   ]
  },
  {
   "cell_type": "code",
   "execution_count": 75,
   "id": "e9b05b75-b3ce-40b6-bf55-6a988bb06147",
   "metadata": {},
   "outputs": [
    {
     "name": "stdout",
     "output_type": "stream",
     "text": [
      "lone\n",
      "lonely\n",
      "alone\n",
      "unaccompained\n",
      "without society\n"
     ]
    }
   ],
   "source": [
    "if (eng_di.get('solitude')):\n",
    "    for list_item in eng_di['solitude']:\n",
    "        print(list_item)\n",
    "else:\n",
    "    print(\"Word not found in the Dictionary!\")"
   ]
  },
  {
   "cell_type": "markdown",
   "id": "835f7d48-1235-41dc-9077-8c58feafd30c",
   "metadata": {},
   "source": [
    "### D. Challenge - 2"
   ]
  },
  {
   "cell_type": "code",
   "execution_count": 76,
   "id": "71d32d19-9954-40b2-8967-c69a51501c00",
   "metadata": {},
   "outputs": [],
   "source": [
    "import csv"
   ]
  },
  {
   "cell_type": "code",
   "execution_count": 78,
   "id": "47d1c742-e805-4935-8ad3-b9f57ab8695e",
   "metadata": {},
   "outputs": [
    {
     "name": "stdout",
     "output_type": "stream",
     "text": [
      "dict_items([('205', 380), ('219', 15), ('234', '1'), ('262', 20), ('897', 3), ('281', 40), ('235', 13), ('166', 3), ('257', 27), ('714', 2), ('261', '1'), ('196', 7), ('721', 6), ('753', 2), ('273', 2), ('283', 8), ('180', 27), ('727', 12), ('239', 25), ('195', 6), ('639', 2), ('199', 7), ('480', 2), ('665', '1'), ('214', 3), ('762', 3), ('198', 17), ('643', 2), ('226', '1'), ('898', '1'), ('223', 4), ('730', 2), ('271', 3), ('292', 14), ('301', 7), ('871', '1'), ('521', '1'), ('228', 3), ('163', 6), ('274', 2), ('719', '1'), ('241', 2), ('469', 3), ('236', 10), ('557', '2'), ('787', 3), ('624', 3), ('293', 2), ('798', '1'), ('720', '1'), ('888', 11), ('648', 3), ('282', '1'), ('248', '2'), ('853', '1'), ('303', 4), ('755', 5), ('173', 4), ('569', '1'), ('161', '1'), ('797', '2'), ('165', 2), ('522', '1'), ('811', '1'), ('632', '1'), ('828', '1'), ('778', '1'), ('277', '1'), ('627', '1'), ('194', 4), ('576', 2), ('832', '2'), ('660', '1'), ('831', 5), ('833', '1'), ('644', 2), ('193', '1'), ('642', '1'), ('487', 2), ('278', '1'), ('221', '1'), ('496', '1'), ('835', '1'), ('211', 4), ('259', 5), ('275', '1'), ('618', '1'), ('923', '1'), ('162', '1'), ('168', '1'), ('206', 5), ('524', '1'), ('884', '1'), ('795', '1'), ('916', '2'), ('181', 6), ('838', '1'), ('770', '1'), ('289', 3), ('633', '1'), ('217', 2), ('931', '1'), ('691', '1'), ('541', '1'), ('476', 5), ('298', '1'), ('634', 2), ('841', 2), ('911', '1'), ('846', '1'), ('561', '1'), ('172', 3), ('809', '1'), ('564', '1'), ('606', '1'), ('905', '1'), ('666', '1'), ('483', '1'), ('817', '1'), ('473', 2), ('746', '1'), ('484', 3), ('697', '1'), ('591', '0'), ('855', '1'), ('670', '1'), ('197', 2), ('906', '1'), ('903', 1), ('550', 4), ('203', '1'), ('174', 2), ('812', '1'), ('860', '1'), ('263', '1'), ('863', 3), ('843', '1'), ('295', '1'), ('917', '1'), ('866', '1'), ('739', '1'), ('749', '1'), ('867', '1'), ('899', '1'), ('169', '1'), ('264', 2), ('920', '1'), ('900', '1'), ('213', 2), ('879', '1'), ('896', '1'), ('915', '1'), ('573', '1'), ('231', '1'), ('477', '1'), ('921', '1'), ('814', '1'), ('202', '1')])\n"
     ]
    }
   ],
   "source": [
    "with open('TreeOrdersSubset.csv', mode  = 'r') as infile:\n",
    "    reader = csv.reader(infile)\n",
    "    treeOrders = {}\n",
    "    for row in reader:\n",
    "        key = row[0]\n",
    "\n",
    "        if(key not in treeOrders):\n",
    "            treeNum = row[1]\n",
    "            treeOrders[key] = treeNum\n",
    "        else:\n",
    "            treeNum = row[1]\n",
    "            prev_count = treeOrders[key]\n",
    "            treeOrders[key] = int(prev_count) + int(treeNum)\n",
    "\n",
    "    print(treeOrders.items())\n",
    "\n",
    "    infile.close()"
   ]
  },
  {
   "cell_type": "markdown",
   "id": "f0f723ae-79d5-476b-a2f2-6cc33ecdfc7c",
   "metadata": {},
   "source": [
    "## 3. Compare Dictionaries with other Data Structures "
   ]
  },
  {
   "cell_type": "markdown",
   "id": "9ca06de1-9776-489d-9bbf-18777ce3d85f",
   "metadata": {},
   "source": [
    "### A. Dictionary v/s Lists"
   ]
  },
  {
   "cell_type": "code",
   "execution_count": 79,
   "id": "4bed1666-150e-4390-ad94-c7c6c093889b",
   "metadata": {},
   "outputs": [
    {
     "name": "stdout",
     "output_type": "stream",
     "text": [
      "Original key list is : ['Austin', 'Portland', 'Dallas']\n",
      "Original value list is : [91185, 110123, 89123]\n"
     ]
    }
   ],
   "source": [
    "sal_info_keys = ['Austin', 'Portland', 'Dallas']\n",
    "sal_info_values = [91185, 110123, 89123]\n",
    "\n",
    "print(\"Original key list is : \" + str(sal_info_keys))\n",
    "print(\"Original value list is : \" + str(sal_info_values))"
   ]
  },
  {
   "cell_type": "code",
   "execution_count": 80,
   "id": "41212cfb-3e49-4a18-aae7-3e0dc9d535c4",
   "metadata": {},
   "outputs": [],
   "source": [
    "sal_info = {}"
   ]
  },
  {
   "cell_type": "code",
   "execution_count": 81,
   "id": "ab2ef68c-c937-4800-8808-ea9a195256ae",
   "metadata": {},
   "outputs": [
    {
     "name": "stdout",
     "output_type": "stream",
     "text": [
      "Method 1 --> Using for,in \n",
      "The Resultant Dictionary is :  {'Austin': 91185, 'Portland': 110123, 'Dallas': 89123}\n"
     ]
    }
   ],
   "source": [
    "print(\"Method 1 --> Using for,in \")\n",
    "i = 0\n",
    "for key in sal_info_keys:\n",
    "    value = sal_info_values[i]\n",
    "    sal_info[key] = value\n",
    "    i = i + 1\n",
    "print(\"The Resultant Dictionary is : \", str(sal_info))"
   ]
  },
  {
   "cell_type": "markdown",
   "id": "049f1e46-cd81-4b9d-b3f1-d360be2d2556",
   "metadata": {},
   "source": [
    "### B. Dictionary v/s Sets and Tuples"
   ]
  },
  {
   "cell_type": "code",
   "execution_count": 89,
   "id": "379a2cf2-daff-4791-a0b1-1be5d0999322",
   "metadata": {},
   "outputs": [],
   "source": [
    "#Tuples"
   ]
  },
  {
   "cell_type": "code",
   "execution_count": 88,
   "id": "07b9f020-216d-40cb-9e17-16cbab2e9c07",
   "metadata": {},
   "outputs": [
    {
     "name": "stdout",
     "output_type": "stream",
     "text": [
      "Austin\n"
     ]
    }
   ],
   "source": [
    "cities = ('Austin', 'Portland', 'Dallas')\n",
    "print(cities[0])"
   ]
  },
  {
   "cell_type": "code",
   "execution_count": 83,
   "id": "e2d786b9-cafe-47ec-bde5-bac9b94b8344",
   "metadata": {},
   "outputs": [
    {
     "name": "stdout",
     "output_type": "stream",
     "text": [
      "('Austin', 'Portland', 'Dallas')\n"
     ]
    }
   ],
   "source": [
    "print(cities)"
   ]
  },
  {
   "cell_type": "code",
   "execution_count": 85,
   "id": "995e1a1a-575a-4e58-81b5-4f2b67c1ee41",
   "metadata": {},
   "outputs": [
    {
     "name": "stdout",
     "output_type": "stream",
     "text": [
      "91345\n",
      "{'Austin': 81111, 'Dallas': 91345}\n"
     ]
    }
   ],
   "source": [
    "citi_info = {'Austin' : 81111, 'Dallas' : 91345}\n",
    "print(citi_info['Dallas'])\n",
    "print(citi_info)"
   ]
  },
  {
   "cell_type": "code",
   "execution_count": 87,
   "id": "7376c451-a5bc-4dc8-9291-b1010cb6ab3f",
   "metadata": {},
   "outputs": [],
   "source": [
    "# Sets"
   ]
  },
  {
   "cell_type": "code",
   "execution_count": 92,
   "id": "fe960b85-3716-4e17-841a-2cdf11cdb204",
   "metadata": {},
   "outputs": [
    {
     "name": "stdout",
     "output_type": "stream",
     "text": [
      "{'Austin', 'Dallas', 'Portland'}\n",
      "Austin\n",
      "Dallas\n",
      "Portland\n"
     ]
    }
   ],
   "source": [
    "city_names_set = {'Austin', 'Portland', 'Dallas', 'Austin'}\n",
    "print(city_names_set)\n",
    "\n",
    "for set_value in city_names_set:\n",
    "    print(set_value)"
   ]
  },
  {
   "cell_type": "markdown",
   "id": "d725e6c2-8211-4e0e-87b7-3a3a1d12f251",
   "metadata": {},
   "source": [
    "### C. Implementation of dictionaries as Hash tables in Python"
   ]
  },
  {
   "cell_type": "markdown",
   "id": "54f81a00-01b6-4d46-bd9e-c0b36aafdf1d",
   "metadata": {},
   "source": [
    "##### 1. Keys must be immutable.\n",
    "##### 2. Significant Memory Overhead\n",
    "##### 3. Key search is very fast.\n",
    "##### 4. Key Ordering depends on insertion order.\n",
    "##### 5. Adding items to the dictionary may change the order of the existing keys. "
   ]
  },
  {
   "cell_type": "markdown",
   "id": "2a132ecd-0385-4fa0-9526-48d99e64e692",
   "metadata": {},
   "source": [
    "## 4. Dictionary Comprehension"
   ]
  },
  {
   "cell_type": "markdown",
   "id": "dacd997d-d715-4fc5-a212-749214f9f28d",
   "metadata": {},
   "source": [
    "### A. Understanding Comprehension "
   ]
  },
  {
   "cell_type": "markdown",
   "id": "aee46d06-92c3-4933-83f1-b597087035c2",
   "metadata": {},
   "source": [
    "##### 1. List Comprehension\n",
    "##### 2. Dictionary Comprehension\n",
    "##### 3. Set Comprehension\n",
    "##### 4. Generator expression"
   ]
  },
  {
   "cell_type": "code",
   "execution_count": 94,
   "id": "d6e261cc-2220-4e17-a91f-d7979a3fd2a0",
   "metadata": {},
   "outputs": [
    {
     "name": "stdout",
     "output_type": "stream",
     "text": [
      "Creating a Dictionary without using a Comprehension :- \n",
      "{'Austin': 91185, 'Portland': 110123, 'Dallas': 89123, 'Atlanta': 112000}\n"
     ]
    }
   ],
   "source": [
    "sal_data_keys = ['Austin', 'Portland', 'Dallas', 'Atlanta']\n",
    "sal_data_values = [91185, 110123, 89123, 112000]\n",
    "\n",
    "sal_info = {}\n",
    "print(\"Creating a Dictionary without using a Comprehension :- \")\n",
    "for key, value in zip(sal_data_keys, sal_data_values):\n",
    "    sal_info[key] = value\n",
    "print(sal_info)"
   ]
  },
  {
   "cell_type": "code",
   "execution_count": 95,
   "id": "28c90e28-8a3f-4c6a-bd8c-7ae655a420e1",
   "metadata": {},
   "outputs": [],
   "source": [
    "sal_info.clear()"
   ]
  },
  {
   "cell_type": "code",
   "execution_count": 96,
   "id": "018b3aa2-4019-4b43-a874-0b3a3bd1567d",
   "metadata": {},
   "outputs": [
    {
     "data": {
      "text/plain": [
       "{}"
      ]
     },
     "execution_count": 96,
     "metadata": {},
     "output_type": "execute_result"
    }
   ],
   "source": [
    "sal_info"
   ]
  },
  {
   "cell_type": "code",
   "execution_count": 97,
   "id": "9ce045b5-9779-409b-aec0-088e8c002b35",
   "metadata": {},
   "outputs": [
    {
     "name": "stdout",
     "output_type": "stream",
     "text": [
      "Creating a Dictionary using a Comprehension :- \n",
      "{'Austin': 91185, 'Portland': 110123, 'Dallas': 89123, 'Atlanta': 112000}\n"
     ]
    }
   ],
   "source": [
    "print(\"Creating a Dictionary using a Comprehension :- \")\n",
    "sal_info = {sal_data_keys[i] : sal_data_values[i] for i in range(0, len(sal_data_keys))}\n",
    "print(sal_info)"
   ]
  },
  {
   "cell_type": "markdown",
   "id": "0be5a79b-b531-4010-91ce-32e1f9e444c3",
   "metadata": {},
   "source": [
    "### B. Understanding Dictionary Comprehension with an example"
   ]
  },
  {
   "cell_type": "code",
   "execution_count": 100,
   "id": "ad879ca5-e9a8-42ca-8bf1-c8e4248ba09c",
   "metadata": {},
   "outputs": [
    {
     "name": "stdout",
     "output_type": "stream",
     "text": [
      "{'Portland': 110123, 'Atlanta': 112000}\n"
     ]
    }
   ],
   "source": [
    "## Using a for loop to filter the dictionary\n",
    "sal_100k = {}\n",
    "for k in sal_info:\n",
    "    if sal_info[k] > 100000:\n",
    "        sal_100k[k] = sal_info[k]\n",
    "print(sal_100k)"
   ]
  },
  {
   "cell_type": "code",
   "execution_count": 101,
   "id": "e2647bad-1954-42d9-8706-9a3f8b1a220b",
   "metadata": {},
   "outputs": [],
   "source": [
    "sal_100k.clear()"
   ]
  },
  {
   "cell_type": "code",
   "execution_count": 102,
   "id": "d5184267-84c2-4c58-9d9e-c7735668ffa5",
   "metadata": {},
   "outputs": [
    {
     "data": {
      "text/plain": [
       "{}"
      ]
     },
     "execution_count": 102,
     "metadata": {},
     "output_type": "execute_result"
    }
   ],
   "source": [
    "sal_100k"
   ]
  },
  {
   "cell_type": "code",
   "execution_count": 103,
   "id": "38c94ca7-5caf-402a-8823-b53864ad439f",
   "metadata": {},
   "outputs": [],
   "source": [
    "## Using Comprehension to filter the dictionary"
   ]
  },
  {
   "cell_type": "code",
   "execution_count": 105,
   "id": "b21cfd90-507d-40f5-a822-b287bc1a4d4a",
   "metadata": {},
   "outputs": [
    {
     "name": "stdout",
     "output_type": "stream",
     "text": [
      "{'Portland': 110123, 'Atlanta': 112000}\n"
     ]
    }
   ],
   "source": [
    "sal_100k = {k : v for k,v in sal_info.items() if v > 100000}\n",
    "print(sal_100k)"
   ]
  },
  {
   "cell_type": "markdown",
   "id": "2bd06fbc-9163-41f1-8594-32e5dba3b60c",
   "metadata": {},
   "source": [
    "### Challenge - 3"
   ]
  },
  {
   "cell_type": "code",
   "execution_count": 108,
   "id": "c4003863-8614-4438-834f-3b1cf40223cc",
   "metadata": {},
   "outputs": [
    {
     "name": "stdout",
     "output_type": "stream",
     "text": [
      "{'205': 380, '219': 15, '262': 20, '281': 40, '235': 13, '257': 27, '180': 27, '727': 12, '239': 25, '198': 17, '292': 14, '888': 11}\n",
      "The length of dictionary is  12\n"
     ]
    }
   ],
   "source": [
    "with open('TreeOrdersSubset.csv', mode  = 'r') as infile:\n",
    "    reader = csv.reader(infile)\n",
    "    treeOrders = {}\n",
    "    for row in reader:\n",
    "        key = row[0]\n",
    "\n",
    "        if(key not in treeOrders):\n",
    "            treeNum = row[1]\n",
    "            treeOrders[key] = int(treeNum)\n",
    "        else:\n",
    "            treeNum = row[1]\n",
    "            prev_count = treeOrders[key]\n",
    "            treeOrders[key] = int(prev_count) + int(treeNum)\n",
    "\n",
    "    #print(treeOrders.items())\n",
    "\n",
    "    infile.close()\n",
    "    # Customers of subdivisions ordering more than 10 tress\n",
    "    treeOrders10 = {k : v for k,v in treeOrders.items() if v > 10}\n",
    "    print(treeOrders10)\n",
    "    print(\"The length of dictionary is \", len(treeOrders10))"
   ]
  },
  {
   "cell_type": "code",
   "execution_count": null,
   "id": "7217c34b-067b-4766-b7e8-50b0ae4b5869",
   "metadata": {},
   "outputs": [],
   "source": []
  },
  {
   "cell_type": "code",
   "execution_count": null,
   "id": "c8ca8eb3-89d5-4abd-9e3d-4f496144d8d3",
   "metadata": {},
   "outputs": [],
   "source": []
  }
 ],
 "metadata": {
  "kernelspec": {
   "display_name": "Python 3 (ipykernel)",
   "language": "python",
   "name": "python3"
  },
  "language_info": {
   "codemirror_mode": {
    "name": "ipython",
    "version": 3
   },
   "file_extension": ".py",
   "mimetype": "text/x-python",
   "name": "python",
   "nbconvert_exporter": "python",
   "pygments_lexer": "ipython3",
   "version": "3.12.4"
  }
 },
 "nbformat": 4,
 "nbformat_minor": 5
}
