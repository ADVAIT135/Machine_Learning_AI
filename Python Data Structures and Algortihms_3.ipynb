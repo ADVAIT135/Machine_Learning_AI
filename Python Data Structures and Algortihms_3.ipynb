{
 "cells": [
  {
   "cell_type": "markdown",
   "id": "80066e35-45e2-4b17-9f57-cf913c5fdb98",
   "metadata": {},
   "source": [
    "# LinkedIn Learning \n",
    "# Python Data Structures and Algorithms_3"
   ]
  },
  {
   "cell_type": "markdown",
   "id": "e95bfe57-2853-444e-9194-3b03a24ef70c",
   "metadata": {},
   "source": [
    "## 6. The Priority Queue Data Structure"
   ]
  },
  {
   "cell_type": "markdown",
   "id": "4275e160-e136-4abc-a1f5-0e3aaf126565",
   "metadata": {},
   "source": [
    "### A. Operations"
   ]
  },
  {
   "cell_type": "markdown",
   "id": "00cf04b6-9d79-4bdb-80df-399810f392d3",
   "metadata": {},
   "source": [
    "#### 1. get() : retrieve the item with the highest priority\n",
    "#### 2. put(item) : add item to priority queue\n",
    "#### 3. is_empty(): determine if the priority queue is empty"
   ]
  },
  {
   "cell_type": "markdown",
   "id": "28472039-47ce-4bcf-8d19-448cc98cbb03",
   "metadata": {},
   "source": [
    "### B. Use the heap Module to implement a priority queue"
   ]
  },
  {
   "cell_type": "code",
   "execution_count": 1,
   "id": "2258dbdb-ab79-4643-a0f8-4c00ccc1d883",
   "metadata": {},
   "outputs": [],
   "source": [
    "import heapq"
   ]
  },
  {
   "cell_type": "code",
   "execution_count": 4,
   "id": "2f17057d-3314-42c6-b375-cf75d83658e5",
   "metadata": {},
   "outputs": [
    {
     "name": "stdout",
     "output_type": "stream",
     "text": [
      "[]\n",
      "True\n",
      "[(1, 'code'), (2, 'eat'), (3, 'sleep')]\n",
      "code\n",
      "eat\n",
      "sleep\n",
      "[]\n"
     ]
    }
   ],
   "source": [
    "class PriorityQueue:\n",
    "    def __init__(self):\n",
    "        self.elements = []\n",
    "\n",
    "    def is_empty(self):\n",
    "        return not self.elements\n",
    "\n",
    "    def put(self, item, priority):\n",
    "        heapq.heappush(self.elements, (priority, item))\n",
    "\n",
    "    def get(self):\n",
    "        return heapq.heappop(self.elements)[1]\n",
    "\n",
    "    def __str__(self):\n",
    "        return str(self.elements)\n",
    "\n",
    "if __name__ == \"__main__\":\n",
    "    pq = PriorityQueue()\n",
    "    print(pq)\n",
    "    print(pq.is_empty())\n",
    "\n",
    "    # Item, Priority\n",
    "    pq.put(\"eat\", 2)\n",
    "    pq.put(\"code\", 1)\n",
    "    pq.put(\"sleep\", 3)\n",
    "\n",
    "    print(pq)\n",
    "\n",
    "    print(pq.get())\n",
    "    print(pq.get())\n",
    "    print(pq.get())\n",
    "\n",
    "    print(pq)"
   ]
  },
  {
   "cell_type": "markdown",
   "id": "af0b8dba-7712-4a74-a6a4-317883d363f5",
   "metadata": {},
   "source": [
    "### C. Challenge"
   ]
  },
  {
   "cell_type": "code",
   "execution_count": 8,
   "id": "7cebb04a-59cc-43d5-870c-63d93242712b",
   "metadata": {},
   "outputs": [],
   "source": [
    "tasks = [(\"drink\", 2), (\"eat\", 1), (\"be merry\", 3)]\n",
    "def process_task(tasks):\n",
    "    pq = PriorityQueue()\n",
    "    for task, priority in tasks:\n",
    "        pq.put(task, priority)\n",
    "    ordered_task_list = []\n",
    "    while not pq.is_empty():\n",
    "        task = pq.get()\n",
    "        ordered_task_list.append(task)\n",
    "    print(ordered_task_list)"
   ]
  },
  {
   "cell_type": "code",
   "execution_count": 9,
   "id": "a8024c26-32a7-40fd-9537-fdb89bbd75fc",
   "metadata": {},
   "outputs": [
    {
     "name": "stdout",
     "output_type": "stream",
     "text": [
      "['eat', 'drink', 'be merry']\n"
     ]
    }
   ],
   "source": [
    "process_task(tasks)"
   ]
  },
  {
   "cell_type": "markdown",
   "id": "c20c1244-1e1b-4e60-9aba-7436d87b174c",
   "metadata": {},
   "source": [
    "## 7. The A* Search Algorithm"
   ]
  },
  {
   "cell_type": "markdown",
   "id": "a7a1f4a0-e6bb-41a3-8eaa-18cc5de1aac8",
   "metadata": {},
   "source": [
    "### A. Key Values in the A* Algorithm\n",
    "#### 1. <u>G Value </u>: Best Distance from start to current cell\n",
    "#### 2. <u>H Value </u>: Heuristic Distance from current cell to destination \n",
    "#### 3. <u>F Value </u>: The sum of G value and H value (representing the probable optimal value or minimum distance based on the heuristic used)"
   ]
  },
  {
   "cell_type": "markdown",
   "id": "17efb42b-ca62-4d1f-9775-87910c48573b",
   "metadata": {},
   "source": [
    "### B. Algorithm: -\n",
    "#### PQ : [(Cell, F-Value)]\n",
    "#### 1. Get the Highest Priority item from PQ (min F-Value)\n",
    "#### 2. Is it the goal?\n",
    "#### 3. If so, we are done\n",
    "#### 4. Otherwise, put undiscovered neighbors -> calculate F - values -> Update Predecessors\n",
    "#### 5. Repeat until Queue is empty"
   ]
  },
  {
   "cell_type": "markdown",
   "id": "c1c0b827-d414-4706-93fe-4b56057ede47",
   "metadata": {},
   "source": [
    "### C. Code A* Search Algorithm in Python"
   ]
  },
  {
   "cell_type": "code",
   "execution_count": 10,
   "id": "95fd23b6-10b0-4a60-adf1-8b644d4aab75",
   "metadata": {},
   "outputs": [],
   "source": [
    "class PriorityQueue:\n",
    "    def __init__(self):\n",
    "        self.elements = []\n",
    "\n",
    "    def is_empty(self):\n",
    "        return not self.elements\n",
    "\n",
    "    def put(self, item, priority):\n",
    "        heapq.heappush(self.elements, (priority, item))\n",
    "\n",
    "    def get(self):\n",
    "        return heapq.heappop(self.elements)[1]\n",
    "\n",
    "    def __str__(self):\n",
    "        return str(self.elements)"
   ]
  },
  {
   "cell_type": "code",
   "execution_count": 11,
   "id": "861537be-1147-46aa-ba39-304513e2b030",
   "metadata": {},
   "outputs": [],
   "source": [
    "offsets = {\n",
    "    \"right\" : (0,1),\n",
    "    \"left\" : (0,-1),\n",
    "    \"up\" : (-1, 0),\n",
    "    \"down\" : (1,0)\n",
    "}\n",
    "\n",
    "\n",
    "def read_maze(file_name):\n",
    "    try:\n",
    "        with open(file_name) as fh:\n",
    "            maze = [[char for char in line.strip(\"\\n\")] for line in fh]\n",
    "            num_cols_top_row = len(maze[0])\n",
    "            for row in maze:\n",
    "                if len(row) != num_cols_top_row:\n",
    "                    print(\"The maze is not rectangular.\")\n",
    "                    raise SystemExit\n",
    "            return maze\n",
    "    except IOError:\n",
    "        print(\"There is a problem with the file you have selected.\")\n",
    "        raise SystemExit\n",
    "\n",
    "def is_legal_pos(maze, pos):\n",
    "    i, j = pos\n",
    "    num_rows = len(maze)\n",
    "    num_cols = len(maze[0])\n",
    "    return 0 <= i < num_rows and 0 <= j < num_cols and maze[i][j] != \"*\"\n",
    "\n",
    "def get_path(predecessors, start, goal):\n",
    "    current = goal\n",
    "    path = []\n",
    "    while current != start:\n",
    "        path.append(current)\n",
    "        current = predecessors[current]\n",
    "    path.append(start)\n",
    "    path.reverse()\n",
    "    return path\n"
   ]
  },
  {
   "cell_type": "code",
   "execution_count": 12,
   "id": "ec5905c4-66b5-40d8-9523-9a5bac0ab824",
   "metadata": {},
   "outputs": [],
   "source": [
    "def heuristic(a,b):\n",
    "    x1, y1 = a\n",
    "    x2, y2 = b\n",
    "    return abs(x1 - x2) + abs(y1 - y2)"
   ]
  },
  {
   "cell_type": "code",
   "execution_count": 13,
   "id": "e10b9964-d987-4999-b454-4781f6d72cbe",
   "metadata": {},
   "outputs": [],
   "source": [
    "def a_star(maze, start, goal):\n",
    "    pq = PriorityQueue()\n",
    "    pq.put(start, 0)\n",
    "    predecessors = {start : None}\n",
    "    g_values = {start : 0}\n",
    "\n",
    "    while not pq.is_empty():\n",
    "        current_cell = pq.get()\n",
    "        if current_cell == goal:\n",
    "            return get_path(predecessors, start, goal)\n",
    "        for direction in [\"up\", \"right\", \"down\", \"left\"]:\n",
    "            row_offset, col_offset = offsets[direction]\n",
    "            neighbor = (current_cell[0] + row_offset, current_cell[1] + col_offset)\n",
    "            if is_legal_pos(maze, neighbor) and neighbor not in g_values:\n",
    "                new_cost = g_values[current_cell] + 1\n",
    "                g_values[neighbor] = new_cost\n",
    "                f_value = new_cost + heuristic(goal, neighbor)\n",
    "                pq.put(neighbor, f_value)\n",
    "                predecessors[neighbor] = current_cell\n",
    "    return None"
   ]
  },
  {
   "cell_type": "code",
   "execution_count": 14,
   "id": "cc8f19f0-5706-4e3d-9913-a4e25379659d",
   "metadata": {},
   "outputs": [
    {
     "name": "stdout",
     "output_type": "stream",
     "text": [
      "[' ', '*', ' ']\n",
      "[' ', ' ', ' ']\n",
      "[' ', ' ', ' ']\n"
     ]
    }
   ],
   "source": [
    "if __name__ == \"__main__\":\n",
    "    # Test 1\n",
    "    maze = [[0] * 3 for row in range(3)]\n",
    "    start_pos = (0,0)\n",
    "    goal_pos = (2,2)\n",
    "    result = a_star(maze, start_pos, goal_pos)\n",
    "    assert result == [(0,0), (0,1), (0,2), (1,2), (2,2)]\n",
    "\n",
    "    # Test 2\n",
    "    maze = read_maze(r\"C:\\Users\\Advait\\Desktop\\LinkedIn Learning HSBC\\Python Data Structures and Algorithms\\Ex_Files_Python_Data_Structures\\Ex_Files_Python_Data_Structures\\Exercise Files\\04_04_begin\\mazes\\mini_maze_bfs.txt\")\n",
    "    for row in maze:\n",
    "        print(row)\n",
    "    start_pos = (0,0)\n",
    "    goal_pos = (2,2)\n",
    "    result = a_star(maze, start_pos, goal_pos)\n",
    "    assert result == [(0,0), (1,0), (1,1), (1,2), (2,2)]\n",
    "\n",
    "    # Test 3\n",
    "    maze = read_maze(r\"C:\\Users\\Advait\\Desktop\\LinkedIn Learning HSBC\\Python Data Structures and Algorithms\\Ex_Files_Python_Data_Structures\\Ex_Files_Python_Data_Structures\\Exercise Files\\04_04_begin\\mazes\\mini_maze_bfs.txt\")\n",
    "    start_pos = (0,0)\n",
    "    goal_pos = (3,3)\n",
    "    result = a_star(maze, start_pos, goal_pos)\n",
    "    assert result is None\n"
   ]
  },
  {
   "cell_type": "code",
   "execution_count": null,
   "id": "f6ab1344-a42a-41d7-86d4-f1f439389c39",
   "metadata": {},
   "outputs": [],
   "source": []
  }
 ],
 "metadata": {
  "kernelspec": {
   "display_name": "Python 3 (ipykernel)",
   "language": "python",
   "name": "python3"
  },
  "language_info": {
   "codemirror_mode": {
    "name": "ipython",
    "version": 3
   },
   "file_extension": ".py",
   "mimetype": "text/x-python",
   "name": "python",
   "nbconvert_exporter": "python",
   "pygments_lexer": "ipython3",
   "version": "3.12.4"
  }
 },
 "nbformat": 4,
 "nbformat_minor": 5
}
